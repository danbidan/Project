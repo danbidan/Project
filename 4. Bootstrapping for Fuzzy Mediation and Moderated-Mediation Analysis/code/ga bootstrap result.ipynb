{
 "cells": [
  {
   "cell_type": "code",
   "execution_count": 72,
   "id": "7f86bb4a",
   "metadata": {},
   "outputs": [],
   "source": [
    "import numpy as np\n",
    "import pandas as pd"
   ]
  },
  {
   "cell_type": "code",
   "execution_count": 71,
   "id": "87590ed5",
   "metadata": {},
   "outputs": [],
   "source": [
    "data = pd.read_csv(\"C:/Users/mjsk1/Desktop/BOOTT/solar.txt\")\n",
    "data.head\n",
    "data=data.rename(columns={'cloud cover':'sky_cover'})"
   ]
  },
  {
   "cell_type": "markdown",
   "id": "1e1a02ee",
   "metadata": {},
   "source": [
    "# solar data L1 boot Result"
   ]
  },
  {
   "cell_type": "code",
   "execution_count": 33,
   "id": "3572eb64",
   "metadata": {},
   "outputs": [],
   "source": [
    "fbi=np.load('C:/Users/mjsk1/Desktop/ga/solar_l1m/bi.npy',allow_pickle=True)\n",
    "a=np.load('C:/Users/mjsk1/Desktop/ga/solar_l1m/b.npy',allow_pickle=True)\n"
   ]
  },
  {
   "cell_type": "code",
   "execution_count": 34,
   "id": "5cf0f387",
   "metadata": {},
   "outputs": [],
   "source": [
    "bi=np.load('C:/Users/mjsk1/Desktop/ga/solar_l1/bi.npy',allow_pickle=True)\n",
    "b=np.load('C:/Users/mjsk1/Desktop/ga/solar_l1/b.npy',allow_pickle=True)\n",
    "c1=np.load('C:/Users/mjsk1/Desktop/ga/solar_l1/c1.npy',allow_pickle=True)\n",
    "c2=np.load('C:/Users/mjsk1/Desktop/ga/solar_l1/c2.npy',allow_pickle=True)\n",
    "c3=np.load('C:/Users/mjsk1/Desktop/ga/solar_l1/c3.npy',allow_pickle=True)"
   ]
  },
  {
   "cell_type": "code",
   "execution_count": 35,
   "id": "902075c7",
   "metadata": {},
   "outputs": [],
   "source": [
    "b= b.tolist()\n",
    "c1= c1.tolist()\n",
    "c2= c2.tolist()\n",
    "c3= c3.tolist()\n",
    "bi= bi.tolist()\n",
    "a= a.tolist()\n",
    "fbi= fbi.tolist()\n"
   ]
  },
  {
   "cell_type": "code",
   "execution_count": 36,
   "id": "6ee3d9ae",
   "metadata": {},
   "outputs": [],
   "source": [
    "b=np.array(b)\n",
    "c1=np.array(c1)\n",
    "c2=np.array(c2)\n",
    "c3=np.array(c3)\n",
    "bi=np.array(bi)\n",
    "fbi=np.array(fbi)\n",
    "a=np.array(a)"
   ]
  },
  {
   "cell_type": "code",
   "execution_count": 37,
   "id": "309ac975",
   "metadata": {},
   "outputs": [],
   "source": [
    "b=np.asarray(b,dtype=np.float64)\n",
    "c1=np.asarray(c1,dtype=np.float64)\n",
    "c2=np.asarray(c2,dtype=np.float64)\n",
    "c3=np.asarray(c3,dtype=np.float64)\n",
    "bi=np.asarray(bi,dtype=np.float64)"
   ]
  },
  {
   "cell_type": "code",
   "execution_count": 38,
   "id": "3768d294",
   "metadata": {},
   "outputs": [],
   "source": [
    "b=np.nanmean(b)\n",
    "bi=np.nanmean(bi)\n",
    "c1=np.nanmean(c1)\n",
    "c2=np.nanmean(c2)\n",
    "c3=np.nanmean(c3)"
   ]
  },
  {
   "cell_type": "markdown",
   "id": "de47d216",
   "metadata": {},
   "source": [
    "## 회귀계수들"
   ]
  },
  {
   "cell_type": "code",
   "execution_count": 39,
   "id": "642a36f1",
   "metadata": {},
   "outputs": [
    {
     "name": "stdout",
     "output_type": "stream",
     "text": [
      "0.8750810362374009 -0.49001435381707725 0.6518300951702062 0.3624751995696361 -0.010213214723311527 0.02878404870787283 -0.8330917123392713\n"
     ]
    }
   ],
   "source": [
    "a=a.mean()\n",
    "fbi=fbi.mean()\n",
    "print(fbi,a,bi,c1,c2,c3,b)"
   ]
  },
  {
   "cell_type": "code",
   "execution_count": 40,
   "id": "dd1f0927",
   "metadata": {},
   "outputs": [],
   "source": [
    "te=data['temp']\n",
    "spreadx= [None] * 1332\n",
    "for i in range(0,1331):\n",
    "  spreadx[i]= (np.abs(te[i+1]-te[i]))/2\n",
    "spreadx[1331]=spreadx[1330]\n",
    "x1= te-spreadx\n",
    "x2= te+spreadx\n",
    "xdf=pd.DataFrame({'a':x1,'b':te,'c':x2})\n",
    "xa=xdf[xdf['a']< 0]\n",
    "xdf.loc[xa.index,'a']=0\n",
    "x=xdf.to_numpy()\n",
    "\n",
    "hu=data['humidity']\n",
    "spreadm= [None] * 1332\n",
    "for i in range(0,1331):\n",
    "  spreadm[i]= (np.abs(hu[i+1]-hu[i]))/2\n",
    "spreadm[1331]=spreadm[1330]\n",
    "m1= hu-spreadm\n",
    "m2= hu+spreadm\n",
    "mdf=pd.DataFrame({'a':m1,'b':hu,'c':m2})\n",
    "ma=mdf[mdf['a']< 0]\n",
    "mdf.loc[ma.index,'a']=0\n",
    "m=mdf.to_numpy()\n",
    "\n",
    "# 종속변수\n",
    "hu=data['humidity']\n",
    "spreadm= [None] * 1332\n",
    "for i in range(0,1331):\n",
    "  spreadm[i]= (np.abs(hu[i+1]-hu[i]))/2\n",
    "spreadm[1331]=spreadm[1330]\n",
    "m1= hu-spreadm\n",
    "m2= hu+spreadm\n",
    "mdf=pd.DataFrame({'a':m1,'b':hu,'c':m2})\n",
    "ma=mdf[mdf['a']< 0]\n",
    "mdf.loc[ma.index,'a']=0\n",
    "m=mdf.to_numpy()\n",
    "\n",
    "power=data['day_power']\n",
    "ydf=pd.DataFrame({'a':power,'b':power,'c':power})\n",
    "y= ydf.to_numpy()\n",
    "# 조절변수\n",
    "cl=data['sky_cover']\n",
    "w1= cl-1\n",
    "w2= cl+1\n",
    "wdf=pd.DataFrame({'a':w1,'b':cl,'c':w2})\n",
    "wa=wdf[wdf['a']< 1]\n",
    "wdf.loc[wa.index,'a']=1\n",
    "wc=wdf[wdf['c']> 8]\n",
    "wdf.loc[wc.index,'c']=8\n",
    "w=wdf.to_numpy()\n",
    "ones=np.ones(shape=(1332,3))\n",
    "def dc(a,b):\n",
    "  c=a*b\n",
    "  sum=c.sum()\n",
    "  return sum\n",
    "\n",
    "xw=x*w"
   ]
  },
  {
   "cell_type": "code",
   "execution_count": 41,
   "id": "465ef118",
   "metadata": {},
   "outputs": [],
   "source": [
    "m= fbi + a*m"
   ]
  },
  {
   "cell_type": "markdown",
   "id": "42606b29",
   "metadata": {},
   "source": [
    "### RMSE"
   ]
  },
  {
   "cell_type": "code",
   "execution_count": 42,
   "id": "cc6304d2",
   "metadata": {},
   "outputs": [
    {
     "name": "stdout",
     "output_type": "stream",
     "text": [
      "0.4305000966267258\n"
     ]
    }
   ],
   "source": [
    "y_h= bi + c1 * x + c2 * w + c3 * xw + b * m\n",
    "MSE = np.sqrt(((y-y_h)**2).sum(axis=1).sum()/1332)\n",
    "print(MSE)"
   ]
  },
  {
   "cell_type": "markdown",
   "id": "38ab2528",
   "metadata": {},
   "source": [
    "### MAE"
   ]
  },
  {
   "cell_type": "code",
   "execution_count": 43,
   "id": "4ff5e498",
   "metadata": {},
   "outputs": [
    {
     "name": "stdout",
     "output_type": "stream",
     "text": [
      "0.6328389233244668\n"
     ]
    }
   ],
   "source": [
    "abs=np.abs(y-y_h)\n",
    "mae=abs.sum(axis=1).sum()/1332\n",
    "print(mae)"
   ]
  },
  {
   "cell_type": "markdown",
   "id": "32511df4",
   "metadata": {},
   "source": [
    "#  solar data L2 boot Result"
   ]
  },
  {
   "cell_type": "code",
   "execution_count": 64,
   "id": "b5438511",
   "metadata": {},
   "outputs": [],
   "source": [
    "fbi=np.load('C:/Users/mjsk1/Desktop/ga/solar_l2m/bi.npy',allow_pickle=True)\n",
    "a=np.load('C:/Users/mjsk1/Desktop/ga/solar_l2m/b.npy',allow_pickle=True)\n",
    "bi=np.load('C:/Users/mjsk1/Desktop/ga/solar_l2/bi.npy',allow_pickle=True)\n",
    "b=np.load('C:/Users/mjsk1/Desktop/ga/solar_l2/b.npy',allow_pickle=True)\n",
    "c1=np.load('C:/Users/mjsk1/Desktop/ga/solar_l2/c1.npy',allow_pickle=True)\n",
    "c2=np.load('C:/Users/mjsk1/Desktop/ga/solar_l2/c2.npy',allow_pickle=True)\n",
    "c3=np.load('C:/Users/mjsk1/Desktop/ga/solar_l2/c3.npy',allow_pickle=True)"
   ]
  },
  {
   "cell_type": "code",
   "execution_count": 65,
   "id": "a6dc4ca2",
   "metadata": {},
   "outputs": [],
   "source": [
    "b= b.tolist()\n",
    "c1= c1.tolist()\n",
    "c2= c2.tolist()\n",
    "c3= c3.tolist()\n",
    "bi= bi.tolist()\n",
    "a= a.tolist()\n",
    "fbi= fbi.tolist()"
   ]
  },
  {
   "cell_type": "code",
   "execution_count": 66,
   "id": "3f8cc00b",
   "metadata": {},
   "outputs": [],
   "source": [
    "b=np.array(b)\n",
    "c1=np.array(c1)\n",
    "c2=np.array(c2)\n",
    "c3=np.array(c3)\n",
    "bi=np.array(bi)\n",
    "fbi=np.array(fbi)\n",
    "a=np.array(a)"
   ]
  },
  {
   "cell_type": "code",
   "execution_count": 67,
   "id": "08d17749",
   "metadata": {},
   "outputs": [],
   "source": [
    "b=np.asarray(b,dtype=np.float64)\n",
    "c1=np.asarray(c1,dtype=np.float64)\n",
    "c2=np.asarray(c2,dtype=np.float64)\n",
    "c3=np.asarray(c3,dtype=np.float64)\n",
    "bi=np.asarray(bi,dtype=np.float64)"
   ]
  },
  {
   "cell_type": "code",
   "execution_count": 68,
   "id": "c138830f",
   "metadata": {},
   "outputs": [],
   "source": [
    "b=np.nanmean(b)\n",
    "bi=np.nanmean(bi)\n",
    "c1=np.nanmean(c1)\n",
    "c2=np.nanmean(c2)\n",
    "c3=np.nanmean(c3)"
   ]
  },
  {
   "cell_type": "code",
   "execution_count": 69,
   "id": "fa63b8d0",
   "metadata": {},
   "outputs": [
    {
     "name": "stdout",
     "output_type": "stream",
     "text": [
      "0.8311120172315989 -0.4247103234771458 0.6344895629523878 0.37836790697890316 -0.011765922000563657 0.03138308016982617 -0.8014645501822569\n"
     ]
    }
   ],
   "source": [
    "a=a.mean()\n",
    "fbi=fbi.mean()\n",
    "print(fbi,a,bi,c1,c2,c3,b)"
   ]
  },
  {
   "cell_type": "code",
   "execution_count": 73,
   "id": "4ad76aaa",
   "metadata": {},
   "outputs": [],
   "source": [
    "te=data['temp']\n",
    "spreadx= [None] * 1332\n",
    "for i in range(0,1331):\n",
    "  spreadx[i]= (np.abs(te[i+1]-te[i]))/2\n",
    "spreadx[1331]=spreadx[1330]\n",
    "x1= te-spreadx\n",
    "x2= te+spreadx\n",
    "xdf=pd.DataFrame({'a':x1,'b':te,'c':x2})\n",
    "xa=xdf[xdf['a']< 0]\n",
    "xdf.loc[xa.index,'a']=0\n",
    "x=xdf.to_numpy()\n",
    "\n",
    "hu=data['humidity']\n",
    "spreadm= [None] * 1332\n",
    "for i in range(0,1331):\n",
    "  spreadm[i]= (np.abs(hu[i+1]-hu[i]))/2\n",
    "spreadm[1331]=spreadm[1330]\n",
    "m1= hu-spreadm\n",
    "m2= hu+spreadm\n",
    "mdf=pd.DataFrame({'a':m1,'b':hu,'c':m2})\n",
    "ma=mdf[mdf['a']< 0]\n",
    "mdf.loc[ma.index,'a']=0\n",
    "m=mdf.to_numpy()\n",
    "\n",
    "# 종속변수\n",
    "hu=data['humidity']\n",
    "spreadm= [None] * 1332\n",
    "for i in range(0,1331):\n",
    "  spreadm[i]= (np.abs(hu[i+1]-hu[i]))/2\n",
    "spreadm[1331]=spreadm[1330]\n",
    "m1= hu-spreadm\n",
    "m2= hu+spreadm\n",
    "mdf=pd.DataFrame({'a':m1,'b':hu,'c':m2})\n",
    "ma=mdf[mdf['a']< 0]\n",
    "mdf.loc[ma.index,'a']=0\n",
    "m=mdf.to_numpy()\n",
    "\n",
    "power=data['day_power']\n",
    "ydf=pd.DataFrame({'a':power,'b':power,'c':power})\n",
    "y= ydf.to_numpy()\n",
    "# 조절변수\n",
    "cl=data['sky_cover']\n",
    "w1= cl-1\n",
    "w2= cl+1\n",
    "wdf=pd.DataFrame({'a':w1,'b':cl,'c':w2})\n",
    "wa=wdf[wdf['a']< 1]\n",
    "wdf.loc[wa.index,'a']=1\n",
    "wc=wdf[wdf['c']> 8]\n",
    "wdf.loc[wc.index,'c']=8\n",
    "w=wdf.to_numpy()\n",
    "ones=np.ones(shape=(1332,3))\n",
    "def dc(a,b):\n",
    "  c=a*b\n",
    "  sum=c.sum()\n",
    "  return sum\n",
    "\n",
    "xw=x*w"
   ]
  },
  {
   "cell_type": "code",
   "execution_count": 74,
   "id": "7c273c0f",
   "metadata": {},
   "outputs": [],
   "source": [
    "m= fbi + a*m"
   ]
  },
  {
   "cell_type": "code",
   "execution_count": 75,
   "id": "cdceeb70",
   "metadata": {},
   "outputs": [
    {
     "name": "stdout",
     "output_type": "stream",
     "text": [
      "0.4143415289217363\n"
     ]
    }
   ],
   "source": [
    "y_h= bi + c1 * x + c2 * w + c3 * xw + b * m\n",
    "MSE = np.sqrt(((y-y_h)**2).sum(axis=1).sum()/1332)\n",
    "print(MSE)"
   ]
  },
  {
   "cell_type": "code",
   "execution_count": 76,
   "id": "c94bb682",
   "metadata": {},
   "outputs": [
    {
     "name": "stdout",
     "output_type": "stream",
     "text": [
      "0.6105381177494157\n"
     ]
    }
   ],
   "source": [
    "abs=np.abs(y-y_h)\n",
    "mae=abs.sum(axis=1).sum()/1332\n",
    "print(mae)"
   ]
  },
  {
   "cell_type": "markdown",
   "id": "8b4b184c",
   "metadata": {},
   "source": [
    "# team data L1 boot Result"
   ]
  },
  {
   "cell_type": "code",
   "execution_count": 46,
   "id": "141cadc2",
   "metadata": {},
   "outputs": [],
   "source": [
    "data = pd.read_csv(\"C:/Users/mjsk1/Desktop/BOOTT/teams.csv\")\n",
    "df=data['dysfunc']\n",
    "xdf=pd.DataFrame({'a':df-0.05,'b':df,'c':df+0.05})\n",
    "x=xdf.to_numpy()\n",
    "net=data['negtone']\n",
    "mdf=pd.DataFrame({'a':net-0.05,'b':net,'c':net+0.05})\n",
    "m=mdf.to_numpy()\n",
    "per=data['perform']\n",
    "ydf=pd.DataFrame({'a':per-0.05,'b':per,'c':per+0.05})\n",
    "y=ydf.to_numpy()"
   ]
  },
  {
   "cell_type": "code",
   "execution_count": 47,
   "id": "171891b2",
   "metadata": {},
   "outputs": [],
   "source": [
    "fbi=np.load('C:/Users/mjsk1/Desktop/ga/team_l1m/bi.npy',allow_pickle=True)\n",
    "a=np.load('C:/Users/mjsk1/Desktop/ga/team_l1m/b.npy',allow_pickle=True)\n"
   ]
  },
  {
   "cell_type": "code",
   "execution_count": 48,
   "id": "86eb1f90",
   "metadata": {},
   "outputs": [],
   "source": [
    "bi=np.load('C:/Users/mjsk1/Desktop/ga/team_l1/bi_boot.npy',allow_pickle=True)\n",
    "b=np.load('C:/Users/mjsk1/Desktop/ga/team_l1/b_boot.npy',allow_pickle=True)\n",
    "c=np.load('C:/Users/mjsk1/Desktop/ga/team_l1/c_boot.npy',allow_pickle=True)"
   ]
  },
  {
   "cell_type": "code",
   "execution_count": 49,
   "id": "5310d464",
   "metadata": {},
   "outputs": [],
   "source": [
    "b= b.tolist()\n",
    "c= c.tolist()\n",
    "bi= bi.tolist()\n",
    "fbi= fbi.tolist()\n",
    "a= a.tolist()"
   ]
  },
  {
   "cell_type": "code",
   "execution_count": 50,
   "id": "9d85c18a",
   "metadata": {},
   "outputs": [],
   "source": [
    "b=np.array(b)\n",
    "c=np.array(c)\n",
    "bi=np.array(bi)\n",
    "fbi=np.array(fbi)\n",
    "a=np.array(a)"
   ]
  },
  {
   "cell_type": "code",
   "execution_count": 51,
   "id": "df28c581",
   "metadata": {},
   "outputs": [],
   "source": [
    "b=b.mean()\n",
    "bi=bi.mean()\n",
    "c=c.mean()\n",
    "fbi=fbi.mean()\n",
    "a=a.mean()"
   ]
  },
  {
   "cell_type": "code",
   "execution_count": 52,
   "id": "219f96b1",
   "metadata": {},
   "outputs": [
    {
     "name": "stdout",
     "output_type": "stream",
     "text": [
      "-0.03829150475732514 0.5804074428489518 -0.03383733941004852 0.4231831924235539 -0.4793487036580074\n"
     ]
    }
   ],
   "source": [
    "print(fbi,a,bi,c,b)"
   ]
  },
  {
   "cell_type": "code",
   "execution_count": 53,
   "id": "c7ee6245",
   "metadata": {},
   "outputs": [],
   "source": [
    "m= fbi + a*m"
   ]
  },
  {
   "cell_type": "code",
   "execution_count": 54,
   "id": "5714525a",
   "metadata": {},
   "outputs": [
    {
     "name": "stdout",
     "output_type": "stream",
     "text": [
      "0.8174635970426386\n"
     ]
    }
   ],
   "source": [
    "y_h= bi + c * x + b * m\n",
    "MSE = np.sqrt(((y-y_h)**2).sum(axis=1).sum()/60)\n",
    "print(MSE)"
   ]
  },
  {
   "cell_type": "code",
   "execution_count": 55,
   "id": "065f1795",
   "metadata": {},
   "outputs": [
    {
     "name": "stdout",
     "output_type": "stream",
     "text": [
      "1.0989423531576235\n"
     ]
    }
   ],
   "source": [
    "abs=np.abs(y-y_h)\n",
    "mae=abs.sum(axis=1).sum()/60\n",
    "print(mae)"
   ]
  },
  {
   "cell_type": "markdown",
   "id": "a08e2f91",
   "metadata": {},
   "source": [
    "#  team data L2 boot Result"
   ]
  },
  {
   "cell_type": "code",
   "execution_count": 56,
   "id": "eb10fe92",
   "metadata": {},
   "outputs": [],
   "source": [
    "bi=np.load('C:/Users/mjsk1/Desktop/ga/team_l2/bi.npy',allow_pickle=True)\n",
    "b=np.load('C:/Users/mjsk1/Desktop/ga/team_l2/b.npy',allow_pickle=True)\n",
    "c=np.load('C:/Users/mjsk1/Desktop/ga/team_l2/c.npy',allow_pickle=True)"
   ]
  },
  {
   "cell_type": "code",
   "execution_count": 57,
   "id": "37ec287a",
   "metadata": {},
   "outputs": [],
   "source": [
    "fbi=np.load('C:/Users/mjsk1/Desktop/ga/team_l2m/bi.npy',allow_pickle=True)\n",
    "a=np.load('C:/Users/mjsk1/Desktop/ga/team_l2m/b.npy',allow_pickle=True)\n"
   ]
  },
  {
   "cell_type": "code",
   "execution_count": 58,
   "id": "15e90929",
   "metadata": {},
   "outputs": [],
   "source": [
    "b= b.tolist()\n",
    "c= c.tolist()\n",
    "bi= bi.tolist()\n",
    "fbi= fbi.tolist()\n",
    "a= a.tolist()\n",
    "b=np.array(b)\n",
    "c=np.array(c)\n",
    "bi=np.array(bi)\n",
    "fbi=np.array(fbi)\n",
    "a=np.array(a)\n",
    "b=b.mean()\n",
    "bi=bi.mean()\n",
    "c=c.mean()\n",
    "fbi=fbi.mean()\n",
    "a=a.mean()"
   ]
  },
  {
   "cell_type": "code",
   "execution_count": 59,
   "id": "6df106c1",
   "metadata": {},
   "outputs": [
    {
     "name": "stdout",
     "output_type": "stream",
     "text": [
      "0.026642024263471377 0.6316297459178418 -0.019668574991787553 0.4197813775249372 -0.5171361716362408\n"
     ]
    }
   ],
   "source": [
    "print(fbi,a,bi,c,b)"
   ]
  },
  {
   "cell_type": "code",
   "execution_count": 60,
   "id": "3f1264a9",
   "metadata": {},
   "outputs": [
    {
     "name": "stdout",
     "output_type": "stream",
     "text": [
      "0.8134673244504229\n"
     ]
    }
   ],
   "source": [
    "y_h= bi + c * x + b * m\n",
    "MSE = np.sqrt(((y-y_h)**2).sum(axis=1).sum()/60)\n",
    "print(MSE)"
   ]
  },
  {
   "cell_type": "code",
   "execution_count": 61,
   "id": "f2e3a0c5",
   "metadata": {},
   "outputs": [
    {
     "name": "stdout",
     "output_type": "stream",
     "text": [
      "1.0968368436371059\n"
     ]
    }
   ],
   "source": [
    "abs=np.abs(y-y_h)\n",
    "mae=abs.sum(axis=1).sum()/60\n",
    "print(mae)"
   ]
  },
  {
   "cell_type": "code",
   "execution_count": null,
   "id": "ac9d5368",
   "metadata": {},
   "outputs": [],
   "source": []
  }
 ],
 "metadata": {
  "kernelspec": {
   "display_name": "Python 3 (ipykernel)",
   "language": "python",
   "name": "python3"
  },
  "language_info": {
   "codemirror_mode": {
    "name": "ipython",
    "version": 3
   },
   "file_extension": ".py",
   "mimetype": "text/x-python",
   "name": "python",
   "nbconvert_exporter": "python",
   "pygments_lexer": "ipython3",
   "version": "3.7.16"
  }
 },
 "nbformat": 4,
 "nbformat_minor": 5
}
