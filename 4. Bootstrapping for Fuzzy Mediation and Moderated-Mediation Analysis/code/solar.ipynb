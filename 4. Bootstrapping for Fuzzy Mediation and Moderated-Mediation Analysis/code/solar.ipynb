{
  "cells": [
    {
      "cell_type": "markdown",
      "metadata": {
        "id": "view-in-github",
        "colab_type": "text"
      },
      "source": [
        "<a href=\"https://colab.research.google.com/github/KangHyeonGu1/-/blob/main/solar.ipynb\" target=\"_parent\"><img src=\"https://colab.research.google.com/assets/colab-badge.svg\" alt=\"Open In Colab\"/></a>"
      ]
    },
    {
      "cell_type": "code",
      "execution_count": 2,
      "metadata": {
        "id": "eCWSAJDVTG-h"
      },
      "outputs": [],
      "source": [
        "import pandas as pd\n",
        "import numpy as np\n",
        "import seaborn as sns\n",
        "from statsmodels.formula.api import ols\n",
        "import scipy.stats as stats\n",
        "data = pd.read_csv(\"solar.txt\")\n",
        "data.head\n",
        "data=data.rename(columns={'cloud cover':'cloudcover'})\n"
      ]
    },
    {
      "cell_type": "code",
      "execution_count": 3,
      "metadata": {
        "colab": {
          "base_uri": "https://localhost:8080/"
        },
        "id": "j5q_HWoR9Xsj",
        "outputId": "b7e2487a-d661-4411-8688-ec816f8397a3"
      },
      "outputs": [
        {
          "output_type": "execute_result",
          "data": {
            "text/plain": [
              "Intercept    0.609884\n",
              "temp         0.494987\n",
              "humidity    -0.830676\n",
              "dtype: float64"
            ]
          },
          "metadata": {},
          "execution_count": 3
        }
      ],
      "source": [
        "rm = ols(' day_power~ temp + humidity', data=data).fit()\n",
        "rm.summary()\n",
        "rm.params"
      ]
    },
    {
      "cell_type": "code",
      "execution_count": 4,
      "metadata": {
        "colab": {
          "base_uri": "https://localhost:8080/"
        },
        "id": "Ox-eeCHVEY4a",
        "outputId": "3ae8d9b2-da4d-4e50-de24-8bc0435099df"
      },
      "outputs": [
        {
          "output_type": "execute_result",
          "data": {
            "text/plain": [
              "Intercept          0.727877\n",
              "temp              -0.453094\n",
              "cloudcover         0.023300\n",
              "temp:cloudcover    0.008920\n",
              "dtype: float64"
            ]
          },
          "metadata": {},
          "execution_count": 4
        }
      ],
      "source": [
        "rm = ols(' humidity~ temp + cloudcover + temp*cloudcover', data=data).fit()\n",
        "rm.summary()\n",
        "rm.params"
      ]
    },
    {
      "cell_type": "code",
      "execution_count": 5,
      "metadata": {
        "id": "fjeqHa-akwPr"
      },
      "outputs": [],
      "source": [
        "# 독립변수 기온 spread설정과 삼각퍼지화\n",
        "te=data['temp']\n",
        "spread= [None] * 1332\n",
        "for i in range(0,1331):\n",
        "  spread[i]= (np.abs(te[i+1]-te[i]))/2\n",
        "spread[1331]=spread[1330]\n",
        "x1= te-spread\n",
        "x2= te+spread\n",
        "xdf=pd.DataFrame({'a':x1,'b':te,'c':x2})\n",
        "xa=xdf[xdf['a']< 0]\n",
        "xdf.loc[xa.index,'a']=0\n",
        "x=xdf.to_numpy()"
      ]
    },
    {
      "cell_type": "code",
      "execution_count": 6,
      "metadata": {
        "id": "yd9FmNnBo77r"
      },
      "outputs": [],
      "source": [
        "hu=data['humidity']\n",
        "spreadm= [None] * 1332\n",
        "for i in range(0,1331):\n",
        "  spreadm[i]= (np.abs(hu[i+1]-hu[i]))/2\n",
        "spreadm[1331]=spreadm[1330]\n",
        "m1= hu-spreadm\n",
        "m2= hu+spreadm\n",
        "mdf=pd.DataFrame({'a':m1,'b':hu,'c':m2})\n",
        "ma=mdf[mdf['a']< 0]\n",
        "mdf.loc[ma.index,'a']=0\n",
        "m=mdf.to_numpy()"
      ]
    },
    {
      "cell_type": "code",
      "execution_count": 7,
      "metadata": {
        "id": "33RCDHklvJ9a"
      },
      "outputs": [],
      "source": [
        "# 종속변수\n",
        "power=data['day_power']\n",
        "ydf=pd.DataFrame({'a':power,'b':power,'c':power})\n",
        "y= ydf.to_numpy()\n"
      ]
    },
    {
      "cell_type": "code",
      "execution_count": 8,
      "metadata": {
        "id": "STFHOrw87ibd"
      },
      "outputs": [],
      "source": [
        "# 조절변수1\n",
        "cl=data['cloudcover']\n",
        "w1= cl-1\n",
        "w2= cl+1\n",
        "wdf=pd.DataFrame({'a':w1,'b':cl,'c':w2})\n",
        "wa=wdf[wdf['a']< 1]\n",
        "wdf.loc[wa.index,'a']=1\n",
        "wc=wdf[wdf['c']> 8]\n",
        "wdf.loc[wc.index,'c']=8\n",
        "w=wdf.to_numpy()"
      ]
    },
    {
      "cell_type": "code",
      "execution_count": 9,
      "metadata": {
        "id": "-vV8UT7b9EEc"
      },
      "outputs": [],
      "source": [
        "# 조절변수2\n",
        "wi=data['wind']\n",
        "spreadz= [None] * 1332\n",
        "for i in range(0,1331):\n",
        "  spreadz[i]= (np.abs(wi[i+1]-wi[i]))/2\n",
        "spreadz[1331]=spreadz[1330]\n",
        "z1= wi-spreadz\n",
        "z2= wi+spreadz\n",
        "zdf=pd.DataFrame({'a':z1,'b':wi,'c':z2})\n",
        "za=zdf[zdf['a']< 0]\n",
        "zdf.loc[za.index,'a']=0\n",
        "z=zdf.to_numpy()"
      ]
    },
    {
      "cell_type": "code",
      "execution_count": 10,
      "metadata": {
        "id": "ZgqjNVTxHBas"
      },
      "outputs": [],
      "source": [
        "ones=np.ones(shape=(1332,3))\n",
        "def dc(a,b):          \n",
        "  c=a*b\n",
        "  sum=c.sum()\n",
        "  return sum"
      ]
    },
    {
      "cell_type": "code",
      "execution_count": 11,
      "metadata": {
        "id": "7HqyEiIZF14f"
      },
      "outputs": [],
      "source": [
        "def freg(data):\n",
        "  te=data['temp']\n",
        "  spread= [None] * 1332\n",
        "  for i in range(0,1331):\n",
        "    spread[i]= (np.abs(te.iloc[i+1]-te.iloc[i]))/2\n",
        "  spread[1331]=spread[1330]\n",
        "  x1= te-spread\n",
        "  x2= te+spread\n",
        "  xdf=pd.DataFrame({'a':x1,'b':te,'c':x2})\n",
        "  xa=xdf[xdf['a']< 0]\n",
        "  xdf.loc[xa.index,'a']=0\n",
        "  x=xdf.to_numpy()\n",
        "\n",
        "  hu=data['humidity']\n",
        "  spreadm= [None] * 1332\n",
        "  for i in range(0,1331):\n",
        "    spreadm[i]= (np.abs(hu.iloc[i+1]-hu.iloc[i]))/2\n",
        "  spreadm[1331]=spreadm[1330]\n",
        "  m1= hu-spreadm\n",
        "  m2= hu+spreadm\n",
        "  mdf=pd.DataFrame({'a':m1,'b':hu,'c':m2})\n",
        "  ma=mdf[mdf['a']< 0]\n",
        "  mdf.loc[ma.index,'a']=0\n",
        "  m=mdf.to_numpy()\n",
        "\n",
        "  power=data['day_power']\n",
        "  ydf=pd.DataFrame({'a':power,'b':power,'c':power})\n",
        "  y= ydf.to_numpy()\n",
        "\n",
        "  cl=data['cloudcover']\n",
        "  w1= cl-1\n",
        "  w2= cl+1\n",
        "  wdf=pd.DataFrame({'a':w1,'b':cl,'c':w2})\n",
        "  wa=wdf[wdf['a']< 1]\n",
        "  wdf.loc[wa.index,'a']=1\n",
        "  wc=wdf[wdf['c']> 8]\n",
        "  wdf.loc[wc.index,'c']=8\n",
        "  w=wdf.to_numpy()\n",
        "  xw=x*w\n",
        "\n",
        "  xtx=np.zeros(shape=(4,4))\n",
        "  xlist=[ones,x,w,xw]\n",
        "  for i in range(0,4):   \n",
        "    for j in range(0,4):\n",
        "      xtx[i,j]= dc(xlist[i],xlist[j])\n",
        "  xtm=np.zeros(shape=(4,1))   \n",
        "  for i in range(0,4):   \n",
        "    for j in range(0,1):\n",
        "      xtm[i,j]= dc(xlist[i],m)\n",
        "  lxtx=np.linalg.inv(xtx)\n",
        "  b=lxtx@xtm\n",
        "  b=np.around(b, decimals=4)\n",
        "\n",
        "  xtx2=np.zeros(shape=(3,3))\n",
        "  xlist2=[ones,x,m]\n",
        "  for i in range(0,3):   \n",
        "    for j in range(0,3):\n",
        "      xtx2[i,j]= dc(xlist2[i],xlist2[j])\n",
        "  xty=np.zeros(shape=(3,1))   \n",
        "  for i in range(0,3):   \n",
        "    for j in range(0,1):\n",
        "      xty[i,j]= dc(xlist2[i],y)\n",
        "  lxtx2=np.linalg.inv(xtx2)\n",
        "  b2=lxtx2@xty\n",
        "  b2=np.around(b2, decimals=4)\n",
        "  return b, b2"
      ]
    },
    {
      "cell_type": "code",
      "execution_count": 12,
      "metadata": {
        "colab": {
          "base_uri": "https://localhost:8080/"
        },
        "id": "DFNQP-haGsVa",
        "outputId": "7caa9d0c-4df2-4284-ef2c-3f3a5c45ce1f"
      },
      "outputs": [
        {
          "output_type": "execute_result",
          "data": {
            "text/plain": [
              "(array([[ 0.7014],\n",
              "        [-0.4756],\n",
              "        [ 0.0273],\n",
              "        [ 0.0188]]), array([[ 0.5432],\n",
              "        [ 0.5348],\n",
              "        [-0.7551]]))"
            ]
          },
          "metadata": {},
          "execution_count": 12
        }
      ],
      "source": [
        "para=freg(data)\n",
        "para"
      ]
    },
    {
      "cell_type": "code",
      "execution_count": 13,
      "metadata": {
        "colab": {
          "base_uri": "https://localhost:8080/"
        },
        "id": "Tv7B-BT8G0-Z",
        "outputId": "cadb9496-238c-48a1-9931-067b3b6a72a3"
      },
      "outputs": [
        {
          "output_type": "execute_result",
          "data": {
            "text/plain": [
              "0.00889794270774266"
            ]
          },
          "metadata": {},
          "execution_count": 13
        }
      ],
      "source": [
        "# sea1\n",
        "x_m=x.sum(axis=0)/1332\n",
        "x_m\n",
        "d2=(x-x_m)**2\n",
        "sda1=np.sqrt(d2.sum()/1331)\n",
        "sea1=sda1/np.sqrt(1332)\n",
        "sea1"
      ]
    },
    {
      "cell_type": "code",
      "execution_count": 14,
      "metadata": {
        "colab": {
          "base_uri": "https://localhost:8080/"
        },
        "id": "r1GktvfIelvW",
        "outputId": "14114908-e19d-4254-9efa-302a5d576bf8"
      },
      "outputs": [
        {
          "output_type": "execute_result",
          "data": {
            "text/plain": [
              "0.0077108953758481605"
            ]
          },
          "metadata": {},
          "execution_count": 14
        }
      ],
      "source": [
        "# seb\n",
        "m_m=m.sum(axis=0)/1332\n",
        "m_m\n",
        "d2=(m-m_m)**2\n",
        "sdb=np.sqrt(d2.sum()/1331)\n",
        "seb=sdb/np.sqrt(1332)\n",
        "seb"
      ]
    },
    {
      "cell_type": "code",
      "execution_count": 15,
      "metadata": {
        "colab": {
          "base_uri": "https://localhost:8080/"
        },
        "id": "ZICvmfLefF5k",
        "outputId": "3d4c2efa-eca1-4079-b174-f2be2e74c388"
      },
      "outputs": [
        {
          "output_type": "execute_result",
          "data": {
            "text/plain": [
              "0.06006941551329541"
            ]
          },
          "metadata": {},
          "execution_count": 15
        }
      ],
      "source": [
        "# sea2\n",
        "w_m=w.sum(axis=0)/1332\n",
        "w_m\n",
        "d2=(w-w_m)**2\n",
        "sda2=np.sqrt(d2.sum()/1331)\n",
        "sea2=sda2/np.sqrt(1332)\n",
        "sea2"
      ]
    },
    {
      "cell_type": "code",
      "execution_count": 17,
      "metadata": {
        "colab": {
          "base_uri": "https://localhost:8080/"
        },
        "id": "aXhOrmNJgHwg",
        "outputId": "f023021f-0b96-4dcb-aaff-3ad1f3a3853c"
      },
      "outputs": [
        {
          "output_type": "stream",
          "name": "stdout",
          "text": [
            "[array([-0.49303997]), array([-0.45816003])] [0.]\n"
          ]
        }
      ],
      "source": [
        "# a1의 95% 신뢰구간과 z값 검정\n",
        "a1=para[0][1]\n",
        "CI=[a1-1.96*sea1,a1+1.96*sea1]\n",
        "z=a1/sea1\n",
        "p = 2 * (1 - stats.norm.cdf(np.abs(z)))\n",
        "print(CI,p)"
      ]
    },
    {
      "cell_type": "code",
      "execution_count": 18,
      "metadata": {
        "colab": {
          "base_uri": "https://localhost:8080/"
        },
        "id": "kLM9bc8JgaaR",
        "outputId": "521ed579-cc7a-4ff3-9454-cee49ac2e9fb"
      },
      "outputs": [
        {
          "output_type": "stream",
          "name": "stdout",
          "text": [
            "[array([-0.09043605]), array([0.14503605])] [0.64948755]\n"
          ]
        }
      ],
      "source": [
        "# a2의 95% 신뢰구간과 z값 검정\n",
        "a2=para[0][2]\n",
        "CI=[a2-1.96*sea2,a2+1.96*sea2]\n",
        "z=a2/sea2\n",
        "p = 2 * (1 - stats.norm.cdf(np.abs(z)))\n",
        "print(CI,p)\n"
      ]
    },
    {
      "cell_type": "code",
      "execution_count": 53,
      "metadata": {
        "colab": {
          "base_uri": "https://localhost:8080/"
        },
        "id": "w7YSzYAhgajF",
        "outputId": "d7a8fbe2-7c75-4b3e-834e-701f6da3952f"
      },
      "outputs": [
        {
          "output_type": "stream",
          "name": "stdout",
          "text": [
            "[array([0.00136003]), array([0.03623997])] [0.03461378]\n"
          ]
        }
      ],
      "source": [
        "# a3의 95% 신뢰구간과 z값 검정      sea1 가지고 구함\n",
        "a3=para[0][3]\n",
        "CI=[a3-1.96*sea1,a3+1.96*sea1]\n",
        "z=a3/sea1\n",
        "p = 2 * (1 - stats.norm.cdf(np.abs(z)))\n",
        "print(CI,p)"
      ]
    },
    {
      "cell_type": "code",
      "execution_count": 20,
      "metadata": {
        "colab": {
          "base_uri": "https://localhost:8080/"
        },
        "id": "kcGz0LbMgarQ",
        "outputId": "280197c2-49d1-4882-94fe-d6477af8d573"
      },
      "outputs": [
        {
          "output_type": "stream",
          "name": "stdout",
          "text": [
            "[array([-0.77021335]), array([-0.73998665])] [0.]\n",
            "[-0.4756]\n"
          ]
        },
        {
          "output_type": "execute_result",
          "data": {
            "text/plain": [
              "[array([-0.4756])]"
            ]
          },
          "metadata": {},
          "execution_count": 20
        }
      ],
      "source": [
        "# b의 95% 신뢰구간과 z값 검정\n",
        "b=para[1][2]\n",
        "CI=[b-1.96*seb,b+1.96*seb]\n",
        "z=b/seb\n",
        "p = 2 * (1 - stats.norm.cdf(np.abs(z)))\n",
        "print(CI,p)\n",
        "print(para[0][1].astype('float64'))\n",
        "para[0][1]\n",
        "a=[para[0][1].astype('float64')]\n",
        "a"
      ]
    },
    {
      "cell_type": "code",
      "execution_count": 31,
      "metadata": {
        "id": "NMxgVg4NiJU4"
      },
      "outputs": [],
      "source": [
        "#부트스트랩 표본\n",
        "a1_boot=[None]*5000\n",
        "a2_boot=[None]*5000\n",
        "a3_boot=[None]*5000\n",
        "b_boot=[None]*5000\n",
        "c_boot=[None]*5000\n",
        "for i in range(0,5000):\n",
        "  new_data=data.sample(n=1332,replace=True)\n",
        "  parameters=freg(new_data)\n",
        "  a1_boot[i]= parameters[0][1]\n",
        "  a2_boot[i]= parameters[0][2]\n",
        "  a3_boot[i]= parameters[0][3]\n",
        "  b_boot[i]= parameters[1][2]\n",
        "  c_boot[i]= parameters[1][1]"
      ]
    },
    {
      "cell_type": "code",
      "source": [
        "np.save('a1_boot',a1_boot)\n",
        "np.save('a2_boot',a2_boot)\n",
        "np.save('a3_boot',a3_boot)\n",
        "np.save('b_boot',b_boot)\n",
        "np.save('c_boot',c_boot)"
      ],
      "metadata": {
        "id": "FQgndghgA_2k"
      },
      "execution_count": 36,
      "outputs": []
    },
    {
      "cell_type": "code",
      "source": [
        "a1_boot=np.load('a1_boot.npy')\n",
        "a2_boot=np.load('a2_boot.npy')\n",
        "a3_boot=np.load('a3_boot.npy')\n",
        "b_boot=np.load('b_boot.npy')\n",
        "c_boot=np.load('c_boot.npy')"
      ],
      "metadata": {
        "id": "aK1s-6vDBS1Q"
      },
      "execution_count": 38,
      "outputs": []
    },
    {
      "cell_type": "code",
      "source": [
        "sns.distplot(a1_boot)"
      ],
      "metadata": {
        "colab": {
          "base_uri": "https://localhost:8080/",
          "height": 339
        },
        "id": "GcDAlZLNCAto",
        "outputId": "ac7c521b-a4ca-46f8-cfb9-9866ca6777b2"
      },
      "execution_count": 39,
      "outputs": [
        {
          "output_type": "stream",
          "name": "stderr",
          "text": [
            "/usr/local/lib/python3.8/dist-packages/seaborn/distributions.py:2619: FutureWarning: `distplot` is a deprecated function and will be removed in a future version. Please adapt your code to use either `displot` (a figure-level function with similar flexibility) or `histplot` (an axes-level function for histograms).\n",
            "  warnings.warn(msg, FutureWarning)\n"
          ]
        },
        {
          "output_type": "execute_result",
          "data": {
            "text/plain": [
              "<matplotlib.axes._subplots.AxesSubplot at 0x7f90988f9190>"
            ]
          },
          "metadata": {},
          "execution_count": 39
        },
        {
          "output_type": "display_data",
          "data": {
            "text/plain": [
              "<Figure size 432x288 with 1 Axes>"
            ],
            "image/png": "[encoded data removed]"
          },
          "metadata": {
            "needs_background": "light"
          }
        }
      ]
    },
    {
      "cell_type": "code",
      "source": [
        "sns.distplot(a2_boot)"
      ],
      "metadata": {
        "colab": {
          "base_uri": "https://localhost:8080/",
          "height": 339
        },
        "id": "rEgIYnbKCDd7",
        "outputId": "5758dd71-0468-46cf-adb4-0858775cf0b8"
      },
      "execution_count": 41,
      "outputs": [
        {
          "output_type": "stream",
          "name": "stderr",
          "text": [
            "/usr/local/lib/python3.8/dist-packages/seaborn/distributions.py:2619: FutureWarning: `distplot` is a deprecated function and will be removed in a future version. Please adapt your code to use either `displot` (a figure-level function with similar flexibility) or `histplot` (an axes-level function for histograms).\n",
            "  warnings.warn(msg, FutureWarning)\n"
          ]
        },
        {
          "output_type": "execute_result",
          "data": {
            "text/plain": [
              "<matplotlib.axes._subplots.AxesSubplot at 0x7f909af01310>"
            ]
          },
          "metadata": {},
          "execution_count": 41
        },
        {
          "output_type": "display_data",
          "data": {
            "text/plain": [
              "<Figure size 432x288 with 1 Axes>"
            ],
            "image/png": "[encoded data removed]"
          },
          "metadata": {
            "needs_background": "light"
          }
        }
      ]
    },
    {
      "cell_type": "code",
      "source": [
        "sns.distplot(a3_boot)"
      ],
      "metadata": {
        "colab": {
          "base_uri": "https://localhost:8080/",
          "height": 339
        },
        "id": "DyGmh0j8CDmL",
        "outputId": "71549529-4890-4e0e-e869-bb32b73d320f"
      },
      "execution_count": 42,
      "outputs": [
        {
          "output_type": "stream",
          "name": "stderr",
          "text": [
            "/usr/local/lib/python3.8/dist-packages/seaborn/distributions.py:2619: FutureWarning: `distplot` is a deprecated function and will be removed in a future version. Please adapt your code to use either `displot` (a figure-level function with similar flexibility) or `histplot` (an axes-level function for histograms).\n",
            "  warnings.warn(msg, FutureWarning)\n"
          ]
        },
        {
          "output_type": "execute_result",
          "data": {
            "text/plain": [
              "<matplotlib.axes._subplots.AxesSubplot at 0x7f909aeadac0>"
            ]
          },
          "metadata": {},
          "execution_count": 42
        },
        {
          "output_type": "display_data",
          "data": {
            "text/plain": [
              "<Figure size 432x288 with 1 Axes>"
            ],
            "image/png": "[encoded data removed]"
          },
          "metadata": {
            "needs_background": "light"
          }
        }
      ]
    },
    {
      "cell_type": "code",
      "source": [
        "sns.distplot(b_boot)"
      ],
      "metadata": {
        "colab": {
          "base_uri": "https://localhost:8080/",
          "height": 339
        },
        "id": "H5PFhRAnCDt0",
        "outputId": "cce392cf-986c-4683-881b-7a4844d90cbf"
      },
      "execution_count": 43,
      "outputs": [
        {
          "output_type": "stream",
          "name": "stderr",
          "text": [
            "/usr/local/lib/python3.8/dist-packages/seaborn/distributions.py:2619: FutureWarning: `distplot` is a deprecated function and will be removed in a future version. Please adapt your code to use either `displot` (a figure-level function with similar flexibility) or `histplot` (an axes-level function for histograms).\n",
            "  warnings.warn(msg, FutureWarning)\n"
          ]
        },
        {
          "output_type": "execute_result",
          "data": {
            "text/plain": [
              "<matplotlib.axes._subplots.AxesSubplot at 0x7f909ad121c0>"
            ]
          },
          "metadata": {},
          "execution_count": 43
        },
        {
          "output_type": "display_data",
          "data": {
            "text/plain": [
              "<Figure size 432x288 with 1 Axes>"
            ],
            "image/png": "[encoded data removed]"
          },
          "metadata": {
            "needs_background": "light"
          }
        }
      ]
    },
    {
      "cell_type": "code",
      "source": [
        "sns.distplot(c_boot)"
      ],
      "metadata": {
        "colab": {
          "base_uri": "https://localhost:8080/",
          "height": 339
        },
        "id": "FzUcOMGBCD2U",
        "outputId": "43629954-829b-4db2-80ae-55596632126b"
      },
      "execution_count": 44,
      "outputs": [
        {
          "output_type": "stream",
          "name": "stderr",
          "text": [
            "/usr/local/lib/python3.8/dist-packages/seaborn/distributions.py:2619: FutureWarning: `distplot` is a deprecated function and will be removed in a future version. Please adapt your code to use either `displot` (a figure-level function with similar flexibility) or `histplot` (an axes-level function for histograms).\n",
            "  warnings.warn(msg, FutureWarning)\n"
          ]
        },
        {
          "output_type": "execute_result",
          "data": {
            "text/plain": [
              "<matplotlib.axes._subplots.AxesSubplot at 0x7f909adaa820>"
            ]
          },
          "metadata": {},
          "execution_count": 44
        },
        {
          "output_type": "display_data",
          "data": {
            "text/plain": [
              "<Figure size 432x288 with 1 Axes>"
            ],
            "image/png": "[encoded data removed]"
          },
          "metadata": {
            "needs_background": "light"
          }
        }
      ]
    },
    {
      "cell_type": "code",
      "source": [
        "a3_ar=np.array(a3_boot)\n",
        "b_ar=np.array(b_boot)\n",
        "a3b_boot=a3_ar*b_ar\n",
        "sns.distplot(a3b_boot)"
      ],
      "metadata": {
        "colab": {
          "base_uri": "https://localhost:8080/",
          "height": 339
        },
        "id": "syryIEs1CLE7",
        "outputId": "21f85192-8508-483d-bc51-1df4da519cf0"
      },
      "execution_count": 46,
      "outputs": [
        {
          "output_type": "stream",
          "name": "stderr",
          "text": [
            "/usr/local/lib/python3.8/dist-packages/seaborn/distributions.py:2619: FutureWarning: `distplot` is a deprecated function and will be removed in a future version. Please adapt your code to use either `displot` (a figure-level function with similar flexibility) or `histplot` (an axes-level function for histograms).\n",
            "  warnings.warn(msg, FutureWarning)\n"
          ]
        },
        {
          "output_type": "execute_result",
          "data": {
            "text/plain": [
              "<matplotlib.axes._subplots.AxesSubplot at 0x7f909837be20>"
            ]
          },
          "metadata": {},
          "execution_count": 46
        },
        {
          "output_type": "display_data",
          "data": {
            "text/plain": [
              "<Figure size 432x288 with 1 Axes>"
            ],
            "image/png": "[encoded data removed]"
          },
          "metadata": {
            "needs_background": "light"
          }
        }
      ]
    },
    {
      "cell_type": "code",
      "source": [
        "# a1에 대한 부트스트랩 신뢰구간\n",
        "a1_boot.sort()\n",
        "al=np.abs((a1_boot[124]+ a1_boot[125])/2)\n",
        "au=np.abs((a1_boot[4873]+a1_boot[4874])/2)\n",
        "a1cl=[a1- al*sea1,a1 + au*sea1]\n",
        "a1cl"
      ],
      "metadata": {
        "colab": {
          "base_uri": "https://localhost:8080/"
        },
        "id": "m30j3tAECZKy",
        "outputId": "d34558ee-ad87-4442-b5bb-da4707b882ce"
      },
      "execution_count": 70,
      "outputs": [
        {
          "output_type": "execute_result",
          "data": {
            "text/plain": [
              "[array([-0.47922814]), array([-0.47139928])]"
            ]
          },
          "metadata": {},
          "execution_count": 70
        }
      ]
    },
    {
      "cell_type": "code",
      "source": [
        "# a2에 대한 부트스트랩 신뢰구간\n",
        "a2_boot.sort()\n",
        "al=(a2_boot[124]+ a2_boot[125])/2\n",
        "au=(a2_boot[4873]+a2_boot[4874])/2\n",
        "a2cl=[a2- al*sea2,a2 + au*sea2]\n",
        "print(a2)\n",
        "a2cl"
      ],
      "metadata": {
        "colab": {
          "base_uri": "https://localhost:8080/"
        },
        "id": "wrbaUcjXDyif",
        "outputId": "15e5fe17-5bd2-4262-9d4c-4c3da8046061"
      },
      "execution_count": 69,
      "outputs": [
        {
          "output_type": "stream",
          "name": "stdout",
          "text": [
            "[0.0273]\n"
          ]
        },
        {
          "output_type": "execute_result",
          "data": {
            "text/plain": [
              "[array([0.02494828]), array([0.02915014])]"
            ]
          },
          "metadata": {},
          "execution_count": 69
        }
      ]
    },
    {
      "cell_type": "code",
      "source": [
        "# a3에 대한 부트스트랩 신뢰구간\n",
        "a3_boot.sort()\n",
        "al=np.abs((a3_boot[124]+ a3_boot[125])/2)\n",
        "au=np.abs((a3_boot[4873]+a3_boot[4874])/2)\n",
        "a3cl=[a3- al*sea1,a3 + au*sea1]\n",
        "a3cl"
      ],
      "metadata": {
        "colab": {
          "base_uri": "https://localhost:8080/"
        },
        "id": "B6H2fjbMDyq_",
        "outputId": "776e5451-bc80-4ece-f82d-e9c66bcab3b3"
      },
      "execution_count": 72,
      "outputs": [
        {
          "output_type": "execute_result",
          "data": {
            "text/plain": [
              "[array([0.01844364]), array([0.01930451])]"
            ]
          },
          "metadata": {},
          "execution_count": 72
        }
      ]
    },
    {
      "cell_type": "code",
      "source": [
        "# b에 대한 부트스트랩 신뢰구간\n",
        "b_boot.sort()\n",
        "bl=np.abs((b_boot[124]+ b_boot[125])/2)\n",
        "bu=np.abs((b_boot[4873]+b_boot[4874])/2)\n",
        "bcl=[b- bl*seb,b + bu*seb]\n",
        "bcl"
      ],
      "metadata": {
        "colab": {
          "base_uri": "https://localhost:8080/"
        },
        "id": "TRmHNgfCDy3E",
        "outputId": "969abec2-f734-4f7e-e37d-8ef089e6349f"
      },
      "execution_count": 73,
      "outputs": [
        {
          "output_type": "execute_result",
          "data": {
            "text/plain": [
              "[array([-0.7605624]), array([-0.74961061])]"
            ]
          },
          "metadata": {},
          "execution_count": 73
        }
      ]
    },
    {
      "cell_type": "code",
      "source": [
        "# c에 대한 부트스트랩 신뢰구간\n",
        "c=para[1][1]\n",
        "c_boot.sort()\n",
        "cl=np.abs((c_boot[124]+ c_boot[125])/2)\n",
        "cu=np.abs((c_boot[4873]+c_boot[4874])/2)\n",
        "ccl=[c- cl*sea1,c + cu*sea1]\n",
        "ccl"
      ],
      "metadata": {
        "colab": {
          "base_uri": "https://localhost:8080/"
        },
        "id": "yOnBbcTHFsJZ",
        "outputId": "e15cb2d7-9164-4963-ce21-564f2347b7b4"
      },
      "execution_count": 75,
      "outputs": [
        {
          "output_type": "execute_result",
          "data": {
            "text/plain": [
              "[array([0.53003026]), array([0.53958264])]"
            ]
          },
          "metadata": {},
          "execution_count": 75
        }
      ]
    }
  ],
  "metadata": {
    "accelerator": "GPU",
    "colab": {
      "provenance": [],
      "authorship_tag": "ABX9TyOL2qY38PqtscnWhcVS7HZw",
      "include_colab_link": true
    },
    "gpuClass": "standard",
    "kernelspec": {
      "display_name": "Python 3",
      "name": "python3"
    },
    "language_info": {
      "name": "python"
    }
  },
  "nbformat": 4,
  "nbformat_minor": 0
}
