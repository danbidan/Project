{
  "nbformat": 4,
  "nbformat_minor": 0,
  "metadata": {
    "colab": {
      "provenance": [],
      "authorship_tag": "ABX9TyN+dsKbVy8L/ca9e06FJ3v4",
      "include_colab_link": true
    },
    "kernelspec": {
      "name": "python3",
      "display_name": "Python 3"
    },
    "language_info": {
      "name": "python"
    }
  },
  "cells": [
    {
      "cell_type": "markdown",
      "metadata": {
        "id": "view-in-github",
        "colab_type": "text"
      },
      "source": [
        "<a href=\"https://colab.research.google.com/github/KangHyeonGu1/-/blob/main/%ED%98%90%EC%98%A4%EC%B5%9C.ipynb\" target=\"_parent\"><img src=\"https://colab.research.google.com/assets/colab-badge.svg\" alt=\"Open In Colab\"/></a>"
      ]
    },
    {
      "cell_type": "code",
      "execution_count": 2,
      "metadata": {
        "id": "L94uMYrKzAnT"
      },
      "outputs": [],
      "source": [
        "import numpy as np\n",
        "import pandas as pd\n",
        "from statsmodels.formula.api import ols\n",
        "import scipy.stats as stats\n",
        "import seaborn as sns"
      ]
    },
    {
      "cell_type": "code",
      "source": [
        "data=pd.read_csv('혐오 데이터 분석한 버전 최.csv')\n",
        "data.head"
      ],
      "metadata": {
        "colab": {
          "base_uri": "https://localhost:8080/"
        },
        "id": "L0w5svRSzOz1",
        "outputId": "32c0e0a5-2253-428e-fcd7-f4189c62dd56"
      },
      "execution_count": 3,
      "outputs": [
        {
          "output_type": "execute_result",
          "data": {
            "text/plain": [
              "<bound method NDFrame.head of       Unnamed: 0       nsp       hom        cm   my\n",
              "0              1  3.111111  2.090909  3.000000  2.8\n",
              "1              2  2.555556  1.727273  3.714286  3.6\n",
              "2              3  3.000000  2.090909  3.571429  1.8\n",
              "3              4  3.111111  2.727273  4.000000  2.5\n",
              "4              5  2.000000  2.181818  4.000000  3.1\n",
              "...          ...       ...       ...       ...  ...\n",
              "5519        5898  1.222222  1.000000  3.571429  1.8\n",
              "5520        5907  1.000000  1.000000  5.000000  1.8\n",
              "5521        5910  4.222222  3.090909  4.285714  1.8\n",
              "5522        5912  2.333333  4.545455  4.000000  2.9\n",
              "5523        5913  2.000000  2.000000  3.000000  1.6\n",
              "\n",
              "[5524 rows x 5 columns]>"
            ]
          },
          "metadata": {},
          "execution_count": 3
        }
      ]
    },
    {
      "cell_type": "code",
      "source": [
        "rm = ols(' nsp~ my', data=data).fit()\n",
        "rm.summary()\n",
        "rm.params"
      ],
      "metadata": {
        "colab": {
          "base_uri": "https://localhost:8080/"
        },
        "id": "mkULnP6vzO6u",
        "outputId": "6fbd4ebb-ecd6-475c-8a06-be9c13263a0d"
      },
      "execution_count": 4,
      "outputs": [
        {
          "output_type": "execute_result",
          "data": {
            "text/plain": [
              "Intercept    2.072668\n",
              "my           0.368737\n",
              "dtype: float64"
            ]
          },
          "metadata": {},
          "execution_count": 4
        }
      ]
    },
    {
      "cell_type": "code",
      "source": [
        "rm = ols(' hom~ my', data=data).fit()\n",
        "rm.summary()\n",
        "rm.params"
      ],
      "metadata": {
        "colab": {
          "base_uri": "https://localhost:8080/"
        },
        "id": "Dj4xCTgRzPC3",
        "outputId": "883a8c28-8434-4b82-ec2e-f3e4bb32f008"
      },
      "execution_count": 5,
      "outputs": [
        {
          "output_type": "execute_result",
          "data": {
            "text/plain": [
              "Intercept    1.649604\n",
              "my           0.321324\n",
              "dtype: float64"
            ]
          },
          "metadata": {},
          "execution_count": 5
        }
      ]
    },
    {
      "cell_type": "code",
      "source": [
        "rm = ols(' cm~ my', data=data).fit()\n",
        "rm.summary()\n",
        "rm.params"
      ],
      "metadata": {
        "colab": {
          "base_uri": "https://localhost:8080/"
        },
        "id": "PBeWz5wDzPKn",
        "outputId": "5ec3dc4b-d121-437c-fbfa-bc0d181ccf72"
      },
      "execution_count": 6,
      "outputs": [
        {
          "output_type": "execute_result",
          "data": {
            "text/plain": [
              "Intercept    3.189608\n",
              "my           0.222510\n",
              "dtype: float64"
            ]
          },
          "metadata": {},
          "execution_count": 6
        }
      ]
    },
    {
      "cell_type": "code",
      "source": [
        "rm = ols(' cm~ my + nsp + hom ', data=data).fit()\n",
        "rm.summary()\n",
        "rm.params"
      ],
      "metadata": {
        "colab": {
          "base_uri": "https://localhost:8080/"
        },
        "id": "-AyjW-azzraf",
        "outputId": "b81e6ace-4411-4d2b-b9a8-2332689bfb72"
      },
      "execution_count": 7,
      "outputs": [
        {
          "output_type": "execute_result",
          "data": {
            "text/plain": [
              "Intercept    2.846755\n",
              "my           0.159287\n",
              "nsp          0.101752\n",
              "hom          0.079993\n",
              "dtype: float64"
            ]
          },
          "metadata": {},
          "execution_count": 7
        }
      ]
    },
    {
      "cell_type": "code",
      "source": [
        "ones=np.ones(shape=(5524,3))\n",
        "def dc(a,b):          \n",
        "  c=a*b\n",
        "  sum=c.sum()\n",
        "  return sum"
      ],
      "metadata": {
        "id": "ojtRpnpwzzCO"
      },
      "execution_count": 8,
      "outputs": []
    },
    {
      "cell_type": "code",
      "source": [
        "def freg(data):\n",
        "  xx=data['my']\n",
        "  xdf=pd.DataFrame({'xx':xx-0.5,'b':xx,'c':xx+0.5})\n",
        "  xa=xdf[xdf['xx']< 1]\n",
        "  xdf.loc[xa.index,'xx']=1\n",
        "  xc=xdf[xdf['c']> 5]\n",
        "  xdf.loc[xc.index,'c']=5\n",
        "  x=xdf.to_numpy()\n",
        "  mm1=data['nsp']\n",
        "  m1df=pd.DataFrame({'a':mm1-0.5,'b':mm1,'c':mm1+0.5})\n",
        "  m1a=m1df[m1df['a']< 1]\n",
        "  m1df.loc[m1a.index,'a']=1\n",
        "  m1c=m1df[m1df['c']> 5]\n",
        "  m1df.loc[m1c.index,'c']=5\n",
        "  m1=m1df.to_numpy()\n",
        "  mm2=data['hom']\n",
        "  m2df=pd.DataFrame({'a':mm2-0.5,'b':mm2,'c':mm2+0.5})\n",
        "  m2a=m2df[m2df['a']< 1]\n",
        "  m2df.loc[m2a.index,'a']=1\n",
        "  m2c=m2df[m2df['c']> 5]\n",
        "  m2df.loc[m2c.index,'c']=5\n",
        "  m2=m2df.to_numpy()\n",
        "  yy=data['cm']\n",
        "  ydf=pd.DataFrame({'a':yy-0.5,'b':yy,'c':yy+0.5})\n",
        "  ya=ydf[ydf['a']< 1]\n",
        "  ydf.loc[ya.index,'a']=1\n",
        "  yc=ydf[ydf['c']> 5]\n",
        "  ydf.loc[yc.index,'c']=5\n",
        "  y=ydf.to_numpy()\n",
        "  xtx=np.zeros(shape=(2,2))\n",
        "  xlist=[ones,x]\n",
        "  for i in range(0,2):    \n",
        "    for j in range(0,2):\n",
        "      xtx[i,j]= dc(xlist[i],xlist[j])\n",
        "  xtm1=np.zeros(shape=(2,1))\n",
        "  for i in range(0,2):    \n",
        "    for j in range(0,1):\n",
        "      xtm1[i,j]= dc(xlist[i],m1)\n",
        "  lxtx=np.linalg.inv(xtx)\n",
        "  b1=lxtx@xtm1\n",
        "  b1=np.around(b1, decimals=4)\n",
        "  xtm2=np.zeros(shape=(2,1))\n",
        "  for i in range(0,2):    \n",
        "    for j in range(0,1):\n",
        "      xtm2[i,j]= dc(xlist[i],m2)\n",
        "  b2=lxtx@xtm2\n",
        "  b2=np.around(b2, decimals=4)\n",
        "  xtx3=np.zeros(shape=(4,4))\n",
        "  xlist2=[ones,x,m1,m2]\n",
        "  for i in range(0,4):    \n",
        "    for j in range(0,4):\n",
        "      xtx3[i,j]= dc(xlist2[i],xlist2[j])\n",
        "  xty=np.zeros(shape=(4,1))\n",
        "  for i in range(0,4):    \n",
        "    for j in range(0,1):\n",
        "      xty[i,j]= dc(xlist2[i],y)\n",
        "  lxtx3=np.linalg.inv(xtx3)\n",
        "  b3=lxtx3@xty\n",
        "  b3=np.around(b3, decimals=4)\n",
        "  return b1,b2,b3"
      ],
      "metadata": {
        "id": "FNRHvPGJ0Ih8"
      },
      "execution_count": 10,
      "outputs": []
    },
    {
      "cell_type": "code",
      "source": [
        "xx=data['my']\n",
        "xdf=pd.DataFrame({'xx':xx-0.5,'b':xx,'c':xx+0.5})\n",
        "xa=xdf[xdf['xx']< 1]\n",
        "xdf.loc[xa.index,'xx']=1\n",
        "xc=xdf[xdf['c']> 5]\n",
        "xdf.loc[xc.index,'c']=5\n",
        "x=xdf.to_numpy()\n",
        "mm1=data['nsp']\n",
        "m1df=pd.DataFrame({'a':mm1-0.5,'b':mm1,'c':mm1+0.5})\n",
        "m1a=m1df[m1df['a']< 1]\n",
        "m1df.loc[m1a.index,'a']=1\n",
        "m1c=m1df[m1df['c']> 5]\n",
        "m1df.loc[m1c.index,'c']=5\n",
        "m1=m1df.to_numpy()\n",
        "mm2=data['hom']\n",
        "m2df=pd.DataFrame({'a':mm2-0.5,'b':mm2,'c':mm2+0.5})\n",
        "m2a=m2df[m2df['a']< 1]\n",
        "m2df.loc[m2a.index,'a']=1\n",
        "m2c=m2df[m2df['c']> 5]\n",
        "m2df.loc[m2c.index,'c']=5\n",
        "m2=m2df.to_numpy()\n",
        "yy=data['cm']\n",
        "ydf=pd.DataFrame({'a':yy-0.5,'b':yy,'c':yy+0.5})\n",
        "ya=ydf[ydf['a']< 1]\n",
        "ydf.loc[ya.index,'a']=1\n",
        "yc=ydf[ydf['c']> 5]\n",
        "ydf.loc[yc.index,'c']=5\n",
        "y=ydf.to_numpy()"
      ],
      "metadata": {
        "id": "RNiU2B6P0f6T"
      },
      "execution_count": 14,
      "outputs": []
    },
    {
      "cell_type": "code",
      "source": [
        "para=freg(data)\n",
        "para\n",
        "a1=para[0][1]\n",
        "a2=para[1][1]\n",
        "b1=para[2][2]\n",
        "b2=para[2][3]"
      ],
      "metadata": {
        "id": "RCffzPsD0VHq"
      },
      "execution_count": 15,
      "outputs": []
    },
    {
      "cell_type": "code",
      "source": [
        "# sea와 seb\n",
        "x_m=x.sum(axis=0)/5524\n",
        "d2=(x-x_m)**2\n",
        "sd=np.sqrt(d2.sum()/5523)\n",
        "sd\n",
        "sea=sd/np.sqrt(5524)\n",
        "\n",
        "m_m1=m1.sum(axis=0)/5524\n",
        "d2b1=(m1-m_m1)**2\n",
        "sdb1=np.sqrt(d2b1.sum()/5523)\n",
        "sdb1\n",
        "seb1=sdb1/np.sqrt(5524)\n",
        "\n",
        "m_m2=m2.sum(axis=0)/5524\n",
        "d2b2=(m2-m_m2)**2\n",
        "sdb2=np.sqrt(d2b2.sum()/5523)\n",
        "sdb2\n",
        "seb2=sdb2/np.sqrt(5524)\n",
        "seb2\n",
        "print(sea,seb1,seb2)"
      ],
      "metadata": {
        "colab": {
          "base_uri": "https://localhost:8080/"
        },
        "id": "cPohG_U80nyc",
        "outputId": "457063a5-5b7f-4f4f-be8f-38a265839848"
      },
      "execution_count": 16,
      "outputs": [
        {
          "output_type": "stream",
          "name": "stdout",
          "text": [
            "0.017154096867198494 0.023411429652056254 0.021393322993082848\n"
          ]
        }
      ]
    },
    {
      "cell_type": "code",
      "source": [
        "# seab1  seab2\n",
        "seab1=np.sqrt((para[0][1]**2*seb1**2)+ (para[2][2]**2*sea**2) + (sea**2*seb1**2) )\n",
        "seab2=np.sqrt((para[1][1]**2*seb2**2)+ (para[2][3]**2*sea**2) + (sea**2*seb2**2) )\n",
        "print(seab1,seab2)"
      ],
      "metadata": {
        "colab": {
          "base_uri": "https://localhost:8080/"
        },
        "id": "EdXjxZeX1AAX",
        "outputId": "a0c9bc05-ec86-41c8-c9a8-94bda714b8df"
      },
      "execution_count": 17,
      "outputs": [
        {
          "output_type": "stream",
          "name": "stdout",
          "text": [
            "[0.01166574] [0.0098743]\n"
          ]
        }
      ]
    },
    {
      "cell_type": "code",
      "source": [
        "# a1의 95% 신뢰구간과 z값 검정\n",
        "CI=[a1-1.96*sea,a1+1.96*sea]\n",
        "a1z=a1/sea\n",
        "a1p = 2 * (1 - stats.norm.cdf(np.abs(a1z)))\n",
        "print(CI,a1p)"
      ],
      "metadata": {
        "colab": {
          "base_uri": "https://localhost:8080/"
        },
        "id": "xrCtEz-w4ucj",
        "outputId": "b57ffe13-6111-47c6-fad0-2e0e468b550f"
      },
      "execution_count": 18,
      "outputs": [
        {
          "output_type": "stream",
          "name": "stdout",
          "text": [
            "[array([0.45547797]), array([0.52272203])] [0.]\n"
          ]
        }
      ]
    },
    {
      "cell_type": "code",
      "source": [
        "# a2의 95% 신뢰구간과 z값 검정\n",
        "CI=[a2-1.96*sea,a2+1.96*sea]\n",
        "a2z=a2/sea\n",
        "a2p = 2 * (1 - stats.norm.cdf(np.abs(a2z)))\n",
        "print(CI,a2p)"
      ],
      "metadata": {
        "colab": {
          "base_uri": "https://localhost:8080/"
        },
        "id": "PcLtzaDs4uql",
        "outputId": "1c8caee6-86bc-48b0-f694-7b1dba504095"
      },
      "execution_count": 19,
      "outputs": [
        {
          "output_type": "stream",
          "name": "stdout",
          "text": [
            "[array([0.41717797]), array([0.48442203])] [0.]\n"
          ]
        }
      ]
    },
    {
      "cell_type": "code",
      "source": [
        "# b1의 95% 신뢰구간과 z값 검정\n",
        "CI=[b1-1.96*seb1,b1+1.96*seb1]\n",
        "b1z=b1/seb1\n",
        "b1p = 2 * (1 - stats.norm.cdf(np.abs(b1z)))\n",
        "print(CI,b1p)"
      ],
      "metadata": {
        "colab": {
          "base_uri": "https://localhost:8080/"
        },
        "id": "7XN0sqhy5Qgo",
        "outputId": "e6b6a112-b488-4fdc-c30b-1fc78de355fa"
      },
      "execution_count": 20,
      "outputs": [
        {
          "output_type": "stream",
          "name": "stdout",
          "text": [
            "[array([0.0820136]), array([0.1737864])] [4.67776127e-08]\n"
          ]
        }
      ]
    },
    {
      "cell_type": "code",
      "source": [
        "# b2의 95% 신뢰구간과 z값 검정\n",
        "CI=[b2-1.96*seb2,b2+1.96*seb2]\n",
        "b2z=b2/seb2\n",
        "b2p = 2 * (1 - stats.norm.cdf(np.abs(b2z)))\n",
        "print(CI,b2p)"
      ],
      "metadata": {
        "colab": {
          "base_uri": "https://localhost:8080/"
        },
        "id": "ELmsx4Zp5Qq5",
        "outputId": "aa603b8c-de00-438c-d0c4-a118bd844b19"
      },
      "execution_count": 21,
      "outputs": [
        {
          "output_type": "stream",
          "name": "stdout",
          "text": [
            "[array([0.07976909]), array([0.16363091])] [1.28017013e-08]\n"
          ]
        }
      ]
    },
    {
      "cell_type": "code",
      "source": [
        "# ab1의 95% 신뢰구간과 z값 검정\n",
        "ab1=para[0][1]*para[2][2]\n",
        "CI=[ab1-1.96*seab1,ab1+1.96*seab1]\n",
        "z1=ab1/seab1\n",
        "p1 = 2 * (1 - stats.norm.cdf(np.abs(z1)))\n",
        "print(CI,p1)"
      ],
      "metadata": {
        "colab": {
          "base_uri": "https://localhost:8080/"
        },
        "id": "RaQvou451Cki",
        "outputId": "3c29682b-bd4e-43a8-84e3-fbc8c24e38f7"
      },
      "execution_count": 22,
      "outputs": [
        {
          "output_type": "stream",
          "name": "stdout",
          "text": [
            "[array([0.03969103]), array([0.08542075])] [8.21429309e-08]\n"
          ]
        }
      ]
    },
    {
      "cell_type": "code",
      "source": [
        "# ab2의 95% 신뢰구간과 z값 검정\n",
        "ab2=para[1][1]*para[2][3]\n",
        "CI2=[ab2-1.96*seab2,ab2+1.96*seab2]\n",
        "z2=ab2/seab2\n",
        "p2 = 2 * (1 - stats.norm.cdf(np.abs(z2)))\n",
        "print(CI2,p2)"
      ],
      "metadata": {
        "colab": {
          "base_uri": "https://localhost:8080/"
        },
        "id": "xYKIz9qB1JcI",
        "outputId": "9a03a882-be92-4143-810b-ef241affd002"
      },
      "execution_count": 23,
      "outputs": [
        {
          "output_type": "stream",
          "name": "stdout",
          "text": [
            "[array([0.03550873]), array([0.07421599])] [2.75908392e-08]\n"
          ]
        }
      ]
    },
    {
      "cell_type": "code",
      "source": [
        "#부트스트랩 표본\n",
        "a1_boot=[None]*5000\n",
        "a2_boot=[None]*5000\n",
        "b1_boot=[None]*5000\n",
        "b2_boot=[None]*5000\n",
        "c_boot=[None]*5000\n",
        "for i in range(0,5000):\n",
        "  new_data=data.sample(n=5524,replace=True)\n",
        "  parameters=freg(new_data)\n",
        "  a1_boot[i]= parameters[0][1]\n",
        "  a2_boot[i]= parameters[1][1]\n",
        "  c_boot[i]= parameters[2][1]\n",
        "  b1_boot[i]= parameters[2][2]\n",
        "  b2_boot[i]= parameters[2][3]"
      ],
      "metadata": {
        "id": "uewpAU9H1Nje"
      },
      "execution_count": 24,
      "outputs": []
    },
    {
      "cell_type": "code",
      "source": [
        "sns.distplot(a1_boot)"
      ],
      "metadata": {
        "colab": {
          "base_uri": "https://localhost:8080/",
          "height": 339
        },
        "id": "JeQ6ILBE1RZC",
        "outputId": "04e70f06-c2ec-4f71-a78f-4c1a9f591710"
      },
      "execution_count": 25,
      "outputs": [
        {
          "output_type": "stream",
          "name": "stderr",
          "text": [
            "/usr/local/lib/python3.8/dist-packages/seaborn/distributions.py:2619: FutureWarning: `distplot` is a deprecated function and will be removed in a future version. Please adapt your code to use either `displot` (a figure-level function with similar flexibility) or `histplot` (an axes-level function for histograms).\n",
            "  warnings.warn(msg, FutureWarning)\n"
          ]
        },
        {
          "output_type": "execute_result",
          "data": {
            "text/plain": [
              "<matplotlib.axes._subplots.AxesSubplot at 0x7f6fe66a9df0>"
            ]
          },
          "metadata": {},
          "execution_count": 25
        },
        {
          "output_type": "display_data",
          "data": {
            "text/plain": [
              "<Figure size 432x288 with 1 Axes>"
            ],
            "image/png": "[encoded data removed]"
          },
          "metadata": {
            "needs_background": "light"
          }
        }
      ]
    },
    {
      "cell_type": "code",
      "source": [
        "sns.distplot(a2_boot)"
      ],
      "metadata": {
        "colab": {
          "base_uri": "https://localhost:8080/",
          "height": 339
        },
        "id": "OojiJ2dQ1RhT",
        "outputId": "32ece86f-c124-41d0-e2d7-f061b290ae26"
      },
      "execution_count": 26,
      "outputs": [
        {
          "output_type": "stream",
          "name": "stderr",
          "text": [
            "/usr/local/lib/python3.8/dist-packages/seaborn/distributions.py:2619: FutureWarning: `distplot` is a deprecated function and will be removed in a future version. Please adapt your code to use either `displot` (a figure-level function with similar flexibility) or `histplot` (an axes-level function for histograms).\n",
            "  warnings.warn(msg, FutureWarning)\n"
          ]
        },
        {
          "output_type": "execute_result",
          "data": {
            "text/plain": [
              "<matplotlib.axes._subplots.AxesSubplot at 0x7f6fe56092b0>"
            ]
          },
          "metadata": {},
          "execution_count": 26
        },
        {
          "output_type": "display_data",
          "data": {
            "text/plain": [
              "<Figure size 432x288 with 1 Axes>"
            ],
            "image/png": "[encoded data removed]"
          },
          "metadata": {
            "needs_background": "light"
          }
        }
      ]
    },
    {
      "cell_type": "code",
      "source": [
        "sns.distplot(b1_boot)"
      ],
      "metadata": {
        "colab": {
          "base_uri": "https://localhost:8080/",
          "height": 339
        },
        "id": "VSoN8oHy1Ro7",
        "outputId": "26fe49b9-8987-4f85-ddb5-bba5396ba3ab"
      },
      "execution_count": 27,
      "outputs": [
        {
          "output_type": "stream",
          "name": "stderr",
          "text": [
            "/usr/local/lib/python3.8/dist-packages/seaborn/distributions.py:2619: FutureWarning: `distplot` is a deprecated function and will be removed in a future version. Please adapt your code to use either `displot` (a figure-level function with similar flexibility) or `histplot` (an axes-level function for histograms).\n",
            "  warnings.warn(msg, FutureWarning)\n"
          ]
        },
        {
          "output_type": "execute_result",
          "data": {
            "text/plain": [
              "<matplotlib.axes._subplots.AxesSubplot at 0x7f6fe55bf5e0>"
            ]
          },
          "metadata": {},
          "execution_count": 27
        },
        {
          "output_type": "display_data",
          "data": {
            "text/plain": [
              "<Figure size 432x288 with 1 Axes>"
            ],
            "image/png": "[encoded data removed]"
          },
          "metadata": {
            "needs_background": "light"
          }
        }
      ]
    },
    {
      "cell_type": "code",
      "source": [
        "sns.distplot(b2_boot)"
      ],
      "metadata": {
        "colab": {
          "base_uri": "https://localhost:8080/",
          "height": 339
        },
        "id": "p9xGb2eJ2Mxs",
        "outputId": "28cfffe4-e04f-4906-cfe1-93ac50d87350"
      },
      "execution_count": 28,
      "outputs": [
        {
          "output_type": "stream",
          "name": "stderr",
          "text": [
            "/usr/local/lib/python3.8/dist-packages/seaborn/distributions.py:2619: FutureWarning: `distplot` is a deprecated function and will be removed in a future version. Please adapt your code to use either `displot` (a figure-level function with similar flexibility) or `histplot` (an axes-level function for histograms).\n",
            "  warnings.warn(msg, FutureWarning)\n"
          ]
        },
        {
          "output_type": "execute_result",
          "data": {
            "text/plain": [
              "<matplotlib.axes._subplots.AxesSubplot at 0x7f6fe2feb7f0>"
            ]
          },
          "metadata": {},
          "execution_count": 28
        },
        {
          "output_type": "display_data",
          "data": {
            "text/plain": [
              "<Figure size 432x288 with 1 Axes>"
            ],
            "image/png": "[encoded data removed]"
          },
          "metadata": {
            "needs_background": "light"
          }
        }
      ]
    },
    {
      "cell_type": "code",
      "source": [
        "a1_ar=np.array(a1_boot)\n",
        "b1_ar=np.array(b1_boot)\n",
        "ab1_boot=a1_ar*b1_ar\n",
        "sns.distplot(ab1_boot)"
      ],
      "metadata": {
        "colab": {
          "base_uri": "https://localhost:8080/",
          "height": 339
        },
        "id": "V7ridjOc2OmF",
        "outputId": "a929df35-a216-45f2-80df-4fad7f5ac225"
      },
      "execution_count": 29,
      "outputs": [
        {
          "output_type": "stream",
          "name": "stderr",
          "text": [
            "/usr/local/lib/python3.8/dist-packages/seaborn/distributions.py:2619: FutureWarning: `distplot` is a deprecated function and will be removed in a future version. Please adapt your code to use either `displot` (a figure-level function with similar flexibility) or `histplot` (an axes-level function for histograms).\n",
            "  warnings.warn(msg, FutureWarning)\n"
          ]
        },
        {
          "output_type": "execute_result",
          "data": {
            "text/plain": [
              "<matplotlib.axes._subplots.AxesSubplot at 0x7f6fe2ec83d0>"
            ]
          },
          "metadata": {},
          "execution_count": 29
        },
        {
          "output_type": "display_data",
          "data": {
            "text/plain": [
              "<Figure size 432x288 with 1 Axes>"
            ],
            "image/png": "[encoded data removed]"
          },
          "metadata": {
            "needs_background": "light"
          }
        }
      ]
    },
    {
      "cell_type": "code",
      "source": [
        "a2_ar=np.array(a2_boot)\n",
        "b2_ar=np.array(b2_boot)\n",
        "ab2_boot=a2_ar*b2_ar\n",
        "sns.distplot(ab2_boot)"
      ],
      "metadata": {
        "colab": {
          "base_uri": "https://localhost:8080/",
          "height": 339
        },
        "id": "4V4dKZx42OvB",
        "outputId": "22d05b1c-3cf2-4b11-dada-14de4a206ecd"
      },
      "execution_count": 30,
      "outputs": [
        {
          "output_type": "stream",
          "name": "stderr",
          "text": [
            "/usr/local/lib/python3.8/dist-packages/seaborn/distributions.py:2619: FutureWarning: `distplot` is a deprecated function and will be removed in a future version. Please adapt your code to use either `displot` (a figure-level function with similar flexibility) or `histplot` (an axes-level function for histograms).\n",
            "  warnings.warn(msg, FutureWarning)\n"
          ]
        },
        {
          "output_type": "execute_result",
          "data": {
            "text/plain": [
              "<matplotlib.axes._subplots.AxesSubplot at 0x7f6fe2ddc400>"
            ]
          },
          "metadata": {},
          "execution_count": 30
        },
        {
          "output_type": "display_data",
          "data": {
            "text/plain": [
              "<Figure size 432x288 with 1 Axes>"
            ],
            "image/png": "[encoded data removed]"
          },
          "metadata": {
            "needs_background": "light"
          }
        }
      ]
    },
    {
      "cell_type": "code",
      "source": [
        "# 간접효과 a1에 대한 부트스트랩 신뢰구간\n",
        "a1_boot.sort()\n",
        "al=np.abs((a1_boot[124]+ a1_boot[125])/2)\n",
        "au=np.abs((a1_boot[4873]+a1_boot[4874])/2)\n",
        "acl=[a1- al*sea,a1 + au*sea]\n",
        "acl"
      ],
      "metadata": {
        "colab": {
          "base_uri": "https://localhost:8080/"
        },
        "id": "QrjUTzAp5qiw",
        "outputId": "b49baa73-53f5-4670-df00-f50f4118415f"
      },
      "execution_count": 31,
      "outputs": [
        {
          "output_type": "execute_result",
          "data": {
            "text/plain": [
              "[array([0.48119539]), array([0.49798582])]"
            ]
          },
          "metadata": {},
          "execution_count": 31
        }
      ]
    },
    {
      "cell_type": "code",
      "source": [
        "# 간접효과 a2에 대한 부트스트랩 신뢰구간\n",
        "a2_boot.sort()\n",
        "a2l=np.abs((a2_boot[124]+ a2_boot[125])/2)\n",
        "a2u=np.abs((a2_boot[4873]+a2_boot[4874])/2)\n",
        "a2cl=[a2- a2l*sea,a2 + a2u*sea]\n",
        "a2cl"
      ],
      "metadata": {
        "colab": {
          "base_uri": "https://localhost:8080/"
        },
        "id": "WkzLOkgE5qsB",
        "outputId": "34be2e07-26a9-4f76-9dfe-29651fcc9881"
      },
      "execution_count": 32,
      "outputs": [
        {
          "output_type": "execute_result",
          "data": {
            "text/plain": [
              "[array([0.44351208]), array([0.45899194])]"
            ]
          },
          "metadata": {},
          "execution_count": 32
        }
      ]
    },
    {
      "cell_type": "code",
      "source": [
        "# 간접효과 b1에 대한 부트스트랩 신뢰구간\n",
        "b1_boot.sort()\n",
        "bl=np.abs((b1_boot[124]+ b1_boot[125])/2)\n",
        "bu=np.abs((b1_boot[4873]+b1_boot[4874])/2)\n",
        "bcl=[b1- bl*seb1,b1 + bu*seb1]\n",
        "bcl"
      ],
      "metadata": {
        "colab": {
          "base_uri": "https://localhost:8080/"
        },
        "id": "ukSsFxms6F1M",
        "outputId": "0a2a5b5f-bbf7-4717-bc7c-0a68c550bae1"
      },
      "execution_count": 33,
      "outputs": [
        {
          "output_type": "execute_result",
          "data": {
            "text/plain": [
              "[array([0.1255612]), array([0.13155921])]"
            ]
          },
          "metadata": {},
          "execution_count": 33
        }
      ]
    },
    {
      "cell_type": "code",
      "source": [
        "# 간접효과 b2에 대한 부트스트랩 신뢰구간\n",
        "b2_boot.sort()\n",
        "b2l=np.abs((b2_boot[124]+ b2_boot[125])/2)\n",
        "b2u=np.abs((b2_boot[4873]+b2_boot[4874])/2)\n",
        "b2cl=[b2- b2l*seb2,b2 + b2u*seb2]\n",
        "b2cl"
      ],
      "metadata": {
        "colab": {
          "base_uri": "https://localhost:8080/"
        },
        "id": "OUJPzsXI6GCJ",
        "outputId": "d85f08eb-3291-4ddd-9543-3f9cf6eee078"
      },
      "execution_count": 34,
      "outputs": [
        {
          "output_type": "execute_result",
          "data": {
            "text/plain": [
              "[array([0.11969972]), array([0.12489402])]"
            ]
          },
          "metadata": {},
          "execution_count": 34
        }
      ]
    },
    {
      "cell_type": "code",
      "source": [
        "# 간접효과 ab1에 대한 부트스트랩 신뢰구간\n",
        "ab1_boot.sort()\n",
        "ab1= a1*b1\n",
        "abl=np.abs((ab1_boot[124]+ ab1_boot[125])/2)\n",
        "abu=np.abs((ab1_boot[4873]+ab1_boot[4874])/2)\n",
        "abcl=[ab1- abl*seab1,ab1 + abu*seab1]\n",
        "abcl"
      ],
      "metadata": {
        "colab": {
          "base_uri": "https://localhost:8080/"
        },
        "id": "20gUP7Z_2gGe",
        "outputId": "59f74b4d-6287-4235-bf23-3969fc04a1c4"
      },
      "execution_count": 35,
      "outputs": [
        {
          "output_type": "execute_result",
          "data": {
            "text/plain": [
              "[array([0.06178484]), array([0.06322269])]"
            ]
          },
          "metadata": {},
          "execution_count": 35
        }
      ]
    },
    {
      "cell_type": "code",
      "source": [
        "# 간접효과 ab2에 대한 부트스트랩 신뢰구간\n",
        "ab2_boot.sort()\n",
        "ab2= a2*b2\n",
        "abl2=np.abs((ab2_boot[124]+ ab2_boot[125])/2)\n",
        "abu2=np.abs((ab2_boot[4873]+ab2_boot[4874])/2)\n",
        "abcl2=[ab2- abl2*seab2,ab2 + abu2*seab2]\n",
        "abcl2"
      ],
      "metadata": {
        "colab": {
          "base_uri": "https://localhost:8080/"
        },
        "id": "Lzkl6DwA2gPM",
        "outputId": "38f8edc4-d767-48da-9d88-6da3ed6185ba"
      },
      "execution_count": 36,
      "outputs": [
        {
          "output_type": "execute_result",
          "data": {
            "text/plain": [
              "[array([0.05430374]), array([0.05541708])]"
            ]
          },
          "metadata": {},
          "execution_count": 36
        }
      ]
    }
  ]
}
