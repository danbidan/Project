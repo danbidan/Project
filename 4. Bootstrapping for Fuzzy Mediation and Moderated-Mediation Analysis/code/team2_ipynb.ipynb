{
  "nbformat": 4,
  "nbformat_minor": 0,
  "metadata": {
    "colab": {
      "provenance": [],
      "authorship_tag": "ABX9TyMLlFzRJryLsNOHiXhhdECi",
      "include_colab_link": true
    },
    "kernelspec": {
      "name": "python3",
      "display_name": "Python 3"
    },
    "language_info": {
      "name": "python"
    }
  },
  "cells": [
    {
      "cell_type": "markdown",
      "metadata": {
        "id": "view-in-github",
        "colab_type": "text"
      },
      "source": [
        "<a href=\"https://colab.research.google.com/github/KangHyeonGu1/-/blob/main/team2_ipynb%EC%9D%98_%EC%82%AC%EB%B3%B8.ipynb\" target=\"_parent\"><img src=\"https://colab.research.google.com/assets/colab-badge.svg\" alt=\"Open In Colab\"/></a>"
      ]
    },
    {
      "cell_type": "code",
      "execution_count": 2,
      "metadata": {
        "id": "rsJQjHOTWmXF"
      },
      "outputs": [],
      "source": [
        "import numpy as np\n",
        "import pandas as pd\n",
        "import seaborn as sns\n",
        "from statsmodels.formula.api import ols\n",
        "import scipy.stats as stats"
      ]
    },
    {
      "cell_type": "markdown",
      "source": [],
      "metadata": {
        "id": "__V87LEtagCf"
      }
    },
    {
      "cell_type": "code",
      "source": [
        "data=pd.read_csv('teams.csv')\n",
        "data.head()\n",
        "rm = ols(' negtone~ dysfunc', data=data).fit()\n",
        "rm.summary()\n",
        "rm.params"
      ],
      "metadata": {
        "colab": {
          "base_uri": "https://localhost:8080/"
        },
        "id": "LeTqhuAOWwzF",
        "outputId": "56b0927e-5c26-4c18-a0b3-d8d5a486d66b"
      },
      "execution_count": 3,
      "outputs": [
        {
          "output_type": "execute_result",
          "data": {
            "text/plain": [
              "Intercept    0.025682\n",
              "dysfunc      0.619753\n",
              "dtype: float64"
            ]
          },
          "metadata": {},
          "execution_count": 3
        }
      ]
    },
    {
      "cell_type": "code",
      "source": [
        "ry = ols(' perform~ dysfunc + negtone', data=data).fit()\n",
        "ry.summary()\n",
        "ry.params"
      ],
      "metadata": {
        "colab": {
          "base_uri": "https://localhost:8080/"
        },
        "id": "8HkiQ7O6Ww-w",
        "outputId": "cbd0ca73-f9dd-403b-c207-25b57b1ad731"
      },
      "execution_count": 4,
      "outputs": [
        {
          "output_type": "execute_result",
          "data": {
            "text/plain": [
              "Intercept   -0.021764\n",
              "dysfunc      0.441439\n",
              "negtone     -0.534396\n",
              "dtype: float64"
            ]
          },
          "metadata": {},
          "execution_count": 4
        }
      ]
    },
    {
      "cell_type": "code",
      "source": [
        "ones=np.ones(shape=(60,3))\n",
        "def dc(a,b):          \n",
        "  c=a*b\n",
        "  sum=c.sum()\n",
        "  return sum"
      ],
      "metadata": {
        "id": "tmqrVCikJDZF"
      },
      "execution_count": 5,
      "outputs": []
    },
    {
      "cell_type": "code",
      "source": [
        "# 퍼지회구계수 추정을 위한 함수\n",
        "def freg(data):\n",
        "  df=data['dysfunc']\n",
        "  xdf=pd.DataFrame({'a':df-0.05,'b':df,'c':df+0.05})\n",
        "  x=xdf.to_numpy()\n",
        "  net=data['negtone']\n",
        "  mdf=pd.DataFrame({'a':net-0.05,'b':net,'c':net+0.05})\n",
        "  m=mdf.to_numpy()\n",
        "  per=data['perform']\n",
        "  ydf=pd.DataFrame({'a':per-0.05,'b':per,'c':per+0.05})\n",
        "  y=ydf.to_numpy()\n",
        "  xtx=np.zeros(shape=(2,2))\n",
        "  xlist=[ones,x]\n",
        "  for i in range(0,2):    \n",
        "    for j in range(0,2):\n",
        "      xtx[i,j]= dc(xlist[i],xlist[j])\n",
        "  xtm=np.zeros(shape=(2,1))\n",
        "  for i in range(0,2):    \n",
        "    for j in range(0,1):\n",
        "      xtm[i,j]= dc(xlist[i],m)\n",
        "  lxtx=np.linalg.inv(xtx)\n",
        "  b=lxtx@xtm\n",
        "  b=np.around(b, decimals=4)\n",
        "  xtx2=np.zeros(shape=(3,3))\n",
        "  xlist2=[ones,x,m]\n",
        "  for i in range(0,3):    \n",
        "    for j in range(0,3):\n",
        "      xtx2[i,j]= dc(xlist2[i],xlist2[j])\n",
        "  xty=np.zeros(shape=(3,1))\n",
        "  for i in range(0,3):    \n",
        "    for j in range(0,1):\n",
        "      xty[i,j]= dc(xlist2[i],y)\n",
        "  lxtx2=np.linalg.inv(xtx2)\n",
        "  b2=lxtx2@xty\n",
        "  b2=np.around(b2, decimals=4)\n",
        "  b2 \n",
        "  return b, b2\n"
      ],
      "metadata": {
        "id": "lpFS7mpJWxTu"
      },
      "execution_count": 6,
      "outputs": []
    },
    {
      "cell_type": "code",
      "source": [
        "para=freg(data)"
      ],
      "metadata": {
        "id": "Wc5FD4YwMLsi"
      },
      "execution_count": 7,
      "outputs": []
    },
    {
      "cell_type": "code",
      "source": [
        "# sd 통계적 추론 \n",
        "df=data['dysfunc']\n",
        "xdf=pd.DataFrame({'a':df-0.05,'b':df,'c':df+0.05})\n",
        "x=xdf.to_numpy()\n",
        "net=data['negtone']\n",
        "mdf=pd.DataFrame({'a':net-0.05,'b':net,'c':net+0.05})\n",
        "m=mdf.to_numpy()\n",
        "per=data['perform']\n",
        "ydf=pd.DataFrame({'a':per-0.05,'b':per,'c':per+0.05})\n",
        "y=ydf.to_numpy()"
      ],
      "metadata": {
        "id": "jkxYkyumesDu"
      },
      "execution_count": 8,
      "outputs": []
    },
    {
      "cell_type": "code",
      "source": [
        "x_m=x.sum(axis=0)/60\n",
        "x_m"
      ],
      "metadata": {
        "colab": {
          "base_uri": "https://localhost:8080/"
        },
        "id": "s2ZXJ8zOfXod",
        "outputId": "56b8e94f-7f5d-4b9b-c80a-d2ab20e097e2"
      },
      "execution_count": 9,
      "outputs": [
        {
          "output_type": "execute_result",
          "data": {
            "text/plain": [
              "array([-0.01533333,  0.03466667,  0.08466667])"
            ]
          },
          "metadata": {},
          "execution_count": 9
        }
      ]
    },
    {
      "cell_type": "code",
      "source": [
        "d2=(x-x_m)**2\n",
        "sd=np.sqrt(d2.sum()/59)\n",
        "sd\n",
        "se=sd/np.sqrt(60)\n",
        "se"
      ],
      "metadata": {
        "colab": {
          "base_uri": "https://localhost:8080/"
        },
        "id": "_MvQM1U1fnJq",
        "outputId": "bf6a30a2-381a-4440-a577-f75aef5dbb25"
      },
      "execution_count": 10,
      "outputs": [
        {
          "output_type": "execute_result",
          "data": {
            "text/plain": [
              "0.08310547379090802"
            ]
          },
          "metadata": {},
          "execution_count": 10
        }
      ]
    },
    {
      "cell_type": "code",
      "source": [
        "m_m=m.sum(axis=0)/60\n",
        "m_m\n",
        "d2b=(m-m_m)**2\n",
        "sdb=np.sqrt(d2b.sum()/59)\n",
        "sdb\n",
        "seb=sdb/np.sqrt(60)\n",
        "seb"
      ],
      "metadata": {
        "colab": {
          "base_uri": "https://localhost:8080/"
        },
        "id": "JIm3GQLCzbFn",
        "outputId": "5f632ce9-4239-49b6-8ff4-bb117a1cad58"
      },
      "execution_count": 11,
      "outputs": [
        {
          "output_type": "execute_result",
          "data": {
            "text/plain": [
              "0.11748212389563038"
            ]
          },
          "metadata": {},
          "execution_count": 11
        }
      ]
    },
    {
      "cell_type": "code",
      "source": [
        "# seab\n",
        "seab=np.sqrt((para[0][1]**2*seb**2)+ (para[1][2]**2*se**2) + (se**2*seb**2) )\n",
        "seab"
      ],
      "metadata": {
        "colab": {
          "base_uri": "https://localhost:8080/"
        },
        "id": "Ux6Cb1y0i68q",
        "outputId": "f1c8d737-9ba6-4659-970a-a02333ba4565"
      },
      "execution_count": 12,
      "outputs": [
        {
          "output_type": "execute_result",
          "data": {
            "text/plain": [
              "array([0.08617409])"
            ]
          },
          "metadata": {},
          "execution_count": 12
        }
      ]
    },
    {
      "cell_type": "code",
      "source": [
        "# a의 95% 신뢰구간과 z값 검정\n",
        "a=para[0][1]\n",
        "CI=[a-1.96*se,a+1.96*se]\n",
        "z=a/se\n",
        "p = 2 * (1 - stats.norm.cdf(np.abs(z)))\n",
        "print(CI,p)"
      ],
      "metadata": {
        "colab": {
          "base_uri": "https://localhost:8080/"
        },
        "id": "bImM9Ne_7MOK",
        "outputId": "653f956f-ccfc-4cc0-f5b6-9177ff47eb8a"
      },
      "execution_count": 15,
      "outputs": [
        {
          "output_type": "stream",
          "name": "stdout",
          "text": [
            "[array([0.46151327]), array([0.78728673])] [5.77315973e-14]\n"
          ]
        }
      ]
    },
    {
      "cell_type": "code",
      "source": [
        "# b의 95% 신뢰구간과 z값 검정\n",
        "b=para[1][2]\n",
        "CI=[b-1.96*seb,b+1.96*seb]\n",
        "z=b/seb\n",
        "p = 2 * (1 - stats.norm.cdf(np.abs(z)))\n",
        "print(CI,p)"
      ],
      "metadata": {
        "colab": {
          "base_uri": "https://localhost:8080/"
        },
        "id": "URocxuu87b-9",
        "outputId": "86e78310-20fe-43d0-dc02-923c19dc39ae"
      },
      "execution_count": 16,
      "outputs": [
        {
          "output_type": "stream",
          "name": "stdout",
          "text": [
            "[array([-0.76156496]), array([-0.30103504])] [6.11452211e-06]\n"
          ]
        }
      ]
    },
    {
      "cell_type": "code",
      "source": [
        "# ab의 95% 신뢰구간과 z값 검정\n",
        "ab=para[0][1]*para[1][2]\n",
        "CI=[ab-1.96*seab,ab+1.96*seab]\n",
        "z=ab/seab\n",
        "p = 2 * (1 - stats.norm.cdf(np.abs(z)))\n",
        "print(CI,p)"
      ],
      "metadata": {
        "colab": {
          "base_uri": "https://localhost:8080/"
        },
        "id": "ISui6PtWjHEF",
        "outputId": "6d1c4c60-57ca-4fa0-f83c-cfd828b7c0ed"
      },
      "execution_count": 17,
      "outputs": [
        {
          "output_type": "stream",
          "name": "stdout",
          "text": [
            "[array([-0.50064493]), array([-0.16284251])] [0.00011827]\n"
          ]
        }
      ]
    },
    {
      "cell_type": "code",
      "source": [
        "#부트스트랩 표본\n",
        "a_boot=[None]*5000\n",
        "c_boot=[None]*5000\n",
        "b_boot=[None]*5000\n",
        "for i in range(0,5000):\n",
        "  new_data=data.sample(n=60,replace=True)\n",
        "  parameters=freg(new_data)\n",
        "  a_boot[i]= parameters[0][1]\n",
        "  c_boot[i]= parameters[1][1]\n",
        "  b_boot[i]= parameters[1][2]"
      ],
      "metadata": {
        "id": "Ga8xAMCLizn-"
      },
      "execution_count": 14,
      "outputs": []
    },
    {
      "cell_type": "code",
      "source": [
        "sns.distplot(a_boot)"
      ],
      "metadata": {
        "colab": {
          "base_uri": "https://localhost:8080/",
          "height": 339
        },
        "id": "Q2QmYeOimm3V",
        "outputId": "4e9c379a-40a9-4a1e-f66a-9768f157d390"
      },
      "execution_count": 18,
      "outputs": [
        {
          "output_type": "stream",
          "name": "stderr",
          "text": [
            "/usr/local/lib/python3.8/dist-packages/seaborn/distributions.py:2619: FutureWarning: `distplot` is a deprecated function and will be removed in a future version. Please adapt your code to use either `displot` (a figure-level function with similar flexibility) or `histplot` (an axes-level function for histograms).\n",
            "  warnings.warn(msg, FutureWarning)\n"
          ]
        },
        {
          "output_type": "execute_result",
          "data": {
            "text/plain": [
              "<matplotlib.axes._subplots.AxesSubplot at 0x7f1fa86148e0>"
            ]
          },
          "metadata": {},
          "execution_count": 18
        },
        {
          "output_type": "display_data",
          "data": {
            "text/plain": [
              "<Figure size 432x288 with 1 Axes>"
            ],
            "image/png": "[encoded data removed]"
          },
          "metadata": {
            "needs_background": "light"
          }
        }
      ]
    },
    {
      "cell_type": "code",
      "source": [
        "sns.distplot(b_boot)"
      ],
      "metadata": {
        "colab": {
          "base_uri": "https://localhost:8080/",
          "height": 339
        },
        "id": "7xHCWnpdnFvy",
        "outputId": "03a00be0-a3b9-4cb8-9b0d-906c17bcee34"
      },
      "execution_count": 19,
      "outputs": [
        {
          "output_type": "stream",
          "name": "stderr",
          "text": [
            "/usr/local/lib/python3.8/dist-packages/seaborn/distributions.py:2619: FutureWarning: `distplot` is a deprecated function and will be removed in a future version. Please adapt your code to use either `displot` (a figure-level function with similar flexibility) or `histplot` (an axes-level function for histograms).\n",
            "  warnings.warn(msg, FutureWarning)\n"
          ]
        },
        {
          "output_type": "execute_result",
          "data": {
            "text/plain": [
              "<matplotlib.axes._subplots.AxesSubplot at 0x7f1fa6457bb0>"
            ]
          },
          "metadata": {},
          "execution_count": 19
        },
        {
          "output_type": "display_data",
          "data": {
            "text/plain": [
              "<Figure size 432x288 with 1 Axes>"
            ],
            "image/png": "[encoded data removed]"
          },
          "metadata": {
            "needs_background": "light"
          }
        }
      ]
    },
    {
      "cell_type": "code",
      "source": [
        "a_ar=np.array(a_boot)\n",
        "b_ar=np.array(b_boot)\n",
        "ab_boot=a_ar*b_ar\n",
        "sns.distplot(ab_boot)"
      ],
      "metadata": {
        "colab": {
          "base_uri": "https://localhost:8080/",
          "height": 339
        },
        "id": "cZB7JcY9DLME",
        "outputId": "09f86245-fb23-451c-970b-c7aa44bd4785"
      },
      "execution_count": 20,
      "outputs": [
        {
          "output_type": "stream",
          "name": "stderr",
          "text": [
            "/usr/local/lib/python3.8/dist-packages/seaborn/distributions.py:2619: FutureWarning: `distplot` is a deprecated function and will be removed in a future version. Please adapt your code to use either `displot` (a figure-level function with similar flexibility) or `histplot` (an axes-level function for histograms).\n",
            "  warnings.warn(msg, FutureWarning)\n"
          ]
        },
        {
          "output_type": "execute_result",
          "data": {
            "text/plain": [
              "<matplotlib.axes._subplots.AxesSubplot at 0x7f1fa5f5c790>"
            ]
          },
          "metadata": {},
          "execution_count": 20
        },
        {
          "output_type": "display_data",
          "data": {
            "text/plain": [
              "<Figure size 432x288 with 1 Axes>"
            ],
            "image/png": "[encoded data removed]"
          },
          "metadata": {
            "needs_background": "light"
          }
        }
      ]
    },
    {
      "cell_type": "code",
      "source": [
        "# a에 대한 부트스트랩 신뢰구간\n",
        "a_boot.sort()\n",
        "a=para[0][1]\n",
        "al=(a_boot[124]+ a_boot[125])/2\n",
        "au=(a_boot[4873]+a_boot[4874])/2\n",
        "acl=[a- al*se,a + au*se]\n",
        "acl"
      ],
      "metadata": {
        "id": "tJXKTSjUoJqX",
        "colab": {
          "base_uri": "https://localhost:8080/"
        },
        "outputId": "31293bb6-6808-4ab5-fd33-d764bc34727d"
      },
      "execution_count": 21,
      "outputs": [
        {
          "output_type": "execute_result",
          "data": {
            "text/plain": [
              "[array([0.60498656]), array([0.71641438])]"
            ]
          },
          "metadata": {},
          "execution_count": 21
        }
      ]
    },
    {
      "cell_type": "code",
      "source": [
        "# b에 대한 부트스트랩 신뢰구간\n",
        "b_boot.sort()\n",
        "b=para[1][2]\n",
        "bl=np.abs((b_boot[124]+ b_boot[125])/2)\n",
        "bu=np.abs((b_boot[4873]+b_boot[4874])/2)\n",
        "bcl=[b- bl*seb,b + bu*seb]\n",
        "bcl"
      ],
      "metadata": {
        "colab": {
          "base_uri": "https://localhost:8080/"
        },
        "id": "PTrfRbFww4Vj",
        "outputId": "2693499a-f770-4dc8-b7af-4940d2a121ca"
      },
      "execution_count": 22,
      "outputs": [
        {
          "output_type": "execute_result",
          "data": {
            "text/plain": [
              "[array([-0.61514699]), array([-0.49983829])]"
            ]
          },
          "metadata": {},
          "execution_count": 22
        }
      ]
    },
    {
      "cell_type": "code",
      "source": [
        "# 간접효과 ab에 대한 부트스트랩 신뢰구간\n",
        "ab_boot.sort()\n",
        "ab= a*b\n",
        "abl=np.abs((ab_boot[124]+ ab_boot[125])/2)\n",
        "abu=np.abs((ab_boot[4873]+ab_boot[4874])/2)\n",
        "abcl=[ab- abl*seab,ab + abu*seab]\n",
        "abcl\n"
      ],
      "metadata": {
        "colab": {
          "base_uri": "https://localhost:8080/"
        },
        "id": "Q5Vz6l-mzv2p",
        "outputId": "a8d952e2-c992-4c31-bda7-e7798852ac5a"
      },
      "execution_count": 25,
      "outputs": [
        {
          "output_type": "execute_result",
          "data": {
            "text/plain": [
              "[array([-0.36430111]), array([-0.31090098])]"
            ]
          },
          "metadata": {},
          "execution_count": 25
        }
      ]
    }
  ]
}
