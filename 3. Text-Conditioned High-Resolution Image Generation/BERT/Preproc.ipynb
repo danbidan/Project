{
 "cells": [
  {
   "cell_type": "markdown",
   "id": "wNqoPN9nsdKt",
   "metadata": {
    "id": "wNqoPN9nsdKt"
   },
   "source": [
    "# **Preproc.ipynb**\n",
    "\n",
    "우리는 문장을 입력해주었을 때, 그 문장이 긍정문인지 부정문인지 판단해주는 AI 모델을 구축하고자 한다. AI 모델이 문장을 올바르게 분류하기 위해서는 문장 내 정보들을 인지하는 과정이 필요하다.\n",
    "\n",
    "컴퓨터는 우리가 사용하는 언어를 있는 그대로 받아들일 수 없다. 컴퓨터가 이해할 수 있는 방식, 숫자로 변환해주어야 한다. 이와 같이 AI 모델이 주어진 데이터를 이해할 수 있도록, 데이터의 형태를 변환해주는 과정을 전처리 (Preprocessing) 라고 한다.\n",
    "\n",
    "**본 파일에서는 문장 데이터를 전처리하는 과정에 대해 다뤄볼 것이다.**\n",
    "\n",
    "전처리에 필요한 함수들을 구성한 뒤, 최하단의 preproc_test 함수를 통해서 테스트해볼 것이다."
   ]
  },
  {
   "cell_type": "markdown",
   "id": "_t5wa4UAuk96",
   "metadata": {
    "id": "_t5wa4UAuk96"
   },
   "source": [
    "연습 문제를 시작하기에 앞서, 필요한 라이브러리들을 설치하자."
   ]
  },
  {
   "cell_type": "code",
   "execution_count": 1,
   "id": "b7d3c81d",
   "metadata": {
    "colab": {
     "base_uri": "https://localhost:8080/"
    },
    "executionInfo": {
     "elapsed": 49503,
     "status": "ok",
     "timestamp": 1690535636054,
     "user": {
      "displayName": "sieun hyun",
      "userId": "18424057181478020899"
     },
     "user_tz": -540
    },
    "id": "b7d3c81d",
    "outputId": "66d3b16d-4e98-40ab-e231-37a325d1f802"
   },
   "outputs": [
    {
     "name": "stdout",
     "output_type": "stream",
     "text": [
      "Collecting mxnet\n",
      "  Downloading mxnet-1.9.1-py3-none-manylinux2014_x86_64.whl (49.1 MB)\n",
      "\u001b[2K     \u001b[90m━━━━━━━━━━━━━━━━━━━━━━━━━━━━━━━━━━━━━━━━\u001b[0m \u001b[32m49.1/49.1 MB\u001b[0m \u001b[31m12.7 MB/s\u001b[0m eta \u001b[36m0:00:00\u001b[0m\n",
      "\u001b[?25hRequirement already satisfied: numpy<2.0.0,>1.16.0 in /usr/local/lib/python3.10/dist-packages (from mxnet) (1.22.4)\n",
      "Requirement already satisfied: requests<3,>=2.20.0 in /usr/local/lib/python3.10/dist-packages (from mxnet) (2.27.1)\n",
      "Collecting graphviz<0.9.0,>=0.8.1 (from mxnet)\n",
      "  Downloading graphviz-0.8.4-py2.py3-none-any.whl (16 kB)\n",
      "Requirement already satisfied: urllib3<1.27,>=1.21.1 in /usr/local/lib/python3.10/dist-packages (from requests<3,>=2.20.0->mxnet) (1.26.16)\n",
      "Requirement already satisfied: certifi>=2017.4.17 in /usr/local/lib/python3.10/dist-packages (from requests<3,>=2.20.0->mxnet) (2023.7.22)\n",
      "Requirement already satisfied: charset-normalizer~=2.0.0 in /usr/local/lib/python3.10/dist-packages (from requests<3,>=2.20.0->mxnet) (2.0.12)\n",
      "Requirement already satisfied: idna<4,>=2.5 in /usr/local/lib/python3.10/dist-packages (from requests<3,>=2.20.0->mxnet) (3.4)\n",
      "Installing collected packages: graphviz, mxnet\n",
      "  Attempting uninstall: graphviz\n",
      "    Found existing installation: graphviz 0.20.1\n",
      "    Uninstalling graphviz-0.20.1:\n",
      "      Successfully uninstalled graphviz-0.20.1\n",
      "Successfully installed graphviz-0.8.4 mxnet-1.9.1\n",
      "Requirement already satisfied: pandas in /usr/local/lib/python3.10/dist-packages (1.5.3)\n",
      "Requirement already satisfied: tqdm in /usr/local/lib/python3.10/dist-packages (4.65.0)\n",
      "Requirement already satisfied: python-dateutil>=2.8.1 in /usr/local/lib/python3.10/dist-packages (from pandas) (2.8.2)\n",
      "Requirement already satisfied: pytz>=2020.1 in /usr/local/lib/python3.10/dist-packages (from pandas) (2022.7.1)\n",
      "Requirement already satisfied: numpy>=1.21.0 in /usr/local/lib/python3.10/dist-packages (from pandas) (1.22.4)\n",
      "Requirement already satisfied: six>=1.5 in /usr/local/lib/python3.10/dist-packages (from python-dateutil>=2.8.1->pandas) (1.16.0)\n",
      "Collecting sentencepiece\n",
      "  Downloading sentencepiece-0.1.99-cp310-cp310-manylinux_2_17_x86_64.manylinux2014_x86_64.whl (1.3 MB)\n",
      "\u001b[2K     \u001b[90m━━━━━━━━━━━━━━━━━━━━━━━━━━━━━━━━━━━━━━━━\u001b[0m \u001b[32m1.3/1.3 MB\u001b[0m \u001b[31m7.4 MB/s\u001b[0m eta \u001b[36m0:00:00\u001b[0m\n",
      "\u001b[?25hInstalling collected packages: sentencepiece\n",
      "Successfully installed sentencepiece-0.1.99\n",
      "Collecting transformers\n",
      "  Downloading transformers-4.31.0-py3-none-any.whl (7.4 MB)\n",
      "\u001b[2K     \u001b[90m━━━━━━━━━━━━━━━━━━━━━━━━━━━━━━━━━━━━━━━━\u001b[0m \u001b[32m7.4/7.4 MB\u001b[0m \u001b[31m18.3 MB/s\u001b[0m eta \u001b[36m0:00:00\u001b[0m\n",
      "\u001b[?25hRequirement already satisfied: filelock in /usr/local/lib/python3.10/dist-packages (from transformers) (3.12.2)\n",
      "Collecting huggingface-hub<1.0,>=0.14.1 (from transformers)\n",
      "  Downloading huggingface_hub-0.16.4-py3-none-any.whl (268 kB)\n",
      "\u001b[2K     \u001b[90m━━━━━━━━━━━━━━━━━━━━━━━━━━━━━━━━━━━━━━\u001b[0m \u001b[32m268.8/268.8 kB\u001b[0m \u001b[31m32.5 MB/s\u001b[0m eta \u001b[36m0:00:00\u001b[0m\n",
      "\u001b[?25hRequirement already satisfied: numpy>=1.17 in /usr/local/lib/python3.10/dist-packages (from transformers) (1.22.4)\n",
      "Requirement already satisfied: packaging>=20.0 in /usr/local/lib/python3.10/dist-packages (from transformers) (23.1)\n",
      "Requirement already satisfied: pyyaml>=5.1 in /usr/local/lib/python3.10/dist-packages (from transformers) (6.0.1)\n",
      "Requirement already satisfied: regex!=2019.12.17 in /usr/local/lib/python3.10/dist-packages (from transformers) (2022.10.31)\n",
      "Requirement already satisfied: requests in /usr/local/lib/python3.10/dist-packages (from transformers) (2.27.1)\n",
      "Collecting tokenizers!=0.11.3,<0.14,>=0.11.1 (from transformers)\n",
      "  Downloading tokenizers-0.13.3-cp310-cp310-manylinux_2_17_x86_64.manylinux2014_x86_64.whl (7.8 MB)\n",
      "\u001b[2K     \u001b[90m━━━━━━━━━━━━━━━━━━━━━━━━━━━━━━━━━━━━━━━━\u001b[0m \u001b[32m7.8/7.8 MB\u001b[0m \u001b[31m24.3 MB/s\u001b[0m eta \u001b[36m0:00:00\u001b[0m\n",
      "\u001b[?25hCollecting safetensors>=0.3.1 (from transformers)\n",
      "  Downloading safetensors-0.3.1-cp310-cp310-manylinux_2_17_x86_64.manylinux2014_x86_64.whl (1.3 MB)\n",
      "\u001b[2K     \u001b[90m━━━━━━━━━━━━━━━━━━━━━━━━━━━━━━━━━━━━━━━━\u001b[0m \u001b[32m1.3/1.3 MB\u001b[0m \u001b[31m51.8 MB/s\u001b[0m eta \u001b[36m0:00:00\u001b[0m\n",
      "\u001b[?25hRequirement already satisfied: tqdm>=4.27 in /usr/local/lib/python3.10/dist-packages (from transformers) (4.65.0)\n",
      "Requirement already satisfied: fsspec in /usr/local/lib/python3.10/dist-packages (from huggingface-hub<1.0,>=0.14.1->transformers) (2023.6.0)\n",
      "Requirement already satisfied: typing-extensions>=3.7.4.3 in /usr/local/lib/python3.10/dist-packages (from huggingface-hub<1.0,>=0.14.1->transformers) (4.7.1)\n",
      "Requirement already satisfied: urllib3<1.27,>=1.21.1 in /usr/local/lib/python3.10/dist-packages (from requests->transformers) (1.26.16)\n",
      "Requirement already satisfied: certifi>=2017.4.17 in /usr/local/lib/python3.10/dist-packages (from requests->transformers) (2023.7.22)\n",
      "Requirement already satisfied: charset-normalizer~=2.0.0 in /usr/local/lib/python3.10/dist-packages (from requests->transformers) (2.0.12)\n",
      "Requirement already satisfied: idna<4,>=2.5 in /usr/local/lib/python3.10/dist-packages (from requests->transformers) (3.4)\n",
      "Installing collected packages: tokenizers, safetensors, huggingface-hub, transformers\n",
      "Successfully installed huggingface-hub-0.16.4 safetensors-0.3.1 tokenizers-0.13.3 transformers-4.31.0\n",
      "Requirement already satisfied: torch in /usr/local/lib/python3.10/dist-packages (2.0.1+cu118)\n",
      "Requirement already satisfied: filelock in /usr/local/lib/python3.10/dist-packages (from torch) (3.12.2)\n",
      "Requirement already satisfied: typing-extensions in /usr/local/lib/python3.10/dist-packages (from torch) (4.7.1)\n",
      "Requirement already satisfied: sympy in /usr/local/lib/python3.10/dist-packages (from torch) (1.11.1)\n",
      "Requirement already satisfied: networkx in /usr/local/lib/python3.10/dist-packages (from torch) (3.1)\n",
      "Requirement already satisfied: jinja2 in /usr/local/lib/python3.10/dist-packages (from torch) (3.1.2)\n",
      "Requirement already satisfied: triton==2.0.0 in /usr/local/lib/python3.10/dist-packages (from torch) (2.0.0)\n",
      "Requirement already satisfied: cmake in /usr/local/lib/python3.10/dist-packages (from triton==2.0.0->torch) (3.25.2)\n",
      "Requirement already satisfied: lit in /usr/local/lib/python3.10/dist-packages (from triton==2.0.0->torch) (16.0.6)\n",
      "Requirement already satisfied: MarkupSafe>=2.0 in /usr/local/lib/python3.10/dist-packages (from jinja2->torch) (2.1.3)\n",
      "Requirement already satisfied: mpmath>=0.19 in /usr/local/lib/python3.10/dist-packages (from sympy->torch) (1.3.0)\n"
     ]
    }
   ],
   "source": [
    "!pip install mxnet\n",
    "!pip install pandas tqdm\n",
    "!pip install sentencepiece\n",
    "!pip install transformers\n",
    "!pip install torch\n",
    "!pip install --upgrade -q pyproj"
   ]
  },
  {
   "cell_type": "markdown",
   "id": "ua7HcCVDvuMs",
   "metadata": {
    "id": "ua7HcCVDvuMs"
   },
   "source": [
    "아래의 mount 함수를 통해 구글 드라이브에 접근하자."
   ]
  },
  {
   "cell_type": "code",
   "execution_count": 2,
   "id": "pdM0BfJEVz1k",
   "metadata": {
    "colab": {
     "base_uri": "https://localhost:8080/"
    },
    "executionInfo": {
     "elapsed": 13740,
     "status": "ok",
     "timestamp": 1690535808535,
     "user": {
      "displayName": "sieun hyun",
      "userId": "18424057181478020899"
     },
     "user_tz": -540
    },
    "id": "pdM0BfJEVz1k",
    "outputId": "01114d64-dec7-4ea7-b8e5-52e673f7c0a5"
   },
   "outputs": [
    {
     "name": "stdout",
     "output_type": "stream",
     "text": [
      "Mounted at /content/gdrive\n"
     ]
    }
   ],
   "source": [
    "from google.colab import drive\n",
    "drive.mount('/content/gdrive')"
   ]
  },
  {
   "cell_type": "markdown",
   "id": "23jcqTeGwzgk",
   "metadata": {
    "id": "23jcqTeGwzgk"
   },
   "source": [
    "연습 문제에 필요한 라이브러리들을 import하자."
   ]
  },
  {
   "cell_type": "code",
   "execution_count": 3,
   "id": "74f1716b",
   "metadata": {
    "executionInfo": {
     "elapsed": 9028,
     "status": "ok",
     "timestamp": 1690535817561,
     "user": {
      "displayName": "sieun hyun",
      "userId": "18424057181478020899"
     },
     "user_tz": -540
    },
    "id": "74f1716b"
   },
   "outputs": [],
   "source": [
    "import torch\n",
    "from torch import nn\n",
    "import torch.nn.functional as F\n",
    "import torch.optim as optim\n",
    "from torch.utils.data import TensorDataset, DataLoader\n",
    "import numpy as np\n",
    "from tqdm import tqdm, tqdm_notebook\n",
    "from sklearn.model_selection import train_test_split\n",
    "from keras.utils import pad_sequences\n",
    "import pandas as pd\n",
    "import traceback"
   ]
  },
  {
   "cell_type": "markdown",
   "id": "I2Bzrqxxxo7a",
   "metadata": {
    "id": "I2Bzrqxxxo7a"
   },
   "source": [
    "Pandas 라이브러리의 read_csv 함수를 활용하여 데이터셋을 읽어오자."
   ]
  },
  {
   "cell_type": "code",
   "execution_count": 4,
   "id": "s58zYf3TdJiJ",
   "metadata": {
    "executionInfo": {
     "elapsed": 2160,
     "status": "ok",
     "timestamp": 1690535819711,
     "user": {
      "displayName": "sieun hyun",
      "userId": "18424057181478020899"
     },
     "user_tz": -540
    },
    "id": "s58zYf3TdJiJ"
   },
   "outputs": [],
   "source": [
    "whole_dataset = pd.read_csv('/content/gdrive/MyDrive/BERT/ratings.txt', delimiter=\"\\t\")"
   ]
  },
  {
   "cell_type": "markdown",
   "id": "BgRtfBYvxzLY",
   "metadata": {
    "id": "BgRtfBYvxzLY"
   },
   "source": [
    "읽어 온 데이터의 형태는 어떠할까?\n",
    "\n",
    "head 함수를 활용하여 상단 5개의 data들을 출력해보고, data의 row와 column은 어떻게 구성되어 있는지 살펴보자."
   ]
  },
  {
   "cell_type": "code",
   "execution_count": 5,
   "id": "Y1bOaRtrZ1D9",
   "metadata": {
    "colab": {
     "base_uri": "https://localhost:8080/",
     "height": 206
    },
    "executionInfo": {
     "elapsed": 26,
     "status": "ok",
     "timestamp": 1690535819712,
     "user": {
      "displayName": "sieun hyun",
      "userId": "18424057181478020899"
     },
     "user_tz": -540
    },
    "id": "Y1bOaRtrZ1D9",
    "outputId": "0a2a4605-2b73-4c86-deff-7a4e5597b2e0"
   },
   "outputs": [
    {
     "data": {
      "text/html": [
       "\n",
       "\n",
       "  <div id=\"df-df77a4dc-2735-44ef-b8f9-fe43c7f1e4f1\">\n",
       "    <div class=\"colab-df-container\">\n",
       "      <div>\n",
       "<style scoped>\n",
       "    .dataframe tbody tr th:only-of-type {\n",
       "        vertical-align: middle;\n",
       "    }\n",
       "\n",
       "    .dataframe tbody tr th {\n",
       "        vertical-align: top;\n",
       "    }\n",
       "\n",
       "    .dataframe thead th {\n",
       "        text-align: right;\n",
       "    }\n",
       "</style>\n",
       "<table border=\"1\" class=\"dataframe\">\n",
       "  <thead>\n",
       "    <tr style=\"text-align: right;\">\n",
       "      <th></th>\n",
       "      <th>id</th>\n",
       "      <th>document</th>\n",
       "      <th>label</th>\n",
       "    </tr>\n",
       "  </thead>\n",
       "  <tbody>\n",
       "    <tr>\n",
       "      <th>0</th>\n",
       "      <td>8112052</td>\n",
       "      <td>어릴때보고 지금다시봐도 재밌어요ㅋㅋ</td>\n",
       "      <td>1</td>\n",
       "    </tr>\n",
       "    <tr>\n",
       "      <th>1</th>\n",
       "      <td>8132799</td>\n",
       "      <td>디자인을 배우는 학생으로, 외국디자이너와 그들이 일군 전통을 통해 발전해가는 문화산...</td>\n",
       "      <td>1</td>\n",
       "    </tr>\n",
       "    <tr>\n",
       "      <th>2</th>\n",
       "      <td>4655635</td>\n",
       "      <td>폴리스스토리 시리즈는 1부터 뉴까지 버릴께 하나도 없음.. 최고.</td>\n",
       "      <td>1</td>\n",
       "    </tr>\n",
       "    <tr>\n",
       "      <th>3</th>\n",
       "      <td>9251303</td>\n",
       "      <td>와.. 연기가 진짜 개쩔구나.. 지루할거라고 생각했는데 몰입해서 봤다.. 그래 이런...</td>\n",
       "      <td>1</td>\n",
       "    </tr>\n",
       "    <tr>\n",
       "      <th>4</th>\n",
       "      <td>10067386</td>\n",
       "      <td>안개 자욱한 밤하늘에 떠 있는 초승달 같은 영화.</td>\n",
       "      <td>1</td>\n",
       "    </tr>\n",
       "  </tbody>\n",
       "</table>\n",
       "</div>\n",
       "      <button class=\"colab-df-convert\" onclick=\"convertToInteractive('df-df77a4dc-2735-44ef-b8f9-fe43c7f1e4f1')\"\n",
       "              title=\"Convert this dataframe to an interactive table.\"\n",
       "              style=\"display:none;\">\n",
       "\n",
       "  <svg xmlns=\"http://www.w3.org/2000/svg\" height=\"24px\"viewBox=\"0 0 24 24\"\n",
       "       width=\"24px\">\n",
       "    <path d=\"M0 0h24v24H0V0z\" fill=\"none\"/>\n",
       "    <path d=\"M18.56 5.44l.94 2.06.94-2.06 2.06-.94-2.06-.94-.94-2.06-.94 2.06-2.06.94zm-11 1L8.5 8.5l.94-2.06 2.06-.94-2.06-.94L8.5 2.5l-.94 2.06-2.06.94zm10 10l.94 2.06.94-2.06 2.06-.94-2.06-.94-.94-2.06-.94 2.06-2.06.94z\"/><path d=\"M17.41 7.96l-1.37-1.37c-.4-.4-.92-.59-1.43-.59-.52 0-1.04.2-1.43.59L10.3 9.45l-7.72 7.72c-.78.78-.78 2.05 0 2.83L4 21.41c.39.39.9.59 1.41.59.51 0 1.02-.2 1.41-.59l7.78-7.78 2.81-2.81c.8-.78.8-2.07 0-2.86zM5.41 20L4 18.59l7.72-7.72 1.47 1.35L5.41 20z\"/>\n",
       "  </svg>\n",
       "      </button>\n",
       "\n",
       "\n",
       "\n",
       "    <div id=\"df-c6bc58c2-f6b1-476b-b5ee-d8992c56c8dc\">\n",
       "      <button class=\"colab-df-quickchart\" onclick=\"quickchart('df-c6bc58c2-f6b1-476b-b5ee-d8992c56c8dc')\"\n",
       "              title=\"Suggest charts.\"\n",
       "              style=\"display:none;\">\n",
       "\n",
       "<svg xmlns=\"http://www.w3.org/2000/svg\" height=\"24px\"viewBox=\"0 0 24 24\"\n",
       "     width=\"24px\">\n",
       "    <g>\n",
       "        <path d=\"M19 3H5c-1.1 0-2 .9-2 2v14c0 1.1.9 2 2 2h14c1.1 0 2-.9 2-2V5c0-1.1-.9-2-2-2zM9 17H7v-7h2v7zm4 0h-2V7h2v10zm4 0h-2v-4h2v4z\"/>\n",
       "    </g>\n",
       "</svg>\n",
       "      </button>\n",
       "    </div>\n",
       "\n",
       "<style>\n",
       "  .colab-df-quickchart {\n",
       "    background-color: #E8F0FE;\n",
       "    border: none;\n",
       "    border-radius: 50%;\n",
       "    cursor: pointer;\n",
       "    display: none;\n",
       "    fill: #1967D2;\n",
       "    height: 32px;\n",
       "    padding: 0 0 0 0;\n",
       "    width: 32px;\n",
       "  }\n",
       "\n",
       "  .colab-df-quickchart:hover {\n",
       "    background-color: #E2EBFA;\n",
       "    box-shadow: 0px 1px 2px rgba(60, 64, 67, 0.3), 0px 1px 3px 1px rgba(60, 64, 67, 0.15);\n",
       "    fill: #174EA6;\n",
       "  }\n",
       "\n",
       "  [theme=dark] .colab-df-quickchart {\n",
       "    background-color: #3B4455;\n",
       "    fill: #D2E3FC;\n",
       "  }\n",
       "\n",
       "  [theme=dark] .colab-df-quickchart:hover {\n",
       "    background-color: #434B5C;\n",
       "    box-shadow: 0px 1px 3px 1px rgba(0, 0, 0, 0.15);\n",
       "    filter: drop-shadow(0px 1px 2px rgba(0, 0, 0, 0.3));\n",
       "    fill: #FFFFFF;\n",
       "  }\n",
       "</style>\n",
       "\n",
       "    <script>\n",
       "      async function quickchart(key) {\n",
       "        const containerElement = document.querySelector('#' + key);\n",
       "        const charts = await google.colab.kernel.invokeFunction(\n",
       "            'suggestCharts', [key], {});\n",
       "      }\n",
       "    </script>\n",
       "\n",
       "      <script>\n",
       "\n",
       "function displayQuickchartButton(domScope) {\n",
       "  let quickchartButtonEl =\n",
       "    domScope.querySelector('#df-c6bc58c2-f6b1-476b-b5ee-d8992c56c8dc button.colab-df-quickchart');\n",
       "  quickchartButtonEl.style.display =\n",
       "    google.colab.kernel.accessAllowed ? 'block' : 'none';\n",
       "}\n",
       "\n",
       "        displayQuickchartButton(document);\n",
       "      </script>\n",
       "      <style>\n",
       "    .colab-df-container {\n",
       "      display:flex;\n",
       "      flex-wrap:wrap;\n",
       "      gap: 12px;\n",
       "    }\n",
       "\n",
       "    .colab-df-convert {\n",
       "      background-color: #E8F0FE;\n",
       "      border: none;\n",
       "      border-radius: 50%;\n",
       "      cursor: pointer;\n",
       "      display: none;\n",
       "      fill: #1967D2;\n",
       "      height: 32px;\n",
       "      padding: 0 0 0 0;\n",
       "      width: 32px;\n",
       "    }\n",
       "\n",
       "    .colab-df-convert:hover {\n",
       "      background-color: #E2EBFA;\n",
       "      box-shadow: 0px 1px 2px rgba(60, 64, 67, 0.3), 0px 1px 3px 1px rgba(60, 64, 67, 0.15);\n",
       "      fill: #174EA6;\n",
       "    }\n",
       "\n",
       "    [theme=dark] .colab-df-convert {\n",
       "      background-color: #3B4455;\n",
       "      fill: #D2E3FC;\n",
       "    }\n",
       "\n",
       "    [theme=dark] .colab-df-convert:hover {\n",
       "      background-color: #434B5C;\n",
       "      box-shadow: 0px 1px 3px 1px rgba(0, 0, 0, 0.15);\n",
       "      filter: drop-shadow(0px 1px 2px rgba(0, 0, 0, 0.3));\n",
       "      fill: #FFFFFF;\n",
       "    }\n",
       "  </style>\n",
       "\n",
       "      <script>\n",
       "        const buttonEl =\n",
       "          document.querySelector('#df-df77a4dc-2735-44ef-b8f9-fe43c7f1e4f1 button.colab-df-convert');\n",
       "        buttonEl.style.display =\n",
       "          google.colab.kernel.accessAllowed ? 'block' : 'none';\n",
       "\n",
       "        async function convertToInteractive(key) {\n",
       "          const element = document.querySelector('#df-df77a4dc-2735-44ef-b8f9-fe43c7f1e4f1');\n",
       "          const dataTable =\n",
       "            await google.colab.kernel.invokeFunction('convertToInteractive',\n",
       "                                                     [key], {});\n",
       "          if (!dataTable) return;\n",
       "\n",
       "          const docLinkHtml = 'Like what you see? Visit the ' +\n",
       "            '<a target=\"_blank\" href=https://colab.research.google.com/notebooks/data_table.ipynb>data table notebook</a>'\n",
       "            + ' to learn more about interactive tables.';\n",
       "          element.innerHTML = '';\n",
       "          dataTable['output_type'] = 'display_data';\n",
       "          await google.colab.output.renderOutput(dataTable, element);\n",
       "          const docLink = document.createElement('div');\n",
       "          docLink.innerHTML = docLinkHtml;\n",
       "          element.appendChild(docLink);\n",
       "        }\n",
       "      </script>\n",
       "    </div>\n",
       "  </div>\n"
      ],
      "text/plain": [
       "         id                                           document  label\n",
       "0   8112052                                어릴때보고 지금다시봐도 재밌어요ㅋㅋ      1\n",
       "1   8132799  디자인을 배우는 학생으로, 외국디자이너와 그들이 일군 전통을 통해 발전해가는 문화산...      1\n",
       "2   4655635               폴리스스토리 시리즈는 1부터 뉴까지 버릴께 하나도 없음.. 최고.      1\n",
       "3   9251303  와.. 연기가 진짜 개쩔구나.. 지루할거라고 생각했는데 몰입해서 봤다.. 그래 이런...      1\n",
       "4  10067386                        안개 자욱한 밤하늘에 떠 있는 초승달 같은 영화.      1"
      ]
     },
     "execution_count": 5,
     "metadata": {},
     "output_type": "execute_result"
    }
   ],
   "source": [
    "whole_dataset.head()"
   ]
  },
  {
   "cell_type": "code",
   "execution_count": 6,
   "id": "ic8itiVuUHYt",
   "metadata": {
    "colab": {
     "base_uri": "https://localhost:8080/"
    },
    "executionInfo": {
     "elapsed": 20,
     "status": "ok",
     "timestamp": 1690535819713,
     "user": {
      "displayName": "sieun hyun",
      "userId": "18424057181478020899"
     },
     "user_tz": -540
    },
    "id": "ic8itiVuUHYt",
    "outputId": "60e60741-55e9-47e2-c4ce-bd756bdaf870"
   },
   "outputs": [
    {
     "data": {
      "text/plain": [
       "0         1\n",
       "1         1\n",
       "2         1\n",
       "3         1\n",
       "4         1\n",
       "         ..\n",
       "199995    0\n",
       "199996    0\n",
       "199997    0\n",
       "199998    0\n",
       "199999    0\n",
       "Name: label, Length: 200000, dtype: int64"
      ]
     },
     "execution_count": 6,
     "metadata": {},
     "output_type": "execute_result"
    }
   ],
   "source": [
    "whole_dataset['label']"
   ]
  },
  {
   "cell_type": "markdown",
   "id": "EjMmau3TyPHo",
   "metadata": {
    "id": "EjMmau3TyPHo"
   },
   "source": [
    "데이터를 살펴보니, row는 0부터 차례로 이어지며, column은 id, document, label로 구성되어 있다.\n",
    "\n",
    "id는 데이터를 구분짓기 위한 일련 번호, document는 문장 데이터, label은 해당하는 문장이 긍정(1), 부정(0)인지 나타내는 라벨 값이다.\n",
    "\n",
    "여기서 우리는 학습 데이터들 간에 구분할 필요가 없으므로, id 데이터는 분리하자. 그리고 column 이름으로 document보다는 sentence가 적절해보이니, 그렇게 바꿔보자."
   ]
  },
  {
   "cell_type": "code",
   "execution_count": 7,
   "id": "57f17468",
   "metadata": {
    "executionInfo": {
     "elapsed": 15,
     "status": "ok",
     "timestamp": 1690535819713,
     "user": {
      "displayName": "sieun hyun",
      "userId": "18424057181478020899"
     },
     "user_tz": -540
    },
    "id": "57f17468"
   },
   "outputs": [],
   "source": [
    "def data_processing(raw_data):\n",
    "    transformed_data = raw_data['label']\n",
    "\n",
    "    # 판다스의 concat을 활용하여 'document' 데이터와 'label' 데이터를 연결해보자.\n",
    "    # [1] new_array = pandas.concat([array1, array2])를 하면, array1과 array2가 물리적으로 연결된 new_array를 생성할 수 있다.\n",
    "    #     이때 추가 옵션을 별도로 지정하지 않았으므로, concat을 수행하는 default 방향은 axis=0(default)이다.\n",
    "    # [2] concat 시 axis 조건을 통해 array를 concat하는 방향을 직접 지정해주도록 하자.\n",
    "    #     Hint: 2차원 array에서 axis=0은 세로(상/하) 방향, axis=1은 가로(좌/우) 방향이다.\n",
    "    #     우리는 'document'열과 'label' 열을 가로(좌/우) 방향으로 concat해야 하므로 concat 시 axis=1이라는 조건을 설정하는 것이 적합할 것이다.\n",
    "    # concat에 대한 추가적인 내용은 https://yganalyst.github.io/data_handling/Pd_12/ 를 참고해보자.\n",
    "    # axis에 대한 추가적인 내용은 https://jalammar.github.io/visual-numpy/ https://lets-hci-la-ai-withme.tistory.com/15 를 참고해보자.\n",
    "    ## 여기에 코드 작성\n",
    "    processed_data = pd.concat([raw_data['document'], transformed_data], axis=1)\n",
    "\n",
    "    # 데이터의 column 이름을 sentence label로 바꾸어준다.\n",
    "    processed_data.columns = ['sentence', 'label']\n",
    "\n",
    "    return processed_data"
   ]
  },
  {
   "cell_type": "markdown",
   "id": "wKH9R1WuEnck",
   "metadata": {
    "id": "wKH9R1WuEnck"
   },
   "source": [
    "여기까지 구현한 부분을 하단의 preproc_test 함수의 첫 번째 테스트로 확인해볼 것이다. (20점)"
   ]
  },
  {
   "cell_type": "markdown",
   "id": "ZNO2Hi2Q4dpb",
   "metadata": {
    "id": "ZNO2Hi2Q4dpb"
   },
   "source": [
    "이제 문장 데이터를 본격적으로 변환시켜볼 것이다.\n",
    "\n",
    "아래 data_to_token_ids 함수를 아래와 같은 절차를 통해 문장 데이터를 수치적으로 변환한다.\n",
    "\n",
    "1. Tokenizer가 문장의 시작과 끝을 인식할 수 있도록 문장 앞뒤에 CLS 토큰과 SEP 토큰을 붙인다.\n",
    "\n",
    "2. Tokenizer의 tokenize 함수를 활용하여 문장을 여러 개의 토큰으로 나눈다.\n",
    "\n",
    "3. Tokenizer의 convert_tokens_to_ids 함수를 활용하여, 토큰들을 대응되는 id로 변환해준다.\n",
    "\n",
    "4. MAX_LEN의 길이에 맞춰, padding을 진행해준다. 비어있는 자리의 경우, 0이 입력된다."
   ]
  },
  {
   "cell_type": "code",
   "execution_count": 8,
   "id": "71055cfe",
   "metadata": {
    "executionInfo": {
     "elapsed": 14,
     "status": "ok",
     "timestamp": 1690535819714,
     "user": {
      "displayName": "sieun hyun",
      "userId": "18424057181478020899"
     },
     "user_tz": -540
    },
    "id": "71055cfe"
   },
   "outputs": [],
   "source": [
    "def data_to_token_ids(tokenizer, single_sentence):\n",
    "    # CLS 토큰과 SEP 토큰을 문장의 시작과 끝에 붙여보자.\n",
    "    ## 여기에 코드 작성\n",
    "    special_token_added = \"[CLS] \" + str(single_sentence) + \" [SEP]\"\n",
    "    # tokenizer의 tokenize 함수를 활용하여 문장을 토큰화해보자.\n",
    "    tokenized_sentence = tokenizer.tokenize(special_token_added)\n",
    "\n",
    "    # tokenizer의 convert_tokens_to_ids 함수를 활용하여 생성된 토큰을 숫자 형태로 바꿔주자.\n",
    "    token_ids = [tokenizer.convert_tokens_to_ids(tokenized_sentence)]\n",
    "\n",
    "    MAX_LEN = 128\n",
    "    # pad_sequences 함수를 활용하여 문장의 빈 칸에 padding을 넣어주자.\n",
    "    # keras의 preprocessing.sequence 라이브러리는 pad_sequences 함수를 제공하며, 본 함수는 서로 다른 길이의 문장을 특정 길이(최대 길이)로 일치시키기 위해 truncating와 padding을 한다.\n",
    "    # truncating은 최대 길이보다 긴 문장을 최대 길이에 맞게 잘라내는 것이고, padding은 최대 길이보다 짧은 문장의 남는 자리를 0으로 채우는 것을 가리킨다.\n",
    "    # pad_sequence는 default 옵션은 'pre'이다. 즉 긴 문장의 앞 부분을 잘라내거나 짧은 문장의 앞에 0을 채운다.\n",
    "    # 그러나 우리는 토큰 id 리스트의 '뒷'부분에 truncating 및 padding을 적용해주고자 한다.\n",
    "    # truncating=\"post\" 옵션을 통해 id 리스트의 길이가 MAX_LEN을 넘어가는 부분에 대해서는 뒷부분을 삭제할 수 있다.\n",
    "    # padding=\"post\" 옵션을 통해 토큰 id 리스트의 뒷부분에 padding을 적용할 수 있다.\n",
    "    # 최대 길이는 위의 MAX_LEN으로 설정하고, dtype은 long으로 설정해주자.\n",
    "    # 위 설정에 맞게 padding, truncating 값을 적절히 설정해주자.\n",
    "    # https://www.tensorflow.org/api_docs/python/tf/keras/utils/pad_sequences\n",
    "    ## 여기에 코드 작성\n",
    "    token_ids_padded = pad_sequences(token_ids, maxlen=MAX_LEN, dtype=\"long\", truncating=\"post\", padding=\"post\")\n",
    "\n",
    "\n",
    "    token_ids_flatten = token_ids_padded.flatten()\n",
    "    return token_ids_flatten"
   ]
  },
  {
   "cell_type": "markdown",
   "id": "f_37Yb-NqxgA",
   "metadata": {
    "id": "f_37Yb-NqxgA"
   },
   "source": [
    "완성한 data_to_token_ids 함수를 간단히 활용해보며 함수의 반환값 형태를 익혀보자.  \n",
    "문장이 토큰화되고 각 토큰이 id값으로 반환되었으며, 최대 길이에 미치지 못하는 부분은 문장의 뒷부분에 0으로 padding 처리가 되었음을 확인할 수 있다.  \n",
    "\n",
    "\n",
    "\n",
    "```\n",
    "from tokenization import KoBertTokenizer\n",
    "tokenizer = KoBertTokenizer.from_pretrained(\"monologg/kobert\")\n",
    "\n",
    "id_testing = data_to_token_ids(tokenizer, \"찐배고픔이랑 가짜배고픔이랑 구분하는건 이미포기했어\")\n",
    "\n",
    "print(id_testing)\n",
    "\n",
    "# [   2  517 7385 6312 5439 7766 7096 6022  770 6312 5439 7766 7096 6022\n",
    " 1115 6416 7794 5384 3692 7728 5561 7864 6855    3    0    0    0    0\n",
    "    0    0    0    0    0    0    0    0    0    0    0    0    0    0\n",
    "    0    0    0    0    0    0    0    0    0    0    0    0    0    0\n",
    "    0    0    0    0    0    0    0    0    0    0    0    0    0    0\n",
    "    0    0    0    0    0    0    0    0    0    0    0    0    0    0\n",
    "    0    0    0    0    0    0    0    0    0    0    0    0    0    0\n",
    "    0    0    0    0    0    0    0    0    0    0    0    0    0    0\n",
    "    0    0    0    0    0    0    0    0    0    0    0    0    0    0\n",
    "    0    0]\n",
    "\n",
    "```\n",
    "\n",
    "위와 같은 방식으로 tokenizer와 임의의 한국어 문장을 입력하여, 함수가 정확히 만들어졌는지 확인해보도록 하자.\n"
   ]
  },
  {
   "cell_type": "markdown",
   "id": "h9yYk0CI87Td",
   "metadata": {
    "id": "h9yYk0CI87Td"
   },
   "source": [
    "pad_sequences 함수를 통해 padding이 이루어진 부분은 학습하는데 실질적으로 쓰이지 않는다.\n",
    "\n",
    "그러므로, padding된 부분은 고려하지 않도록 필터링해주는 mask를 만들어보자.\n",
    "\n",
    "여기서 mask는 padding된 부분은 지우고, 나머지 부분은 그대로 두는 기능을 한다. 고로, padding된 부분은 0, 아닌 부분은 1의 값을 나타내도록 한다."
   ]
  },
  {
   "cell_type": "code",
   "execution_count": null,
   "id": "0ec337a5",
   "metadata": {
    "id": "0ec337a5"
   },
   "outputs": [],
   "source": [
    "def token_ids_to_mask(token_ids):\n",
    "\n",
    "    # 한 문장에 대한 token_id 리스트를 입력으로 받는다.\n",
    "    # token_id에서 0보다 큰 숫자만 유효하도록 하는 'mask' 리스트를 만들자.\n",
    "    # 이 때, mask의 각 원소는 0 아니면 1의 값을 가져야 한다.\n",
    "    # Hint : 각 token_id를 0 아니면 1의 값으로 바꿔주면 된다.\n",
    "    # Hint : list comprehension을 활용해서 작성하면 편하다.\n",
    "    # HINT : list comprehension을 활용하는 것이 가장 간결한 코드이며, 조금 어렵다면 for 문을 활용해봐도 좋다.\n",
    "    ## 여기에 코드 작성\n",
    "    mask = [float(i>0) for i in token_ids]\n",
    "\n",
    "    return mask"
   ]
  },
  {
   "cell_type": "markdown",
   "id": "V-bizxlEq6ab",
   "metadata": {
    "id": "V-bizxlEq6ab"
   },
   "source": [
    "마찬가지로, 완성한 token_ids_to_mask 함수를 간단히 활용해보며 함수의 반환값 형태를 익혀보자.  \n",
    "0으로 패딩처리된 부분은 0.0으로, 나머지는 1.0으로 채워진 max_length 길이의 array가 반환됨을 확인할 수 있다.\n",
    "\n",
    "```\n",
    "mask_testing = token_ids_to_mask(id_testing)\n",
    "print(mask_testing)\n",
    "\n",
    "# [1.0, 1.0, 1.0, 1.0, 1.0, 1.0, 1.0, 1.0, 1.0, 1.0, 1.0, 1.0, 1.0, 1.0, 1.0, 1.0, 1.0, 1.0, 1.0, 1.0, 1.0, 1.0, 1.0, 1.0, 0.0, 0.0, 0.0, 0.0, 0.0, 0.0, 0.0, 0.0, 0.0, 0.0, 0.0, 0.0, 0.0, 0.0, 0.0, 0.0, 0.0, 0.0, 0.0, 0.0, 0.0, 0.0, 0.0, 0.0, 0.0, 0.0, 0.0, 0.0, 0.0, 0.0, 0.0, 0.0, 0.0, 0.0, 0.0, 0.0, 0.0, 0.0, 0.0, 0.0, 0.0, 0.0, 0.0, 0.0, 0.0, 0.0, 0.0, 0.0, 0.0, 0.0, 0.0, 0.0, 0.0, 0.0, 0.0, 0.0, 0.0, 0.0, 0.0, 0.0, 0.0, 0.0, 0.0, 0.0, 0.0, 0.0, 0.0, 0.0, 0.0, 0.0, 0.0, 0.0, 0.0, 0.0, 0.0, 0.0, 0.0, 0.0, 0.0, 0.0, 0.0, 0.0, 0.0, 0.0, 0.0, 0.0, 0.0, 0.0, 0.0, 0.0, 0.0, 0.0, 0.0, 0.0, 0.0, 0.0, 0.0, 0.0, 0.0, 0.0, 0.0, 0.0, 0.0, 0.0]\n",
    "```\n",
    "\n",
    "위와 같은 방식으로, 앞서 생성한 id_testing을 입력하여 함수가 정확히 만들어졌는지 확인해보도록 하자.\n"
   ]
  },
  {
   "cell_type": "markdown",
   "id": "EsMqQ9qI-Mad",
   "metadata": {
    "id": "EsMqQ9qI-Mad"
   },
   "source": [
    "data_to_token_ids 함수는 하나의 문장이 입력되었을 때, token_id 리스트를 출력해주는 함수이며, token_ids_to_mask 함수는 한 문장에 대한 token_id 리스트가 입력되었을 때, 하나의 mask를 생성해주는 함수다.\n",
    "위에서 구성한 두 가지 함수를 활용해서, 전체 데이터를 변형하는 로직을 구성해보자.\n",
    "\n",
    "*HINT : list comprehension을 활용하는 것이 가장 간결한 코드이며, 조금 어렵다면 for 문을 활용해봐도 좋다.*"
   ]
  },
  {
   "cell_type": "code",
   "execution_count": null,
   "id": "c0509ac6",
   "metadata": {
    "id": "c0509ac6"
   },
   "outputs": [],
   "source": [
    "# tokenize_processed_data 함수는, 앞서 정의한 함수인 data_to_token_ids와 token_ids_to_mask를 모두 활용한다.\n",
    "# tokenize_processed_data 함수를 통해, 데이터를 구성하는 각 문장을 '토큰 id로 구성된, max_length 길이의 array'로 변환해주고, attention 마스크를 생성하는 작업을 한꺼번에 처리할 수 있다.\n",
    "# 함수의 입력은 두 가지로, [1]tokenizer, [2] raw_data를 data_processing 함수로 전처리한 결과인 processed_dataset이다.\n",
    "# 함수의 출력은 세 가지로, [1]tokenized_data (='토큰 id로 구성된 max_length 길이의 array'로 구성된 list), [2] 데이터의 labels, [3] 각 array에 대응하는 attention_masks로 구성된 list이다.\n",
    "\n",
    "def tokenize_processed_data(tokenizer, processed_dataset):\n",
    "    labels = processed_dataset['label'].to_numpy()\n",
    "\n",
    "    # list comprehension을 활용하여 processed_dataset의 'sentence' 데이터를 id 리스트로 토큰화하자.\n",
    "    ## 여기에 코드 작성\n",
    "    tokenized_data = [data_to_token_ids(tokenizer, processed_data) for processed_data in processed_dataset['sentence']]\n",
    "\n",
    "    # list comprehension을 활용하여 앞서 토큰화한 id 리스트 각각을 mask로 변환하자.\n",
    "    ## 여기에 코드 작성\n",
    "    attention_masks = [token_ids_to_mask(token_ids) for token_ids in tokenized_data]\n",
    "\n",
    "    return tokenized_data, labels, attention_masks"
   ]
  },
  {
   "cell_type": "markdown",
   "id": "2QPPr-B7EBFI",
   "metadata": {
    "id": "2QPPr-B7EBFI"
   },
   "source": [
    "여기까지 구현한 부분을 하단의 preproc_test 함수의 두 번째 테스트로 확인해볼 것이다. (40점)"
   ]
  },
  {
   "cell_type": "markdown",
   "id": "50qJbROTAD2n",
   "metadata": {
    "id": "50qJbROTAD2n"
   },
   "source": [
    "위의 함수를 통해 변환한 데이터셋을 train, validation, test용으로 나눠야 한다.\n",
    "\n",
    "split_into_train_test 함수를 통해 train 데이터와 test 데이터로 나누고, 그렇게 나누어진 train 데이터를 split_into_train_validation 함수를 통해 train 데이터와 validation 데이터로 나눌 것이다.\n",
    "\n",
    "sklearn.model_selection 라이브러리의 train_test_split 함수를 활용하여 아래의 두 함수를 구현해보자."
   ]
  },
  {
   "cell_type": "code",
   "execution_count": null,
   "id": "HW7i_vdmSXIn",
   "metadata": {
    "id": "HW7i_vdmSXIn"
   },
   "outputs": [],
   "source": [
    "def split_into_train_test(whole_data, whole_label, whole_masks):\n",
    "    print(\"length of whole_data : \" + str(len(whole_data)))\n",
    "\n",
    "    train_inputs, test_inputs, train_labels, test_labels = train_test_split(whole_data,\n",
    "                                                                                    whole_label,\n",
    "                                                                                    random_state=2022,\n",
    "                                                                                    test_size=0.1)\n",
    "    # 위의 방식을 참조하여 mask 역시 train을 위한 mask와 test을 위한 mask로 나누자.\n",
    "    # 이때 return 값을 참조하여, 우리에게 불필요한 정보는 _로 비워두자.\n",
    "    # random_state와 test_size 동일하게 설정\n",
    "    ## 여기에 코드 작성\n",
    "    train_masks, test_masks, _, _ = train_test_split(whole_masks, whole_data, random_state=2022, test_size=0.1)\n",
    "\n",
    "    return train_inputs, test_inputs, train_labels, test_labels, train_masks, test_masks"
   ]
  },
  {
   "cell_type": "code",
   "execution_count": null,
   "id": "t2ymZef0SrK-",
   "metadata": {
    "id": "t2ymZef0SrK-"
   },
   "outputs": [],
   "source": [
    "def split_into_train_validation(train_data, train_label, train_masks):\n",
    "    print(\"length of train_data : \" + str(len(train_data)))\n",
    "\n",
    "    # split_into_train_test의 코드를 참조하여 data와 mask 각각을 train을 위한 것과 validation을 위한 것으로 나누자.\n",
    "    # random_state = 2022, test_size = 0.1로 설정\n",
    "\n",
    "    ## 여기에 코드 작성(data)\n",
    "    train_inputs, validation_inputs, train_labels, validation_labels = train_test_split(train_data, train_label,  random_state=2022,  test_size=0.1)\n",
    "\n",
    "    ## 여기에 코드 작성(mask)\n",
    "    train_masks, validation_masks, _, _ = train_test_split(train_masks,  train_data,  random_state=2022,  test_size=0.1)\n",
    "\n",
    "    return train_inputs, validation_inputs, train_labels, validation_labels, train_masks, validation_masks"
   ]
  },
  {
   "cell_type": "markdown",
   "id": "MebtEGjsERzf",
   "metadata": {
    "id": "MebtEGjsERzf"
   },
   "source": [
    "여기까지 구현한 부분을 하단의 preproc_test 함수의 세 번째 테스트로 확인해볼\n",
    "것이다. (60점)"
   ]
  },
  {
   "cell_type": "markdown",
   "id": "uKrLg_DKBJ-6",
   "metadata": {
    "id": "uKrLg_DKBJ-6"
   },
   "source": [
    "우리는 이렇게 나누어진 데이터들을 tensor의 형태로 변환해주어야 한다. data_to_tensor는 그러한 역할을 해주는 함수다.\n",
    "\n",
    "torch.tensor 함수를 활용해서 inputs, labels, masks 각각을 tensor로 변환해주는 함수를 구현해보자."
   ]
  },
  {
   "cell_type": "code",
   "execution_count": null,
   "id": "txWqnnYCT9dT",
   "metadata": {
    "id": "txWqnnYCT9dT"
   },
   "outputs": [],
   "source": [
    "def data_to_tensor(inputs, labels, masks):\n",
    "    # 입력받은 데이터를 텐서로 변환해주는 함수\n",
    "    ## 여기에 코드 작성\n",
    "    inputs_tensor = torch.tensor(inputs)\n",
    "    labels_tensor = torch.tensor(labels)\n",
    "    masks_tensor = torch.tensor(masks)\n",
    "    return inputs_tensor, labels_tensor, masks_tensor"
   ]
  },
  {
   "cell_type": "markdown",
   "id": "iAwpViRKETw3",
   "metadata": {
    "id": "iAwpViRKETw3"
   },
   "source": [
    "여기까지 구현한 부분을 하단의 preproc_test 함수의 네 번째 테스트로 확인해볼 것이다. (80점)"
   ]
  },
  {
   "cell_type": "markdown",
   "id": "r0HUfeHmBUDE",
   "metadata": {
    "id": "r0HUfeHmBUDE"
   },
   "source": [
    "tensor로 변환한 데이터를 dataloader를 활용해서 batch 단위로 묶어줄 것이다.\n",
    "\n",
    "batch로 데이터를 묶어주기 전에, 데이터를 어떤 순서로 뽑을 것인지 적절한 Sampler를 설정해주어야 한다. 데이터가 학습을 위한 것인지, 검증을 위한 것인지에 따라서 알맞은 Sampler를 배정해주도록 하자."
   ]
  },
  {
   "cell_type": "code",
   "execution_count": null,
   "id": "CYvW5kkHUab-",
   "metadata": {
    "id": "CYvW5kkHUab-"
   },
   "outputs": [],
   "source": [
    "# 모든 DataLoader는 Sampler를 갖고 있다. Sampler는 데이터를 load 해올 때 데이터의 index를 컨트롤함으로써 어떤 데이터부터 가져올지 지정하는 기능을 한다.\n",
    "# - SequentialSampler: 항상 같은 순서로, 순차적으로 데이터를 load 한다.\n",
    "# - RandomSampler: 랜덤하게 데이터를 load 한다.\n",
    "\n",
    "def tensor_to_dataloader(inputs, labels, masks, mode):\n",
    "    from torch.utils.data import RandomSampler, SequentialSampler\n",
    "\n",
    "    batch_size=32\n",
    "    data = TensorDataset(inputs, masks, labels)\n",
    "\n",
    "    if mode == \"train\":\n",
    "        # train 모드에서는 랜덤하게 데이터를 load해오는 sampler를 사용하자.\n",
    "        # 대개 mini-batch 내부 구성이 다양할수록 전체 dataset(모집단)를 잘 대표하기 때문에 주로 RandomSampler를 사용한다. (https://hul980.tistory.com/28)\n",
    "        ## 여기에 코드 작성\n",
    "        sampler = RandomSampler(data)\n",
    "    else:\n",
    "        # test에는 순차적으로 데이터를 load하는 sampler을 지정하자.\n",
    "        ## 여기에 코드 작성\n",
    "        sampler = SequentialSampler(data)\n",
    "\n",
    "    # DataLoader 함수를 활용해서 dataloader를 선언해보자.\n",
    "    # batch_size는 batch_size로 설정하고, sampler는 위에서 지정한대로 설정해주자.\n",
    "    ## 여기에 코드 작성\n",
    "    dataloader = DataLoader(data, sampler=sampler, batch_size=batch_size)\n",
    "\n",
    "    return dataloader"
   ]
  },
  {
   "cell_type": "markdown",
   "id": "OgafT913EYuI",
   "metadata": {
    "id": "OgafT913EYuI"
   },
   "source": [
    "여기까지 구현한 부분을 하단의 preproc_test 함수의 다섯 번째 테스트로 확인해볼 것이다. (100점)"
   ]
  },
  {
   "cell_type": "markdown",
   "id": "W75rhx9mBjT3",
   "metadata": {
    "id": "W75rhx9mBjT3"
   },
   "source": [
    "이제 전처리를 수행하는데 필요한 모든 함수들을 다 구현했다.\n",
    "\n",
    "구현한 함수들을 모아 preproc 함수를 최종적으로 만들었다."
   ]
  },
  {
   "cell_type": "code",
   "execution_count": null,
   "id": "R0BRFQIyPd2n",
   "metadata": {
    "id": "R0BRFQIyPd2n"
   },
   "outputs": [],
   "source": [
    "def preproc(tokenizer, whole_dataset):\n",
    "    # whole_dataset을 전처리하자.\n",
    "    processed_dataset = data_processing(whole_dataset)\n",
    "\n",
    "    # 전처리한 전체 데이터를 토큰화하자.\n",
    "    tokenized_dataset, labels, attention_masks = tokenize_processed_data(tokenizer, processed_dataset)\n",
    "\n",
    "    # 토큰화한 전체 데이터를 train용과 test용으로 분리하자.\n",
    "    train_inputs, test_inputs, train_labels, test_labels, train_masks, test_masks = split_into_train_test(tokenized_dataset, labels, attention_masks)\n",
    "    # 토큰화한 train용 데이터를 train용과 validation용으로 분리하자.\n",
    "    train_inputs, validation_inputs, train_labels, validation_labels, train_masks, validation_masks = split_into_train_validation(train_inputs, train_labels, train_masks)\n",
    "\n",
    "    # train용, validation용, test용 데이터 각각을 텐서로 변환하자.\n",
    "    train_inputs, train_labels, train_masks = data_to_tensor(train_inputs, train_labels, train_masks)\n",
    "    validation_inputs, validation_labels, validation_masks = data_to_tensor(validation_inputs, validation_labels, validation_masks)\n",
    "    test_inputs, test_labels, test_masks = data_to_tensor(test_inputs, test_labels, test_masks)\n",
    "\n",
    "    # train용, validation용, test용 텐서를 dataloader로 변환하자.\n",
    "    train_dataloader = tensor_to_dataloader(train_inputs, train_labels, train_masks, \"train\")\n",
    "    validation_dataloader = tensor_to_dataloader(validation_inputs, validation_labels, validation_masks, \"validation\")\n",
    "    test_dataloader = tensor_to_dataloader(test_inputs, test_labels, test_masks, \"test\")\n",
    "\n",
    "    return train_dataloader, validation_dataloader, test_dataloader"
   ]
  },
  {
   "cell_type": "markdown",
   "id": "Z0d0FcgnDUm-",
   "metadata": {
    "id": "Z0d0FcgnDUm-"
   },
   "source": [
    "함수들이 잘 적절히 잘 만들어졌는지 preproc_test 함수를 통해 측정해보자.\n",
    "\n",
    "5개의 테스트로 구성되어 있으며, 각 테스트는 20점이다.\n",
    "\n",
    "첫 번째 테스트는 별도의 함수는 존재하지 않는다."
   ]
  },
  {
   "cell_type": "code",
   "execution_count": null,
   "id": "-dteCynSUcC8",
   "metadata": {
    "id": "-dteCynSUcC8"
   },
   "outputs": [],
   "source": [
    "def test2(tokenized_data):\n",
    "    real_data = [2, 1706, 6664, 5729, 6983,  517, 7990, 6493, 7828, 5943, 4928, 1861, 5783, 2235,\n",
    "                 6527,   54, 7227, 6160, 3010, 6559, 7828, 2846, 7095, 3394, 6946,   54, 5782, 6150,\n",
    "                 3093, 6653, 7010, 5384, 3647, 2846, 6116, 4147, 6441,  517, 5693, 5693, 7828, 4768,\n",
    "                 5330,  743, 5451, 6903, 4147, 7869, 6198, 4102, 2034, 7170, 7792, 4709, 7879, 7328,\n",
    "                 54, 1185, 6049, 5782, 5439, 5007, 3647, 2680, 5330, 3135, 7271, 5782, 5760, 5384,\n",
    "                 1861, 3100,   54, 1569, 4196, 3093, 6653, 7013, 2571,   54,    3,    0,    0,    0,\n",
    "                 0,    0,    0,    0,    0,    0,    0,    0,    0,    0,    0,    0,    0,    0,\n",
    "                 0,    0,    0,    0,    0,    0,    0,    0,    0,    0,    0,    0,    0,    0,\n",
    "                 0,    0,    0,    0,    0,    0,    0,    0,    0,    0,    0,    0,    0,    0,\n",
    "                 0,    0]\n",
    "    return (tokenized_data[2022] == real_data).all()\n",
    "\n",
    "\n",
    "def test3(train_inputs, validation_inputs, test_masks):\n",
    "    if len(train_inputs) != 162000 or len(validation_inputs) != 18000 or len(test_masks) != 20000:\n",
    "        return False\n",
    "    real_data = [2, 3765, 6954, 4207, 7850, 4446, 6395, 5761, 4102, 3977, 6881, 6701,   54, 2368,\n",
    "                 517, 7265, 6827, 6701,   54,    3,    0,    0,    0,    0,    0,    0,    0,    0,\n",
    "                 0,    0,    0,    0,    0,    0,    0,    0,    0,    0,    0,    0,    0,    0,\n",
    "                 0,    0,    0,    0,    0,    0,    0,    0,    0,    0,    0,    0,    0,    0,\n",
    "                 0,    0,    0,    0,    0,    0,    0,    0,    0,    0,    0,    0,    0,    0,\n",
    "                 0,    0,    0,    0,    0,    0,    0,    0,    0,    0,    0,    0,    0,    0,\n",
    "                 0,    0,    0,    0,    0,    0,    0,    0,    0,    0,    0,    0,    0,    0,\n",
    "                 0,    0,    0,    0,    0,    0,    0,    0,    0,    0,    0,    0,    0,    0,\n",
    "                 0,    0,    0,    0,    0,    0,    0,    0,    0,    0,    0,    0,    0,    0,\n",
    "                 0,    0]\n",
    "    return (train_inputs[2022] == real_data).all()\n",
    "\n",
    "\n",
    "def test4(train_inputs):\n",
    "    real_input = torch.tensor([2, 3301, 6553, 6410,  517, 6193, 7591, 4179, 6141, 6255, 4244, 5439,\n",
    "                               4012,  517, 6193, 7591, 1370, 5347, 5782, 5330, 2573, 6844, 7495, 1844,\n",
    "                               6190, 1734, 6978, 7968, 7720, 7086,  517, 6193, 7591, 4179, 7788,  517,\n",
    "                               6394, 5833, 6141, 7318, 6149, 7086, 3524, 7227, 5859, 7136, 5546, 5850,\n",
    "                               2034, 7170, 7095, 1369, 5760, 1420,   55,    3,    0,    0,    0,    0,\n",
    "                               0,    0,    0,    0,    0,    0,    0,    0,    0,    0,    0,    0,\n",
    "                               0,    0,    0,    0,    0,    0,    0,    0,    0,    0,    0,    0,\n",
    "                               0,    0,    0,    0,    0,    0,    0,    0,    0,    0,    0,    0,\n",
    "                               0,    0,    0,    0,    0,    0,    0,    0,    0,    0,    0,    0,\n",
    "                               0,    0,    0,    0,    0,    0,    0,    0,    0,    0,    0,    0,\n",
    "                               0,    0,    0,    0,    0,    0,    0,    0])\n",
    "\n",
    "    return torch.equal(train_inputs[12345], real_input)\n",
    "\n",
    "\n",
    "def test5(train_dataloader):\n",
    "    real_input_ids = torch.tensor([2,  529,   54, 2860, 6295, 7640, 5371, 3594, 7837,  553,   54,  773,\n",
    "                                   6383, 7095, 5037, 6645, 7837, 4501, 5957, 6629, 7288, 3714, 7207, 5357,\n",
    "                                   589,   54, 2417, 5398, 6882, 3357,  631,  529, 7220,    3,    0,    0,\n",
    "                                   0,    0,    0,    0,    0,    0,    0,    0,    0,    0,    0,    0,\n",
    "                                   0,    0,    0,    0,    0,    0,    0,    0,    0,    0,    0,    0,\n",
    "                                   0,    0,    0,    0,    0,    0,    0,    0,    0,    0,    0,    0,\n",
    "                                   0,    0,    0,    0,    0,    0,    0,    0,    0,    0,    0,    0,\n",
    "                                   0,    0,    0,    0,    0,    0,    0,    0,    0,    0,    0,    0,\n",
    "                                   0,    0,    0,    0,    0,    0,    0,    0,    0,    0,    0,    0,\n",
    "                                   0,    0,    0,    0,    0,    0,    0,    0,    0,    0,    0,    0,\n",
    "                                   0,    0,    0,    0,    0,    0,    0,    0])\n",
    "\n",
    "    for step, batch in enumerate(tqdm(train_dataloader)):\n",
    "\n",
    "        if step < 1234:\n",
    "            continue\n",
    "        if step > 1234:\n",
    "            break\n",
    "\n",
    "        b_input_ids, b_input_mask, b_labels = batch\n",
    "\n",
    "    return torch.equal(b_input_ids[5], real_input_ids)\n",
    "\n",
    "def preproc_test(tokenizer, whole_dataset):\n",
    "\n",
    "    print(\"================={}번째 테스트 시작===================\".format(1))\n",
    "    # whole_dataset을 전처리하자.\n",
    "    try:\n",
    "      processed_dataset = data_processing(whole_dataset)\n",
    "    except:\n",
    "      print(traceback.format_exc())\n",
    "      return 0\n",
    "    print(\"================={}번째 테스트 성공===================\\n\".format(1))\n",
    "\n",
    "\n",
    "    print(\"================={}번째 테스트 시작===================\".format(2))\n",
    "    # 전처리한 전체 데이터를 토큰화하자.\n",
    "    try:\n",
    "      tokenized_dataset, labels, attention_masks = tokenize_processed_data(tokenizer, processed_dataset)\n",
    "    except:\n",
    "      print(traceback.format_exc())\n",
    "      return 20\n",
    "    if not test2(tokenized_dataset):\n",
    "      return 20\n",
    "    print(\"================={}번째 테스트 성공===================\\n\".format(2))\n",
    "\n",
    "\n",
    "    print(\"================={}번째 테스트 시작===================\".format(3))\n",
    "    # 토큰화한 전체 데이터를 train용과 test용으로 분리하자.\n",
    "    try:\n",
    "      train_inputs, test_inputs, train_labels, test_labels, train_masks, test_masks = split_into_train_test(tokenized_dataset, labels, attention_masks)\n",
    "      # 토큰화한 train용 데이터를 train용과 validation용으로 분리하자.\n",
    "      train_inputs, validation_inputs, train_labels, validation_labels, train_masks, validation_masks = split_into_train_validation(train_inputs, train_labels, train_masks)\n",
    "    except:\n",
    "      print(traceback.format_exc())\n",
    "      return 40\n",
    "    if not test3(train_inputs, validation_inputs, test_masks):\n",
    "      return 40\n",
    "    print(\"================={}번째 테스트 성공===================\\n\".format(3))\n",
    "\n",
    "\n",
    "    print(\"================={}번째 테스트 시작===================\".format(4))\n",
    "    # train용, validation용, test용 데이터 각각을 텐서로 변환하자.\n",
    "    try:\n",
    "      train_inputs, train_labels, train_masks = data_to_tensor(train_inputs, train_labels, train_masks)\n",
    "      validation_inputs, validation_labels, validation_masks = data_to_tensor(validation_inputs, validation_labels, validation_masks)\n",
    "      test_inputs, test_labels, test_masks = data_to_tensor(test_inputs, test_labels, test_masks)\n",
    "    except:\n",
    "      print(traceback.format_exc())\n",
    "      return 60\n",
    "    if not test4(train_inputs):\n",
    "      return 60\n",
    "    print(\"================={}번째 테스트 성공===================\\n\".format(4))\n",
    "\n",
    "\n",
    "    print(\"================={}번째 테스트 시작===================\".format(5))\n",
    "    # train용, validation용, test용 텐서를 dataloader로 변환하자.\n",
    "    try:\n",
    "      train_dataloader = tensor_to_dataloader(train_inputs, train_labels, train_masks, \"train\")\n",
    "      validation_dataloader = tensor_to_dataloader(validation_inputs, validation_labels, validation_masks, \"validation\")\n",
    "      test_dataloader = tensor_to_dataloader(test_inputs, test_labels, test_masks, \"test\")\n",
    "    except:\n",
    "      print(traceback.format_exc())\n",
    "      return 80\n",
    "    if not test5(train_dataloader):\n",
    "      return 80\n",
    "    print(\"================={}번째 테스트 성공===================\\n\".format(5))\n",
    "\n",
    "\n",
    "    return 100"
   ]
  },
  {
   "cell_type": "code",
   "execution_count": null,
   "id": "7U6SEQwTcZrE",
   "metadata": {
    "id": "7U6SEQwTcZrE"
   },
   "outputs": [],
   "source": [
    "def main():\n",
    "    %cd /content/gdrive/MyDrive/BERT\n",
    "    from tokenization import KoBertTokenizer\n",
    "    # 전체 데이터를 불러오자.\n",
    "    whole_dataset = pd.read_csv('/content/gdrive/MyDrive/BERT/ratings.txt', delimiter=\"\\t\")\n",
    "\n",
    "    # KoBERTTokenizer를 불러오자.\n",
    "    tokenizer = KoBertTokenizer.from_pretrained(\"monologg/kobert\")\n",
    "\n",
    "    score = preproc_test(tokenizer, whole_dataset)\n",
    "    print(\"현재 점수 : {}/100점\".format(score))\n"
   ]
  },
  {
   "cell_type": "markdown",
   "id": "0k1-rDdeIxJf",
   "metadata": {
    "id": "0k1-rDdeIxJf"
   },
   "source": [
    "아래 쉘을 실행하면 테스트의 점수를 알 수 있다.\n",
    "\n",
    "***100점이 되어야 다음 섹터로 넘어갈 수 있다.***"
   ]
  },
  {
   "cell_type": "code",
   "execution_count": null,
   "id": "AOloXaFbXo-X",
   "metadata": {
    "colab": {
     "base_uri": "https://localhost:8080/",
     "height": 619,
     "referenced_widgets": [
      "c7c993e0b7b64328adabe59dc8087e6a",
      "dea65d1d61804eb4abe079ba4a97ca49",
      "4b531ad26ca34024902536df12e911e2",
      "2d8c6d21324c455590a52f387d464a56",
      "2201f14eded3432aa60bfc205453c426",
      "c264722edf2a4e03b7d984b10a941400",
      "3978eb39beea412dbf8dc7dd899fb99f",
      "ef28848426b04d57bef427c48fbd2ec0",
      "ea0b6b5858224ad586b44e90818afae6",
      "b350a27f18094e2a85189e471e53a92a",
      "5aa5972252554d119d19c917b3fe7a1b",
      "32d5d202c14f468f8cbd7036a2ed6e23",
      "263202f8c82c44adbfe7693f72d8728b",
      "102e49e25ee24558a89288f281389c0f",
      "8e06a322ad7f4b388802df27bbb8fcbf",
      "1f32e3c32e2144e3b9176190d69ced2f",
      "e76ce7e8ee5342d2b332b498b67d87f3",
      "98f82d5e6ccc42aba84a92f350511599",
      "77864a57905a4bb5a844466f5c0ab81b",
      "f95e6fc201594172bddd48a8a827be1b",
      "4c46acb90443439fa219ced9f069efa6",
      "5c596045ba9c48a0ae4cec41b56ccafa",
      "824662a101c94b31805acb8008e4ddde",
      "494b5abaf21a4b129bd420217f5b45ff",
      "d1f94664fa214cb2bb802c7fc9d7e7fa",
      "98c8156322314a2682f7033ef9847cd0",
      "72ed1a68ac674a229bb2d144b1e9f71c",
      "18565b7a45964ac7b6face0489ee848c",
      "dd5aa58dc17643489ecebc36c25828e8",
      "7407bdcd04984fc898dae5973f1c4a8e",
      "aeb419f6e53e4d9887509e8ad70a65af",
      "0be3547419044e38994585aa699a5257",
      "07928837abc044018bf17c1458d4b3f0",
      "fc29e9755d8149a18a86d18f759cd226",
      "835f00936e3644fc843683ab80c919f6",
      "92f6df7b37534eb58686340f2fe0c2b0",
      "3758f756cf66412a982f105347566cc2",
      "9f6dbe5f12804453862a790499b59e0e",
      "01e6d0c72d39496a943d2f8519e88812",
      "e55c3d54e12f4bc399a247d99677af48",
      "16c02ced2339435d9683f505a215a4fd",
      "2957befa66894bf085cc7bb6bae90773",
      "591829b187174f07b6b7bf8877aeea50",
      "b927d9a69e314b83864771b407d2a6d9"
     ]
    },
    "executionInfo": {
     "elapsed": 71478,
     "status": "ok",
     "timestamp": 1690432278657,
     "user": {
      "displayName": "sieun hyun",
      "userId": "18424057181478020899"
     },
     "user_tz": -540
    },
    "id": "AOloXaFbXo-X",
    "outputId": "7926441d-a2b4-44c7-aa80-06e9ccaf5a08"
   },
   "outputs": [
    {
     "name": "stdout",
     "output_type": "stream",
     "text": [
      "/content/gdrive/MyDrive/BERT\n"
     ]
    },
    {
     "data": {
      "application/vnd.jupyter.widget-view+json": {
       "model_id": "c7c993e0b7b64328adabe59dc8087e6a",
       "version_major": 2,
       "version_minor": 0
      },
      "text/plain": [
       "Downloading (…)zer_78b3253a26.model:   0%|          | 0.00/371k [00:00<?, ?B/s]"
      ]
     },
     "metadata": {},
     "output_type": "display_data"
    },
    {
     "data": {
      "application/vnd.jupyter.widget-view+json": {
       "model_id": "32d5d202c14f468f8cbd7036a2ed6e23",
       "version_major": 2,
       "version_minor": 0
      },
      "text/plain": [
       "Downloading (…)solve/main/vocab.txt:   0%|          | 0.00/77.8k [00:00<?, ?B/s]"
      ]
     },
     "metadata": {},
     "output_type": "display_data"
    },
    {
     "data": {
      "application/vnd.jupyter.widget-view+json": {
       "model_id": "824662a101c94b31805acb8008e4ddde",
       "version_major": 2,
       "version_minor": 0
      },
      "text/plain": [
       "Downloading (…)okenizer_config.json:   0%|          | 0.00/51.0 [00:00<?, ?B/s]"
      ]
     },
     "metadata": {},
     "output_type": "display_data"
    },
    {
     "data": {
      "application/vnd.jupyter.widget-view+json": {
       "model_id": "fc29e9755d8149a18a86d18f759cd226",
       "version_major": 2,
       "version_minor": 0
      },
      "text/plain": [
       "Downloading (…)lve/main/config.json:   0%|          | 0.00/426 [00:00<?, ?B/s]"
      ]
     },
     "metadata": {},
     "output_type": "display_data"
    },
    {
     "name": "stderr",
     "output_type": "stream",
     "text": [
      "The tokenizer class you load from this checkpoint is not the same type as the class this function is called from. It may result in unexpected tokenization. \n",
      "The tokenizer class you load from this checkpoint is 'BertTokenizer'. \n",
      "The class this function is called from is 'KoBertTokenizer'.\n"
     ]
    },
    {
     "name": "stdout",
     "output_type": "stream",
     "text": [
      "=================1번째 테스트 시작===================\n",
      "=================1번째 테스트 성공===================\n",
      "\n",
      "=================2번째 테스트 시작===================\n",
      "=================2번째 테스트 성공===================\n",
      "\n",
      "=================3번째 테스트 시작===================\n",
      "length of whole_data : 200000\n",
      "length of train_data : 180000\n",
      "=================3번째 테스트 성공===================\n",
      "\n",
      "=================4번째 테스트 시작===================\n"
     ]
    },
    {
     "name": "stderr",
     "output_type": "stream",
     "text": [
      "<ipython-input-13-8b1056aa784d>:4: UserWarning: Creating a tensor from a list of numpy.ndarrays is extremely slow. Please consider converting the list to a single numpy.ndarray with numpy.array() before converting to a tensor. (Triggered internally at ../torch/csrc/utils/tensor_new.cpp:245.)\n",
      "  inputs_tensor = torch.tensor(inputs)\n"
     ]
    },
    {
     "name": "stdout",
     "output_type": "stream",
     "text": [
      "=================4번째 테스트 성공===================\n",
      "\n",
      "=================5번째 테스트 시작===================\n"
     ]
    },
    {
     "name": "stderr",
     "output_type": "stream",
     "text": [
      " 24%|██▍       | 1235/5063 [00:00<00:01, 2347.46it/s]\n"
     ]
    },
    {
     "name": "stdout",
     "output_type": "stream",
     "text": [
      "=================5번째 테스트 성공===================\n",
      "\n",
      "현재 점수 : 100/100점\n"
     ]
    }
   ],
   "source": [
    "if __name__ == '__main__':\n",
    "\n",
    "    # 시드 고정\n",
    "    seed_val = 2022\n",
    "    np.random.seed(seed_val)\n",
    "    torch.manual_seed(seed_val)\n",
    "    torch.cuda.manual_seed_all(seed_val)\n",
    "\n",
    "    main()"
   ]
  },
  {
   "cell_type": "code",
   "execution_count": null,
   "id": "5-OfuvBSaR_N",
   "metadata": {
    "id": "5-OfuvBSaR_N"
   },
   "outputs": [],
   "source": []
  }
 ],
 "metadata": {
  "accelerator": "GPU",
  "colab": {
   "provenance": []
  },
  "gpuClass": "standard",
  "kernelspec": {
   "display_name": "Python 3 (ipykernel)",
   "language": "python",
   "name": "python3"
  },
  "language_info": {
   "codemirror_mode": {
    "name": "ipython",
    "version": 3
   },
   "file_extension": ".py",
   "mimetype": "text/x-python",
   "name": "python",
   "nbconvert_exporter": "python",
   "pygments_lexer": "ipython3",
   "version": "3.8.12"
  },
  "widgets": {
   "application/vnd.jupyter.widget-state+json": {
    "01e6d0c72d39496a943d2f8519e88812": {
     "model_module": "@jupyter-widgets/base",
     "model_module_version": "1.2.0",
     "model_name": "LayoutModel",
     "state": {
      "_model_module": "@jupyter-widgets/base",
      "_model_module_version": "1.2.0",
      "_model_name": "LayoutModel",
      "_view_count": null,
      "_view_module": "@jupyter-widgets/base",
      "_view_module_version": "1.2.0",
      "_view_name": "LayoutView",
      "align_content": null,
      "align_items": null,
      "align_self": null,
      "border": null,
      "bottom": null,
      "display": null,
      "flex": null,
      "flex_flow": null,
      "grid_area": null,
      "grid_auto_columns": null,
      "grid_auto_flow": null,
      "grid_auto_rows": null,
      "grid_column": null,
      "grid_gap": null,
      "grid_row": null,
      "grid_template_areas": null,
      "grid_template_columns": null,
      "grid_template_rows": null,
      "height": null,
      "justify_content": null,
      "justify_items": null,
      "left": null,
      "margin": null,
      "max_height": null,
      "max_width": null,
      "min_height": null,
      "min_width": null,
      "object_fit": null,
      "object_position": null,
      "order": null,
      "overflow": null,
      "overflow_x": null,
      "overflow_y": null,
      "padding": null,
      "right": null,
      "top": null,
      "visibility": null,
      "width": null
     }
    },
    "07928837abc044018bf17c1458d4b3f0": {
     "model_module": "@jupyter-widgets/controls",
     "model_module_version": "1.5.0",
     "model_name": "DescriptionStyleModel",
     "state": {
      "_model_module": "@jupyter-widgets/controls",
      "_model_module_version": "1.5.0",
      "_model_name": "DescriptionStyleModel",
      "_view_count": null,
      "_view_module": "@jupyter-widgets/base",
      "_view_module_version": "1.2.0",
      "_view_name": "StyleView",
      "description_width": ""
     }
    },
    "0be3547419044e38994585aa699a5257": {
     "model_module": "@jupyter-widgets/base",
     "model_module_version": "1.2.0",
     "model_name": "LayoutModel",
     "state": {
      "_model_module": "@jupyter-widgets/base",
      "_model_module_version": "1.2.0",
      "_model_name": "LayoutModel",
      "_view_count": null,
      "_view_module": "@jupyter-widgets/base",
      "_view_module_version": "1.2.0",
      "_view_name": "LayoutView",
      "align_content": null,
      "align_items": null,
      "align_self": null,
      "border": null,
      "bottom": null,
      "display": null,
      "flex": null,
      "flex_flow": null,
      "grid_area": null,
      "grid_auto_columns": null,
      "grid_auto_flow": null,
      "grid_auto_rows": null,
      "grid_column": null,
      "grid_gap": null,
      "grid_row": null,
      "grid_template_areas": null,
      "grid_template_columns": null,
      "grid_template_rows": null,
      "height": null,
      "justify_content": null,
      "justify_items": null,
      "left": null,
      "margin": null,
      "max_height": null,
      "max_width": null,
      "min_height": null,
      "min_width": null,
      "object_fit": null,
      "object_position": null,
      "order": null,
      "overflow": null,
      "overflow_x": null,
      "overflow_y": null,
      "padding": null,
      "right": null,
      "top": null,
      "visibility": null,
      "width": null
     }
    },
    "102e49e25ee24558a89288f281389c0f": {
     "model_module": "@jupyter-widgets/controls",
     "model_module_version": "1.5.0",
     "model_name": "FloatProgressModel",
     "state": {
      "_dom_classes": [],
      "_model_module": "@jupyter-widgets/controls",
      "_model_module_version": "1.5.0",
      "_model_name": "FloatProgressModel",
      "_view_count": null,
      "_view_module": "@jupyter-widgets/controls",
      "_view_module_version": "1.5.0",
      "_view_name": "ProgressView",
      "bar_style": "success",
      "description": "",
      "description_tooltip": null,
      "layout": "IPY_MODEL_77864a57905a4bb5a844466f5c0ab81b",
      "max": 77779,
      "min": 0,
      "orientation": "horizontal",
      "style": "IPY_MODEL_f95e6fc201594172bddd48a8a827be1b",
      "value": 77779
     }
    },
    "16c02ced2339435d9683f505a215a4fd": {
     "model_module": "@jupyter-widgets/base",
     "model_module_version": "1.2.0",
     "model_name": "LayoutModel",
     "state": {
      "_model_module": "@jupyter-widgets/base",
      "_model_module_version": "1.2.0",
      "_model_name": "LayoutModel",
      "_view_count": null,
      "_view_module": "@jupyter-widgets/base",
      "_view_module_version": "1.2.0",
      "_view_name": "LayoutView",
      "align_content": null,
      "align_items": null,
      "align_self": null,
      "border": null,
      "bottom": null,
      "display": null,
      "flex": null,
      "flex_flow": null,
      "grid_area": null,
      "grid_auto_columns": null,
      "grid_auto_flow": null,
      "grid_auto_rows": null,
      "grid_column": null,
      "grid_gap": null,
      "grid_row": null,
      "grid_template_areas": null,
      "grid_template_columns": null,
      "grid_template_rows": null,
      "height": null,
      "justify_content": null,
      "justify_items": null,
      "left": null,
      "margin": null,
      "max_height": null,
      "max_width": null,
      "min_height": null,
      "min_width": null,
      "object_fit": null,
      "object_position": null,
      "order": null,
      "overflow": null,
      "overflow_x": null,
      "overflow_y": null,
      "padding": null,
      "right": null,
      "top": null,
      "visibility": null,
      "width": null
     }
    },
    "18565b7a45964ac7b6face0489ee848c": {
     "model_module": "@jupyter-widgets/base",
     "model_module_version": "1.2.0",
     "model_name": "LayoutModel",
     "state": {
      "_model_module": "@jupyter-widgets/base",
      "_model_module_version": "1.2.0",
      "_model_name": "LayoutModel",
      "_view_count": null,
      "_view_module": "@jupyter-widgets/base",
      "_view_module_version": "1.2.0",
      "_view_name": "LayoutView",
      "align_content": null,
      "align_items": null,
      "align_self": null,
      "border": null,
      "bottom": null,
      "display": null,
      "flex": null,
      "flex_flow": null,
      "grid_area": null,
      "grid_auto_columns": null,
      "grid_auto_flow": null,
      "grid_auto_rows": null,
      "grid_column": null,
      "grid_gap": null,
      "grid_row": null,
      "grid_template_areas": null,
      "grid_template_columns": null,
      "grid_template_rows": null,
      "height": null,
      "justify_content": null,
      "justify_items": null,
      "left": null,
      "margin": null,
      "max_height": null,
      "max_width": null,
      "min_height": null,
      "min_width": null,
      "object_fit": null,
      "object_position": null,
      "order": null,
      "overflow": null,
      "overflow_x": null,
      "overflow_y": null,
      "padding": null,
      "right": null,
      "top": null,
      "visibility": null,
      "width": null
     }
    },
    "1f32e3c32e2144e3b9176190d69ced2f": {
     "model_module": "@jupyter-widgets/base",
     "model_module_version": "1.2.0",
     "model_name": "LayoutModel",
     "state": {
      "_model_module": "@jupyter-widgets/base",
      "_model_module_version": "1.2.0",
      "_model_name": "LayoutModel",
      "_view_count": null,
      "_view_module": "@jupyter-widgets/base",
      "_view_module_version": "1.2.0",
      "_view_name": "LayoutView",
      "align_content": null,
      "align_items": null,
      "align_self": null,
      "border": null,
      "bottom": null,
      "display": null,
      "flex": null,
      "flex_flow": null,
      "grid_area": null,
      "grid_auto_columns": null,
      "grid_auto_flow": null,
      "grid_auto_rows": null,
      "grid_column": null,
      "grid_gap": null,
      "grid_row": null,
      "grid_template_areas": null,
      "grid_template_columns": null,
      "grid_template_rows": null,
      "height": null,
      "justify_content": null,
      "justify_items": null,
      "left": null,
      "margin": null,
      "max_height": null,
      "max_width": null,
      "min_height": null,
      "min_width": null,
      "object_fit": null,
      "object_position": null,
      "order": null,
      "overflow": null,
      "overflow_x": null,
      "overflow_y": null,
      "padding": null,
      "right": null,
      "top": null,
      "visibility": null,
      "width": null
     }
    },
    "2201f14eded3432aa60bfc205453c426": {
     "model_module": "@jupyter-widgets/base",
     "model_module_version": "1.2.0",
     "model_name": "LayoutModel",
     "state": {
      "_model_module": "@jupyter-widgets/base",
      "_model_module_version": "1.2.0",
      "_model_name": "LayoutModel",
      "_view_count": null,
      "_view_module": "@jupyter-widgets/base",
      "_view_module_version": "1.2.0",
      "_view_name": "LayoutView",
      "align_content": null,
      "align_items": null,
      "align_self": null,
      "border": null,
      "bottom": null,
      "display": null,
      "flex": null,
      "flex_flow": null,
      "grid_area": null,
      "grid_auto_columns": null,
      "grid_auto_flow": null,
      "grid_auto_rows": null,
      "grid_column": null,
      "grid_gap": null,
      "grid_row": null,
      "grid_template_areas": null,
      "grid_template_columns": null,
      "grid_template_rows": null,
      "height": null,
      "justify_content": null,
      "justify_items": null,
      "left": null,
      "margin": null,
      "max_height": null,
      "max_width": null,
      "min_height": null,
      "min_width": null,
      "object_fit": null,
      "object_position": null,
      "order": null,
      "overflow": null,
      "overflow_x": null,
      "overflow_y": null,
      "padding": null,
      "right": null,
      "top": null,
      "visibility": null,
      "width": null
     }
    },
    "263202f8c82c44adbfe7693f72d8728b": {
     "model_module": "@jupyter-widgets/controls",
     "model_module_version": "1.5.0",
     "model_name": "HTMLModel",
     "state": {
      "_dom_classes": [],
      "_model_module": "@jupyter-widgets/controls",
      "_model_module_version": "1.5.0",
      "_model_name": "HTMLModel",
      "_view_count": null,
      "_view_module": "@jupyter-widgets/controls",
      "_view_module_version": "1.5.0",
      "_view_name": "HTMLView",
      "description": "",
      "description_tooltip": null,
      "layout": "IPY_MODEL_e76ce7e8ee5342d2b332b498b67d87f3",
      "placeholder": "​",
      "style": "IPY_MODEL_98f82d5e6ccc42aba84a92f350511599",
      "value": "Downloading (…)solve/main/vocab.txt: 100%"
     }
    },
    "2957befa66894bf085cc7bb6bae90773": {
     "model_module": "@jupyter-widgets/controls",
     "model_module_version": "1.5.0",
     "model_name": "ProgressStyleModel",
     "state": {
      "_model_module": "@jupyter-widgets/controls",
      "_model_module_version": "1.5.0",
      "_model_name": "ProgressStyleModel",
      "_view_count": null,
      "_view_module": "@jupyter-widgets/base",
      "_view_module_version": "1.2.0",
      "_view_name": "StyleView",
      "bar_color": null,
      "description_width": ""
     }
    },
    "2d8c6d21324c455590a52f387d464a56": {
     "model_module": "@jupyter-widgets/controls",
     "model_module_version": "1.5.0",
     "model_name": "HTMLModel",
     "state": {
      "_dom_classes": [],
      "_model_module": "@jupyter-widgets/controls",
      "_model_module_version": "1.5.0",
      "_model_name": "HTMLModel",
      "_view_count": null,
      "_view_module": "@jupyter-widgets/controls",
      "_view_module_version": "1.5.0",
      "_view_name": "HTMLView",
      "description": "",
      "description_tooltip": null,
      "layout": "IPY_MODEL_b350a27f18094e2a85189e471e53a92a",
      "placeholder": "​",
      "style": "IPY_MODEL_5aa5972252554d119d19c917b3fe7a1b",
      "value": " 371k/371k [00:00&lt;00:00, 1.54MB/s]"
     }
    },
    "32d5d202c14f468f8cbd7036a2ed6e23": {
     "model_module": "@jupyter-widgets/controls",
     "model_module_version": "1.5.0",
     "model_name": "HBoxModel",
     "state": {
      "_dom_classes": [],
      "_model_module": "@jupyter-widgets/controls",
      "_model_module_version": "1.5.0",
      "_model_name": "HBoxModel",
      "_view_count": null,
      "_view_module": "@jupyter-widgets/controls",
      "_view_module_version": "1.5.0",
      "_view_name": "HBoxView",
      "box_style": "",
      "children": [
       "IPY_MODEL_263202f8c82c44adbfe7693f72d8728b",
       "IPY_MODEL_102e49e25ee24558a89288f281389c0f",
       "IPY_MODEL_8e06a322ad7f4b388802df27bbb8fcbf"
      ],
      "layout": "IPY_MODEL_1f32e3c32e2144e3b9176190d69ced2f"
     }
    },
    "3758f756cf66412a982f105347566cc2": {
     "model_module": "@jupyter-widgets/controls",
     "model_module_version": "1.5.0",
     "model_name": "HTMLModel",
     "state": {
      "_dom_classes": [],
      "_model_module": "@jupyter-widgets/controls",
      "_model_module_version": "1.5.0",
      "_model_name": "HTMLModel",
      "_view_count": null,
      "_view_module": "@jupyter-widgets/controls",
      "_view_module_version": "1.5.0",
      "_view_name": "HTMLView",
      "description": "",
      "description_tooltip": null,
      "layout": "IPY_MODEL_591829b187174f07b6b7bf8877aeea50",
      "placeholder": "​",
      "style": "IPY_MODEL_b927d9a69e314b83864771b407d2a6d9",
      "value": " 426/426 [00:00&lt;00:00, 12.0kB/s]"
     }
    },
    "3978eb39beea412dbf8dc7dd899fb99f": {
     "model_module": "@jupyter-widgets/controls",
     "model_module_version": "1.5.0",
     "model_name": "DescriptionStyleModel",
     "state": {
      "_model_module": "@jupyter-widgets/controls",
      "_model_module_version": "1.5.0",
      "_model_name": "DescriptionStyleModel",
      "_view_count": null,
      "_view_module": "@jupyter-widgets/base",
      "_view_module_version": "1.2.0",
      "_view_name": "StyleView",
      "description_width": ""
     }
    },
    "494b5abaf21a4b129bd420217f5b45ff": {
     "model_module": "@jupyter-widgets/controls",
     "model_module_version": "1.5.0",
     "model_name": "HTMLModel",
     "state": {
      "_dom_classes": [],
      "_model_module": "@jupyter-widgets/controls",
      "_model_module_version": "1.5.0",
      "_model_name": "HTMLModel",
      "_view_count": null,
      "_view_module": "@jupyter-widgets/controls",
      "_view_module_version": "1.5.0",
      "_view_name": "HTMLView",
      "description": "",
      "description_tooltip": null,
      "layout": "IPY_MODEL_18565b7a45964ac7b6face0489ee848c",
      "placeholder": "​",
      "style": "IPY_MODEL_dd5aa58dc17643489ecebc36c25828e8",
      "value": "Downloading (…)okenizer_config.json: 100%"
     }
    },
    "4b531ad26ca34024902536df12e911e2": {
     "model_module": "@jupyter-widgets/controls",
     "model_module_version": "1.5.0",
     "model_name": "FloatProgressModel",
     "state": {
      "_dom_classes": [],
      "_model_module": "@jupyter-widgets/controls",
      "_model_module_version": "1.5.0",
      "_model_name": "FloatProgressModel",
      "_view_count": null,
      "_view_module": "@jupyter-widgets/controls",
      "_view_module_version": "1.5.0",
      "_view_name": "ProgressView",
      "bar_style": "success",
      "description": "",
      "description_tooltip": null,
      "layout": "IPY_MODEL_ef28848426b04d57bef427c48fbd2ec0",
      "max": 371391,
      "min": 0,
      "orientation": "horizontal",
      "style": "IPY_MODEL_ea0b6b5858224ad586b44e90818afae6",
      "value": 371391
     }
    },
    "4c46acb90443439fa219ced9f069efa6": {
     "model_module": "@jupyter-widgets/base",
     "model_module_version": "1.2.0",
     "model_name": "LayoutModel",
     "state": {
      "_model_module": "@jupyter-widgets/base",
      "_model_module_version": "1.2.0",
      "_model_name": "LayoutModel",
      "_view_count": null,
      "_view_module": "@jupyter-widgets/base",
      "_view_module_version": "1.2.0",
      "_view_name": "LayoutView",
      "align_content": null,
      "align_items": null,
      "align_self": null,
      "border": null,
      "bottom": null,
      "display": null,
      "flex": null,
      "flex_flow": null,
      "grid_area": null,
      "grid_auto_columns": null,
      "grid_auto_flow": null,
      "grid_auto_rows": null,
      "grid_column": null,
      "grid_gap": null,
      "grid_row": null,
      "grid_template_areas": null,
      "grid_template_columns": null,
      "grid_template_rows": null,
      "height": null,
      "justify_content": null,
      "justify_items": null,
      "left": null,
      "margin": null,
      "max_height": null,
      "max_width": null,
      "min_height": null,
      "min_width": null,
      "object_fit": null,
      "object_position": null,
      "order": null,
      "overflow": null,
      "overflow_x": null,
      "overflow_y": null,
      "padding": null,
      "right": null,
      "top": null,
      "visibility": null,
      "width": null
     }
    },
    "591829b187174f07b6b7bf8877aeea50": {
     "model_module": "@jupyter-widgets/base",
     "model_module_version": "1.2.0",
     "model_name": "LayoutModel",
     "state": {
      "_model_module": "@jupyter-widgets/base",
      "_model_module_version": "1.2.0",
      "_model_name": "LayoutModel",
      "_view_count": null,
      "_view_module": "@jupyter-widgets/base",
      "_view_module_version": "1.2.0",
      "_view_name": "LayoutView",
      "align_content": null,
      "align_items": null,
      "align_self": null,
      "border": null,
      "bottom": null,
      "display": null,
      "flex": null,
      "flex_flow": null,
      "grid_area": null,
      "grid_auto_columns": null,
      "grid_auto_flow": null,
      "grid_auto_rows": null,
      "grid_column": null,
      "grid_gap": null,
      "grid_row": null,
      "grid_template_areas": null,
      "grid_template_columns": null,
      "grid_template_rows": null,
      "height": null,
      "justify_content": null,
      "justify_items": null,
      "left": null,
      "margin": null,
      "max_height": null,
      "max_width": null,
      "min_height": null,
      "min_width": null,
      "object_fit": null,
      "object_position": null,
      "order": null,
      "overflow": null,
      "overflow_x": null,
      "overflow_y": null,
      "padding": null,
      "right": null,
      "top": null,
      "visibility": null,
      "width": null
     }
    },
    "5aa5972252554d119d19c917b3fe7a1b": {
     "model_module": "@jupyter-widgets/controls",
     "model_module_version": "1.5.0",
     "model_name": "DescriptionStyleModel",
     "state": {
      "_model_module": "@jupyter-widgets/controls",
      "_model_module_version": "1.5.0",
      "_model_name": "DescriptionStyleModel",
      "_view_count": null,
      "_view_module": "@jupyter-widgets/base",
      "_view_module_version": "1.2.0",
      "_view_name": "StyleView",
      "description_width": ""
     }
    },
    "5c596045ba9c48a0ae4cec41b56ccafa": {
     "model_module": "@jupyter-widgets/controls",
     "model_module_version": "1.5.0",
     "model_name": "DescriptionStyleModel",
     "state": {
      "_model_module": "@jupyter-widgets/controls",
      "_model_module_version": "1.5.0",
      "_model_name": "DescriptionStyleModel",
      "_view_count": null,
      "_view_module": "@jupyter-widgets/base",
      "_view_module_version": "1.2.0",
      "_view_name": "StyleView",
      "description_width": ""
     }
    },
    "72ed1a68ac674a229bb2d144b1e9f71c": {
     "model_module": "@jupyter-widgets/base",
     "model_module_version": "1.2.0",
     "model_name": "LayoutModel",
     "state": {
      "_model_module": "@jupyter-widgets/base",
      "_model_module_version": "1.2.0",
      "_model_name": "LayoutModel",
      "_view_count": null,
      "_view_module": "@jupyter-widgets/base",
      "_view_module_version": "1.2.0",
      "_view_name": "LayoutView",
      "align_content": null,
      "align_items": null,
      "align_self": null,
      "border": null,
      "bottom": null,
      "display": null,
      "flex": null,
      "flex_flow": null,
      "grid_area": null,
      "grid_auto_columns": null,
      "grid_auto_flow": null,
      "grid_auto_rows": null,
      "grid_column": null,
      "grid_gap": null,
      "grid_row": null,
      "grid_template_areas": null,
      "grid_template_columns": null,
      "grid_template_rows": null,
      "height": null,
      "justify_content": null,
      "justify_items": null,
      "left": null,
      "margin": null,
      "max_height": null,
      "max_width": null,
      "min_height": null,
      "min_width": null,
      "object_fit": null,
      "object_position": null,
      "order": null,
      "overflow": null,
      "overflow_x": null,
      "overflow_y": null,
      "padding": null,
      "right": null,
      "top": null,
      "visibility": null,
      "width": null
     }
    },
    "7407bdcd04984fc898dae5973f1c4a8e": {
     "model_module": "@jupyter-widgets/base",
     "model_module_version": "1.2.0",
     "model_name": "LayoutModel",
     "state": {
      "_model_module": "@jupyter-widgets/base",
      "_model_module_version": "1.2.0",
      "_model_name": "LayoutModel",
      "_view_count": null,
      "_view_module": "@jupyter-widgets/base",
      "_view_module_version": "1.2.0",
      "_view_name": "LayoutView",
      "align_content": null,
      "align_items": null,
      "align_self": null,
      "border": null,
      "bottom": null,
      "display": null,
      "flex": null,
      "flex_flow": null,
      "grid_area": null,
      "grid_auto_columns": null,
      "grid_auto_flow": null,
      "grid_auto_rows": null,
      "grid_column": null,
      "grid_gap": null,
      "grid_row": null,
      "grid_template_areas": null,
      "grid_template_columns": null,
      "grid_template_rows": null,
      "height": null,
      "justify_content": null,
      "justify_items": null,
      "left": null,
      "margin": null,
      "max_height": null,
      "max_width": null,
      "min_height": null,
      "min_width": null,
      "object_fit": null,
      "object_position": null,
      "order": null,
      "overflow": null,
      "overflow_x": null,
      "overflow_y": null,
      "padding": null,
      "right": null,
      "top": null,
      "visibility": null,
      "width": null
     }
    },
    "77864a57905a4bb5a844466f5c0ab81b": {
     "model_module": "@jupyter-widgets/base",
     "model_module_version": "1.2.0",
     "model_name": "LayoutModel",
     "state": {
      "_model_module": "@jupyter-widgets/base",
      "_model_module_version": "1.2.0",
      "_model_name": "LayoutModel",
      "_view_count": null,
      "_view_module": "@jupyter-widgets/base",
      "_view_module_version": "1.2.0",
      "_view_name": "LayoutView",
      "align_content": null,
      "align_items": null,
      "align_self": null,
      "border": null,
      "bottom": null,
      "display": null,
      "flex": null,
      "flex_flow": null,
      "grid_area": null,
      "grid_auto_columns": null,
      "grid_auto_flow": null,
      "grid_auto_rows": null,
      "grid_column": null,
      "grid_gap": null,
      "grid_row": null,
      "grid_template_areas": null,
      "grid_template_columns": null,
      "grid_template_rows": null,
      "height": null,
      "justify_content": null,
      "justify_items": null,
      "left": null,
      "margin": null,
      "max_height": null,
      "max_width": null,
      "min_height": null,
      "min_width": null,
      "object_fit": null,
      "object_position": null,
      "order": null,
      "overflow": null,
      "overflow_x": null,
      "overflow_y": null,
      "padding": null,
      "right": null,
      "top": null,
      "visibility": null,
      "width": null
     }
    },
    "824662a101c94b31805acb8008e4ddde": {
     "model_module": "@jupyter-widgets/controls",
     "model_module_version": "1.5.0",
     "model_name": "HBoxModel",
     "state": {
      "_dom_classes": [],
      "_model_module": "@jupyter-widgets/controls",
      "_model_module_version": "1.5.0",
      "_model_name": "HBoxModel",
      "_view_count": null,
      "_view_module": "@jupyter-widgets/controls",
      "_view_module_version": "1.5.0",
      "_view_name": "HBoxView",
      "box_style": "",
      "children": [
       "IPY_MODEL_494b5abaf21a4b129bd420217f5b45ff",
       "IPY_MODEL_d1f94664fa214cb2bb802c7fc9d7e7fa",
       "IPY_MODEL_98c8156322314a2682f7033ef9847cd0"
      ],
      "layout": "IPY_MODEL_72ed1a68ac674a229bb2d144b1e9f71c"
     }
    },
    "835f00936e3644fc843683ab80c919f6": {
     "model_module": "@jupyter-widgets/controls",
     "model_module_version": "1.5.0",
     "model_name": "HTMLModel",
     "state": {
      "_dom_classes": [],
      "_model_module": "@jupyter-widgets/controls",
      "_model_module_version": "1.5.0",
      "_model_name": "HTMLModel",
      "_view_count": null,
      "_view_module": "@jupyter-widgets/controls",
      "_view_module_version": "1.5.0",
      "_view_name": "HTMLView",
      "description": "",
      "description_tooltip": null,
      "layout": "IPY_MODEL_01e6d0c72d39496a943d2f8519e88812",
      "placeholder": "​",
      "style": "IPY_MODEL_e55c3d54e12f4bc399a247d99677af48",
      "value": "Downloading (…)lve/main/config.json: 100%"
     }
    },
    "8e06a322ad7f4b388802df27bbb8fcbf": {
     "model_module": "@jupyter-widgets/controls",
     "model_module_version": "1.5.0",
     "model_name": "HTMLModel",
     "state": {
      "_dom_classes": [],
      "_model_module": "@jupyter-widgets/controls",
      "_model_module_version": "1.5.0",
      "_model_name": "HTMLModel",
      "_view_count": null,
      "_view_module": "@jupyter-widgets/controls",
      "_view_module_version": "1.5.0",
      "_view_name": "HTMLView",
      "description": "",
      "description_tooltip": null,
      "layout": "IPY_MODEL_4c46acb90443439fa219ced9f069efa6",
      "placeholder": "​",
      "style": "IPY_MODEL_5c596045ba9c48a0ae4cec41b56ccafa",
      "value": " 77.8k/77.8k [00:00&lt;00:00, 962kB/s]"
     }
    },
    "92f6df7b37534eb58686340f2fe0c2b0": {
     "model_module": "@jupyter-widgets/controls",
     "model_module_version": "1.5.0",
     "model_name": "FloatProgressModel",
     "state": {
      "_dom_classes": [],
      "_model_module": "@jupyter-widgets/controls",
      "_model_module_version": "1.5.0",
      "_model_name": "FloatProgressModel",
      "_view_count": null,
      "_view_module": "@jupyter-widgets/controls",
      "_view_module_version": "1.5.0",
      "_view_name": "ProgressView",
      "bar_style": "success",
      "description": "",
      "description_tooltip": null,
      "layout": "IPY_MODEL_16c02ced2339435d9683f505a215a4fd",
      "max": 426,
      "min": 0,
      "orientation": "horizontal",
      "style": "IPY_MODEL_2957befa66894bf085cc7bb6bae90773",
      "value": 426
     }
    },
    "98c8156322314a2682f7033ef9847cd0": {
     "model_module": "@jupyter-widgets/controls",
     "model_module_version": "1.5.0",
     "model_name": "HTMLModel",
     "state": {
      "_dom_classes": [],
      "_model_module": "@jupyter-widgets/controls",
      "_model_module_version": "1.5.0",
      "_model_name": "HTMLModel",
      "_view_count": null,
      "_view_module": "@jupyter-widgets/controls",
      "_view_module_version": "1.5.0",
      "_view_name": "HTMLView",
      "description": "",
      "description_tooltip": null,
      "layout": "IPY_MODEL_0be3547419044e38994585aa699a5257",
      "placeholder": "​",
      "style": "IPY_MODEL_07928837abc044018bf17c1458d4b3f0",
      "value": " 51.0/51.0 [00:00&lt;00:00, 1.26kB/s]"
     }
    },
    "98f82d5e6ccc42aba84a92f350511599": {
     "model_module": "@jupyter-widgets/controls",
     "model_module_version": "1.5.0",
     "model_name": "DescriptionStyleModel",
     "state": {
      "_model_module": "@jupyter-widgets/controls",
      "_model_module_version": "1.5.0",
      "_model_name": "DescriptionStyleModel",
      "_view_count": null,
      "_view_module": "@jupyter-widgets/base",
      "_view_module_version": "1.2.0",
      "_view_name": "StyleView",
      "description_width": ""
     }
    },
    "9f6dbe5f12804453862a790499b59e0e": {
     "model_module": "@jupyter-widgets/base",
     "model_module_version": "1.2.0",
     "model_name": "LayoutModel",
     "state": {
      "_model_module": "@jupyter-widgets/base",
      "_model_module_version": "1.2.0",
      "_model_name": "LayoutModel",
      "_view_count": null,
      "_view_module": "@jupyter-widgets/base",
      "_view_module_version": "1.2.0",
      "_view_name": "LayoutView",
      "align_content": null,
      "align_items": null,
      "align_self": null,
      "border": null,
      "bottom": null,
      "display": null,
      "flex": null,
      "flex_flow": null,
      "grid_area": null,
      "grid_auto_columns": null,
      "grid_auto_flow": null,
      "grid_auto_rows": null,
      "grid_column": null,
      "grid_gap": null,
      "grid_row": null,
      "grid_template_areas": null,
      "grid_template_columns": null,
      "grid_template_rows": null,
      "height": null,
      "justify_content": null,
      "justify_items": null,
      "left": null,
      "margin": null,
      "max_height": null,
      "max_width": null,
      "min_height": null,
      "min_width": null,
      "object_fit": null,
      "object_position": null,
      "order": null,
      "overflow": null,
      "overflow_x": null,
      "overflow_y": null,
      "padding": null,
      "right": null,
      "top": null,
      "visibility": null,
      "width": null
     }
    },
    "aeb419f6e53e4d9887509e8ad70a65af": {
     "model_module": "@jupyter-widgets/controls",
     "model_module_version": "1.5.0",
     "model_name": "ProgressStyleModel",
     "state": {
      "_model_module": "@jupyter-widgets/controls",
      "_model_module_version": "1.5.0",
      "_model_name": "ProgressStyleModel",
      "_view_count": null,
      "_view_module": "@jupyter-widgets/base",
      "_view_module_version": "1.2.0",
      "_view_name": "StyleView",
      "bar_color": null,
      "description_width": ""
     }
    },
    "b350a27f18094e2a85189e471e53a92a": {
     "model_module": "@jupyter-widgets/base",
     "model_module_version": "1.2.0",
     "model_name": "LayoutModel",
     "state": {
      "_model_module": "@jupyter-widgets/base",
      "_model_module_version": "1.2.0",
      "_model_name": "LayoutModel",
      "_view_count": null,
      "_view_module": "@jupyter-widgets/base",
      "_view_module_version": "1.2.0",
      "_view_name": "LayoutView",
      "align_content": null,
      "align_items": null,
      "align_self": null,
      "border": null,
      "bottom": null,
      "display": null,
      "flex": null,
      "flex_flow": null,
      "grid_area": null,
      "grid_auto_columns": null,
      "grid_auto_flow": null,
      "grid_auto_rows": null,
      "grid_column": null,
      "grid_gap": null,
      "grid_row": null,
      "grid_template_areas": null,
      "grid_template_columns": null,
      "grid_template_rows": null,
      "height": null,
      "justify_content": null,
      "justify_items": null,
      "left": null,
      "margin": null,
      "max_height": null,
      "max_width": null,
      "min_height": null,
      "min_width": null,
      "object_fit": null,
      "object_position": null,
      "order": null,
      "overflow": null,
      "overflow_x": null,
      "overflow_y": null,
      "padding": null,
      "right": null,
      "top": null,
      "visibility": null,
      "width": null
     }
    },
    "b927d9a69e314b83864771b407d2a6d9": {
     "model_module": "@jupyter-widgets/controls",
     "model_module_version": "1.5.0",
     "model_name": "DescriptionStyleModel",
     "state": {
      "_model_module": "@jupyter-widgets/controls",
      "_model_module_version": "1.5.0",
      "_model_name": "DescriptionStyleModel",
      "_view_count": null,
      "_view_module": "@jupyter-widgets/base",
      "_view_module_version": "1.2.0",
      "_view_name": "StyleView",
      "description_width": ""
     }
    },
    "c264722edf2a4e03b7d984b10a941400": {
     "model_module": "@jupyter-widgets/base",
     "model_module_version": "1.2.0",
     "model_name": "LayoutModel",
     "state": {
      "_model_module": "@jupyter-widgets/base",
      "_model_module_version": "1.2.0",
      "_model_name": "LayoutModel",
      "_view_count": null,
      "_view_module": "@jupyter-widgets/base",
      "_view_module_version": "1.2.0",
      "_view_name": "LayoutView",
      "align_content": null,
      "align_items": null,
      "align_self": null,
      "border": null,
      "bottom": null,
      "display": null,
      "flex": null,
      "flex_flow": null,
      "grid_area": null,
      "grid_auto_columns": null,
      "grid_auto_flow": null,
      "grid_auto_rows": null,
      "grid_column": null,
      "grid_gap": null,
      "grid_row": null,
      "grid_template_areas": null,
      "grid_template_columns": null,
      "grid_template_rows": null,
      "height": null,
      "justify_content": null,
      "justify_items": null,
      "left": null,
      "margin": null,
      "max_height": null,
      "max_width": null,
      "min_height": null,
      "min_width": null,
      "object_fit": null,
      "object_position": null,
      "order": null,
      "overflow": null,
      "overflow_x": null,
      "overflow_y": null,
      "padding": null,
      "right": null,
      "top": null,
      "visibility": null,
      "width": null
     }
    },
    "c7c993e0b7b64328adabe59dc8087e6a": {
     "model_module": "@jupyter-widgets/controls",
     "model_module_version": "1.5.0",
     "model_name": "HBoxModel",
     "state": {
      "_dom_classes": [],
      "_model_module": "@jupyter-widgets/controls",
      "_model_module_version": "1.5.0",
      "_model_name": "HBoxModel",
      "_view_count": null,
      "_view_module": "@jupyter-widgets/controls",
      "_view_module_version": "1.5.0",
      "_view_name": "HBoxView",
      "box_style": "",
      "children": [
       "IPY_MODEL_dea65d1d61804eb4abe079ba4a97ca49",
       "IPY_MODEL_4b531ad26ca34024902536df12e911e2",
       "IPY_MODEL_2d8c6d21324c455590a52f387d464a56"
      ],
      "layout": "IPY_MODEL_2201f14eded3432aa60bfc205453c426"
     }
    },
    "d1f94664fa214cb2bb802c7fc9d7e7fa": {
     "model_module": "@jupyter-widgets/controls",
     "model_module_version": "1.5.0",
     "model_name": "FloatProgressModel",
     "state": {
      "_dom_classes": [],
      "_model_module": "@jupyter-widgets/controls",
      "_model_module_version": "1.5.0",
      "_model_name": "FloatProgressModel",
      "_view_count": null,
      "_view_module": "@jupyter-widgets/controls",
      "_view_module_version": "1.5.0",
      "_view_name": "ProgressView",
      "bar_style": "success",
      "description": "",
      "description_tooltip": null,
      "layout": "IPY_MODEL_7407bdcd04984fc898dae5973f1c4a8e",
      "max": 51,
      "min": 0,
      "orientation": "horizontal",
      "style": "IPY_MODEL_aeb419f6e53e4d9887509e8ad70a65af",
      "value": 51
     }
    },
    "dd5aa58dc17643489ecebc36c25828e8": {
     "model_module": "@jupyter-widgets/controls",
     "model_module_version": "1.5.0",
     "model_name": "DescriptionStyleModel",
     "state": {
      "_model_module": "@jupyter-widgets/controls",
      "_model_module_version": "1.5.0",
      "_model_name": "DescriptionStyleModel",
      "_view_count": null,
      "_view_module": "@jupyter-widgets/base",
      "_view_module_version": "1.2.0",
      "_view_name": "StyleView",
      "description_width": ""
     }
    },
    "dea65d1d61804eb4abe079ba4a97ca49": {
     "model_module": "@jupyter-widgets/controls",
     "model_module_version": "1.5.0",
     "model_name": "HTMLModel",
     "state": {
      "_dom_classes": [],
      "_model_module": "@jupyter-widgets/controls",
      "_model_module_version": "1.5.0",
      "_model_name": "HTMLModel",
      "_view_count": null,
      "_view_module": "@jupyter-widgets/controls",
      "_view_module_version": "1.5.0",
      "_view_name": "HTMLView",
      "description": "",
      "description_tooltip": null,
      "layout": "IPY_MODEL_c264722edf2a4e03b7d984b10a941400",
      "placeholder": "​",
      "style": "IPY_MODEL_3978eb39beea412dbf8dc7dd899fb99f",
      "value": "Downloading (…)zer_78b3253a26.model: 100%"
     }
    },
    "e55c3d54e12f4bc399a247d99677af48": {
     "model_module": "@jupyter-widgets/controls",
     "model_module_version": "1.5.0",
     "model_name": "DescriptionStyleModel",
     "state": {
      "_model_module": "@jupyter-widgets/controls",
      "_model_module_version": "1.5.0",
      "_model_name": "DescriptionStyleModel",
      "_view_count": null,
      "_view_module": "@jupyter-widgets/base",
      "_view_module_version": "1.2.0",
      "_view_name": "StyleView",
      "description_width": ""
     }
    },
    "e76ce7e8ee5342d2b332b498b67d87f3": {
     "model_module": "@jupyter-widgets/base",
     "model_module_version": "1.2.0",
     "model_name": "LayoutModel",
     "state": {
      "_model_module": "@jupyter-widgets/base",
      "_model_module_version": "1.2.0",
      "_model_name": "LayoutModel",
      "_view_count": null,
      "_view_module": "@jupyter-widgets/base",
      "_view_module_version": "1.2.0",
      "_view_name": "LayoutView",
      "align_content": null,
      "align_items": null,
      "align_self": null,
      "border": null,
      "bottom": null,
      "display": null,
      "flex": null,
      "flex_flow": null,
      "grid_area": null,
      "grid_auto_columns": null,
      "grid_auto_flow": null,
      "grid_auto_rows": null,
      "grid_column": null,
      "grid_gap": null,
      "grid_row": null,
      "grid_template_areas": null,
      "grid_template_columns": null,
      "grid_template_rows": null,
      "height": null,
      "justify_content": null,
      "justify_items": null,
      "left": null,
      "margin": null,
      "max_height": null,
      "max_width": null,
      "min_height": null,
      "min_width": null,
      "object_fit": null,
      "object_position": null,
      "order": null,
      "overflow": null,
      "overflow_x": null,
      "overflow_y": null,
      "padding": null,
      "right": null,
      "top": null,
      "visibility": null,
      "width": null
     }
    },
    "ea0b6b5858224ad586b44e90818afae6": {
     "model_module": "@jupyter-widgets/controls",
     "model_module_version": "1.5.0",
     "model_name": "ProgressStyleModel",
     "state": {
      "_model_module": "@jupyter-widgets/controls",
      "_model_module_version": "1.5.0",
      "_model_name": "ProgressStyleModel",
      "_view_count": null,
      "_view_module": "@jupyter-widgets/base",
      "_view_module_version": "1.2.0",
      "_view_name": "StyleView",
      "bar_color": null,
      "description_width": ""
     }
    },
    "ef28848426b04d57bef427c48fbd2ec0": {
     "model_module": "@jupyter-widgets/base",
     "model_module_version": "1.2.0",
     "model_name": "LayoutModel",
     "state": {
      "_model_module": "@jupyter-widgets/base",
      "_model_module_version": "1.2.0",
      "_model_name": "LayoutModel",
      "_view_count": null,
      "_view_module": "@jupyter-widgets/base",
      "_view_module_version": "1.2.0",
      "_view_name": "LayoutView",
      "align_content": null,
      "align_items": null,
      "align_self": null,
      "border": null,
      "bottom": null,
      "display": null,
      "flex": null,
      "flex_flow": null,
      "grid_area": null,
      "grid_auto_columns": null,
      "grid_auto_flow": null,
      "grid_auto_rows": null,
      "grid_column": null,
      "grid_gap": null,
      "grid_row": null,
      "grid_template_areas": null,
      "grid_template_columns": null,
      "grid_template_rows": null,
      "height": null,
      "justify_content": null,
      "justify_items": null,
      "left": null,
      "margin": null,
      "max_height": null,
      "max_width": null,
      "min_height": null,
      "min_width": null,
      "object_fit": null,
      "object_position": null,
      "order": null,
      "overflow": null,
      "overflow_x": null,
      "overflow_y": null,
      "padding": null,
      "right": null,
      "top": null,
      "visibility": null,
      "width": null
     }
    },
    "f95e6fc201594172bddd48a8a827be1b": {
     "model_module": "@jupyter-widgets/controls",
     "model_module_version": "1.5.0",
     "model_name": "ProgressStyleModel",
     "state": {
      "_model_module": "@jupyter-widgets/controls",
      "_model_module_version": "1.5.0",
      "_model_name": "ProgressStyleModel",
      "_view_count": null,
      "_view_module": "@jupyter-widgets/base",
      "_view_module_version": "1.2.0",
      "_view_name": "StyleView",
      "bar_color": null,
      "description_width": ""
     }
    },
    "fc29e9755d8149a18a86d18f759cd226": {
     "model_module": "@jupyter-widgets/controls",
     "model_module_version": "1.5.0",
     "model_name": "HBoxModel",
     "state": {
      "_dom_classes": [],
      "_model_module": "@jupyter-widgets/controls",
      "_model_module_version": "1.5.0",
      "_model_name": "HBoxModel",
      "_view_count": null,
      "_view_module": "@jupyter-widgets/controls",
      "_view_module_version": "1.5.0",
      "_view_name": "HBoxView",
      "box_style": "",
      "children": [
       "IPY_MODEL_835f00936e3644fc843683ab80c919f6",
       "IPY_MODEL_92f6df7b37534eb58686340f2fe0c2b0",
       "IPY_MODEL_3758f756cf66412a982f105347566cc2"
      ],
      "layout": "IPY_MODEL_9f6dbe5f12804453862a790499b59e0e"
     }
    }
   }
  }
 },
 "nbformat": 4,
 "nbformat_minor": 5
}
