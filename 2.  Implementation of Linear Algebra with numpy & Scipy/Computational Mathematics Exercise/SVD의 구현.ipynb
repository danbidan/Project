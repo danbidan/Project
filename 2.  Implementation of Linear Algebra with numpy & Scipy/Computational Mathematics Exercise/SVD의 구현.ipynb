{
 "cells": [
  {
   "cell_type": "markdown",
   "metadata": {},
   "source": [
    "## SVD의 구현\n",
    "\n",
    "* 계수가 $r$인 행렬 $A$의 특이값분해(SVD)가 $A = U\\Sigma V^{\\rm T}$일 때, $U$와 $V$의 $i$번째 열벡터를 각각 $\\mathbf u_i$, $\\mathbf v_i$, $\\Sigma$의 $i$번째 대각성분을 $\\sigma_i$라 할 때, \n",
    "$$ A = \\sum_{i=1}^r \\sigma_i \\mathbf u_i\\mathbf v_i^{\\rm T},\\quad (\\sigma_1\\ge \\sigma_2\\ge \\cdots\\sigma_r>0)$$\n",
    "\n",
    "\n",
    "* $B=A^{\\rm T}A$라 할 때, $B = \\sum_{i=1}^r \\sigma_i^2 \\mathbf v_i\\mathbf v_i^{\\rm T}$이므로 $B\\mathbf v_i= \\sigma_i^2 \\mathbf v_i$이고 이로부터 $B^k\\mathbf v_i = \\sigma_i^{2k}\\mathbf v_i$\n",
    "\n",
    "\n",
    "* 따라서 임의의 $\\mathbf x =\\sum_{i=1}^r c_i\\mathbf v_i$에 대하여 $B^k\\mathbf x = \\sum_{i=1}^r c_i \\sigma_i^{2k}\\mathbf v_i$\n",
    "\n",
    "\n",
    "* $\\sigma_1$이 $\\sigma_i \\ (i\\neq 1)$보다 큰 경우 \n",
    "$$\\displaystyle{\\lim_{k\\to \\infty}\\dfrac {B^{k}\\mathbf x}{||B^{k}\\mathbf x||}=\\lim_{k\\to \\infty}\\sum_{i=1}^r \\dfrac{c_i\\sigma_i^{2k}}{\\sqrt{c_1^2\\sigma_1^{4k}+\\cdots c_r^2\\sigma_r^{4k}}}\\mathbf v_i}= \\mathbf v_1 $$\n",
    "\n",
    "\n",
    "\n",
    "* 한편 $A\\mathbf v_i = \\sigma_i \\mathbf u_i$이므로 $\\mathbf v_i$를 알면 $\\sigma_i = ||A\\mathbf v_i||$이고 \n",
    "$\\displaystyle{\\mathbf u_i = \\dfrac{A\\mathbf v_i}{||A\\mathbf v_i||}}$"
   ]
  },
  {
   "cell_type": "markdown",
   "metadata": {},
   "source": [
    "* $\\mathbf v_1,\\ \\mathbf u_1,\\ \\sigma_1$을 구하고 나면 \n",
    "$$B = (A-\\sigma_1\\mathbf u_1\\mathbf v_1^{\\rm T})^{\\rm T}(A-\\sigma_1\\mathbf u_1\\mathbf v_1^{\\rm T})= \\sum_{i=2}^r \\sigma_i^2\\mathbf v_i \\mathbf v_i^{\\rm T}$$\n",
    "에 대해 위 과정을 반복하면 $\\sigma_2>\\sigma_3$인 경우 $\\mathbf v_2,\\ \\mathbf u_2,\\ \\sigma_2$를 구할 수 있고, 이를 계속 반복하여 $A$에 대한 SVD를 구할 수 있음\n",
    "\n",
    "\n",
    "\n",
    "* 특이값 사이의 비가 $1$에 가까운 경우 $\\mathbf v_i$로 수렴하는데 시간이 많이 걸림\n",
    "\n",
    "\n",
    "\n",
    "* 일반적으로는 행렬의 왼쪽에 Householder reflection을 적용하여 QR 분해하는 아이디어와 유사하게 행렬의 양쪽에서 Householder reflection을 적용하여 SVD를 구하는 방법을 많이 사용\n",
    "\n",
    "\n",
    "\n",
    "* 이 강의에서는 Householder reflection을 이용한 QR 분해까지 다룸\n",
    "\n",
    "\n"
   ]
  },
  {
   "cell_type": "code",
   "execution_count": 1,
   "metadata": {},
   "outputs": [],
   "source": [
    "import numpy as np\n",
    "from numpy.linalg import norm\n",
    "\n",
    "def randomUnitVector(n):\n",
    "    unnormalized = np.random.randn(n)\n",
    "    return unnormalized / np.sqrt(np.sum(unnormalized ** 2))\n",
    "\n",
    "\n",
    "def svd1d(A, epsilon=1e-10, verbose=False):\n",
    "    ''' The one-dimensional SVD '''\n",
    "\n",
    "    n, m = A.shape\n",
    "    x = randomUnitVector(min(n,m))\n",
    "    lastV = None\n",
    "    currentV = x\n",
    "\n",
    "    if n > m:\n",
    "        B = A.T @ A\n",
    "    else:\n",
    "        B = A @ A.T\n",
    "\n",
    "    iterations = 0\n",
    "    while True:\n",
    "        iterations += 1\n",
    "        lastV = currentV\n",
    "        currentV = B @ lastV\n",
    "        currentV = currentV / norm(currentV)\n",
    "\n",
    "        if np.abs(np.dot(currentV, lastV)) > 1 - epsilon: # 두 단위벡터 사이의 각\n",
    "            if verbose:\n",
    "                print(\"converged in {} iterations!\".format(iterations))\n",
    "            return currentV\n",
    "\n",
    "\n",
    "def svd0(A, k=None, epsilon=1e-10, verbose=False):\n",
    "    '''\n",
    "        A의 특이값분해를 계산\n",
    "        입력: A는 행렬, k는 계산하려는 특이값의 개수 (k가 None이면 full-rank)\n",
    "    '''\n",
    "    A = np.array(A, dtype=float)\n",
    "    n, m = A.shape\n",
    "    svdList = []\n",
    "    if k is None:\n",
    "        k = min(n, m)\n",
    "\n",
    "    for i in range(k):\n",
    "        tempMatrix = A.copy()\n",
    "\n",
    "        for singularValue, u, v in svdList[:i]:\n",
    "            tempMatrix -= singularValue * np.outer(u, v) # np.outer(u,v)는 u[:,np.newaxis]@ v[:,np.newaxis].T와 동일\n",
    "\n",
    "        if n > m:\n",
    "            v = svd1d(tempMatrix, epsilon=epsilon, verbose=verbose)  # next singular vector\n",
    "            u_unnormalized = A @ v\n",
    "            sigma = norm(u_unnormalized)  # next singular value\n",
    "            u = u_unnormalized / sigma\n",
    "        else:\n",
    "            u = svd1d(tempMatrix, epsilon=epsilon, verbose = verbose)  # next singular vector\n",
    "            v_unnormalized = A.T @ u\n",
    "            sigma = norm(v_unnormalized)  # next singular value\n",
    "            v = v_unnormalized / sigma\n",
    "\n",
    "        svdList.append((sigma, u, v))\n",
    "\n",
    "    sv, RowU, RowV = [np.array(x) for x in zip(*svdList)] # A = U S V^T에서 uRow는 U^T, vRow는 V^T\n",
    "    return sv, RowU.T, RowV"
   ]
  },
  {
   "cell_type": "code",
   "execution_count": 2,
   "metadata": {},
   "outputs": [],
   "source": [
    "def svd(A, k=None, epsilon=1e-10, verbose=False):\n",
    "    '''\n",
    "        A의 특이값분해를 계산\n",
    "        입력: A는 행렬, k는 계산하려는 특이값의 개수 (k가 None이면 full-rank)\n",
    "    '''\n",
    "    A = np.array(A, dtype=float)\n",
    "    n, m = A.shape\n",
    "    \n",
    "    if k is None:\n",
    "        k = min(n, m)\n",
    "    \n",
    "    RowU = np.zeros((k,n))\n",
    "    RowV = np.zeros((k,m))\n",
    "    sv = np.zeros(k)\n",
    "\n",
    "    tempMatrix = A.copy()\n",
    "    \n",
    "    for i in range(k):\n",
    "        if n > m:\n",
    "            RowV[i] = svd1d(tempMatrix, epsilon=epsilon, verbose=verbose)  # next singular vector\n",
    "            u_unnormalized = A @ RowV[i]\n",
    "            sv[i] = norm(u_unnormalized)  # next singular value\n",
    "            RowU[i] = u_unnormalized / sv[i]\n",
    "        else:\n",
    "            RowU[i] = svd1d(tempMatrix, epsilon=epsilon, verbose = verbose)  # next singular vector\n",
    "            v_unnormalized = A.T @ u\n",
    "            sv[i] = norm(v_unnormalized)  # next singular value\n",
    "            RowV[i] = v_unnormalized / sv[i]\n",
    "            \n",
    "        tempMatrix -= sv[i] * np.outer(RowU[i], RowV[i]) # np.outer(u,v)는 u[:,np.newaxis]@ v[:,np.newaxis].T와 동일\n",
    "\n",
    "    return sv, RowU.T, RowV"
   ]
  },
  {
   "cell_type": "code",
   "execution_count": 3,
   "metadata": {},
   "outputs": [],
   "source": [
    "A = np.array([\n",
    "    [2, 5, 3],\n",
    "    [1, 2, 1],\n",
    "    [4, 1, 1],\n",
    "    [3, 5, 2],\n",
    "    [5, 3, 1],\n",
    "    [4, 5, 5],\n",
    "    [2, 4, 2],\n",
    "    [2, 2, 5]\n",
    "], dtype='float64')"
   ]
  },
  {
   "cell_type": "code",
   "execution_count": 4,
   "metadata": {},
   "outputs": [
    {
     "name": "stdout",
     "output_type": "stream",
     "text": [
      "converged in 7 iterations!\n",
      "converged in 24 iterations!\n",
      "converged in 2 iterations!\n"
     ]
    }
   ],
   "source": [
    "s, u, vt = svd0(A, verbose=True)"
   ]
  },
  {
   "cell_type": "code",
   "execution_count": 5,
   "metadata": {},
   "outputs": [
    {
     "data": {
      "text/plain": [
       "array([15.09626916,  4.30056855,  3.40701739])"
      ]
     },
     "execution_count": 5,
     "metadata": {},
     "output_type": "execute_result"
    }
   ],
   "source": [
    "s"
   ]
  },
  {
   "cell_type": "code",
   "execution_count": 6,
   "metadata": {},
   "outputs": [
    {
     "data": {
      "text/plain": [
       "array([[ 0.39458532, -0.23922898, -0.35446529],\n",
       "       [ 0.15830233, -0.03054625, -0.15299841],\n",
       "       [ 0.22155189,  0.52085559,  0.39336229],\n",
       "       [ 0.39692632,  0.08649776, -0.41052675],\n",
       "       [ 0.34630242,  0.64128807,  0.07384473],\n",
       "       [ 0.53347454, -0.19169038,  0.1994884 ],\n",
       "       [ 0.31660465, -0.06109249, -0.30599682],\n",
       "       [ 0.32840235, -0.4597131 ,  0.6235359 ]])"
      ]
     },
     "execution_count": 6,
     "metadata": {},
     "output_type": "execute_result"
    }
   ],
   "source": [
    "u"
   ]
  },
  {
   "cell_type": "code",
   "execution_count": 7,
   "metadata": {},
   "outputs": [
    {
     "data": {
      "text/plain": [
       "array([[ 0.54184749,  0.67070999,  0.50650706],\n",
       "       [ 0.75151584, -0.11679387, -0.64929433],\n",
       "       [ 0.37633128, -0.73246658,  0.56733365]])"
      ]
     },
     "execution_count": 7,
     "metadata": {},
     "output_type": "execute_result"
    }
   ],
   "source": [
    "vt"
   ]
  },
  {
   "cell_type": "code",
   "execution_count": 8,
   "metadata": {},
   "outputs": [],
   "source": [
    "A_rec = (u*s) @ vt"
   ]
  },
  {
   "cell_type": "code",
   "execution_count": 9,
   "metadata": {},
   "outputs": [
    {
     "name": "stdout",
     "output_type": "stream",
     "text": [
      "converged in 7 iterations!\n",
      "converged in 26 iterations!\n",
      "converged in 2 iterations!\n"
     ]
    }
   ],
   "source": [
    "ss, uu, vvt = svd(A, verbose=True)"
   ]
  },
  {
   "cell_type": "code",
   "execution_count": 10,
   "metadata": {},
   "outputs": [
    {
     "data": {
      "text/plain": [
       "array([[2., 5., 3.],\n",
       "       [1., 2., 1.],\n",
       "       [4., 1., 1.],\n",
       "       [3., 5., 2.],\n",
       "       [5., 3., 1.],\n",
       "       [4., 5., 5.],\n",
       "       [2., 4., 2.],\n",
       "       [2., 2., 5.]])"
      ]
     },
     "execution_count": 10,
     "metadata": {},
     "output_type": "execute_result"
    }
   ],
   "source": [
    "(uu * ss) @ vvt"
   ]
  },
  {
   "cell_type": "code",
   "execution_count": 11,
   "metadata": {},
   "outputs": [],
   "source": [
    "import matplotlib.pyplot as plt\n",
    "%matplotlib inline"
   ]
  },
  {
   "cell_type": "code",
   "execution_count": 12,
   "metadata": {},
   "outputs": [],
   "source": [
    "kcha = plt.imread('kcha.png')\n",
    "kcha2 = np.mean(kcha, axis=2)"
   ]
  },
  {
   "cell_type": "code",
   "execution_count": 13,
   "metadata": {},
   "outputs": [
    {
     "name": "stdout",
     "output_type": "stream",
     "text": [
      "converged in 6 iterations!\n",
      "converged in 18 iterations!\n",
      "converged in 16 iterations!\n",
      "converged in 38 iterations!\n",
      "converged in 75 iterations!\n",
      "converged in 58 iterations!\n",
      "converged in 55 iterations!\n",
      "converged in 32 iterations!\n",
      "converged in 83 iterations!\n",
      "converged in 64 iterations!\n",
      "converged in 39 iterations!\n",
      "converged in 364 iterations!\n",
      "converged in 53 iterations!\n",
      "converged in 90 iterations!\n",
      "converged in 42 iterations!\n",
      "converged in 348 iterations!\n",
      "converged in 125 iterations!\n",
      "converged in 39 iterations!\n",
      "converged in 111 iterations!\n",
      "converged in 125 iterations!\n",
      "converged in 53 iterations!\n",
      "converged in 99 iterations!\n",
      "converged in 76 iterations!\n",
      "converged in 59 iterations!\n",
      "converged in 152 iterations!\n",
      "converged in 95 iterations!\n",
      "converged in 81 iterations!\n",
      "converged in 190 iterations!\n",
      "converged in 132 iterations!\n",
      "converged in 88 iterations!\n",
      "converged in 106 iterations!\n",
      "converged in 123 iterations!\n",
      "converged in 389 iterations!\n",
      "converged in 99 iterations!\n",
      "converged in 110 iterations!\n",
      "converged in 96 iterations!\n",
      "converged in 92 iterations!\n",
      "converged in 506 iterations!\n",
      "converged in 189 iterations!\n",
      "converged in 398 iterations!\n"
     ]
    }
   ],
   "source": [
    "s, u, vt = svd(kcha2, k=40, verbose=True)"
   ]
  },
  {
   "cell_type": "code",
   "execution_count": 14,
   "metadata": {},
   "outputs": [
    {
     "data": {
      "text/plain": [
       "array([252.61520125,  62.56975256,  45.82912774,  30.0383472 ,\n",
       "        26.26540451,  24.81834685,  23.0480504 ,  21.18730096,\n",
       "        17.89815421,  16.73109378,  15.21898575,  13.21814305,\n",
       "        12.97294387,  11.87958297,  11.18342258,   9.95427121,\n",
       "         9.86028132,   9.44411885,   8.16796596,   7.87009203,\n",
       "         7.6542539 ,   7.0822825 ,   6.79409593,   6.36853085,\n",
       "         5.96147113,   5.8306243 ,   5.55874958,   5.25989871,\n",
       "         5.13229008,   5.02113177,   4.77536371,   4.60539478,\n",
       "         4.4880976 ,   4.44561094,   4.2655145 ,   4.11910536,\n",
       "         3.95594465,   3.75898026,   3.73092678,   3.65041198])"
      ]
     },
     "execution_count": 14,
     "metadata": {},
     "output_type": "execute_result"
    }
   ],
   "source": [
    "s[:40]"
   ]
  },
  {
   "cell_type": "code",
   "execution_count": 15,
   "metadata": {},
   "outputs": [],
   "source": [
    "kcha_rec = (u*s) @ vt"
   ]
  },
  {
   "cell_type": "code",
   "execution_count": 16,
   "metadata": {},
   "outputs": [
    {
     "data": {
      "text/plain": [
       "<matplotlib.image.AxesImage at 0x2093b42af88>"
      ]
     },
     "execution_count": 16,
     "metadata": {},
     "output_type": "execute_result"
    },
    {
     "data": {
      "image/png": "[encoded data removed]",
      "text/plain": [
       "<Figure size 432x288 with 1 Axes>"
      ]
     },
     "metadata": {
      "needs_background": "light"
     },
     "output_type": "display_data"
    }
   ],
   "source": [
    "plt.imshow(kcha_rec, cmap='gray')"
   ]
  },
  {
   "cell_type": "code",
   "execution_count": 17,
   "metadata": {},
   "outputs": [],
   "source": [
    "from time import time"
   ]
  },
  {
   "cell_type": "code",
   "execution_count": 18,
   "metadata": {},
   "outputs": [
    {
     "name": "stdout",
     "output_type": "stream",
     "text": [
      "13.199236631393433\n"
     ]
    }
   ],
   "source": [
    "start1 = time()\n",
    "s, u, vt = svd0(kcha2, k=100)\n",
    "print(time()-start1)"
   ]
  },
  {
   "cell_type": "code",
   "execution_count": 19,
   "metadata": {},
   "outputs": [
    {
     "name": "stdout",
     "output_type": "stream",
     "text": [
      "1.7513148784637451\n"
     ]
    }
   ],
   "source": [
    "start2 = time()\n",
    "s, u, vt = svd(kcha2, k=100)\n",
    "print(time()-start2)"
   ]
  },
  {
   "cell_type": "code",
   "execution_count": null,
   "metadata": {},
   "outputs": [],
   "source": []
  }
 ],
 "metadata": {
  "kernelspec": {
   "display_name": "Python 3",
   "language": "python",
   "name": "python3"
  },
  "language_info": {
   "codemirror_mode": {
    "name": "ipython",
    "version": 3
   },
   "file_extension": ".py",
   "mimetype": "text/x-python",
   "name": "python",
   "nbconvert_exporter": "python",
   "pygments_lexer": "ipython3",
   "version": "3.7.6"
  }
 },
 "nbformat": 4,
 "nbformat_minor": 4
}
