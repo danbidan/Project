{
 "cells": [
  {
   "cell_type": "markdown",
   "metadata": {},
   "source": [
    "## 가우스 소거법을 이용한 일차연립방정식의 해 구하기 (row pivoting)\n",
    "\n",
    "### pivoting이 필요한 이유 (컴퓨터에서 실수를 표현하는 방식으로 인한 rounding error)\n",
    "\n",
    "* 컴퓨터에서 실수를 다루는 방법으로 인해 0에 가까운 수로 나눈 값은 [rounding error](https://en.wikipedia.org/wiki/Round-off_error)가 발생\n",
    "* 예를 들어, 다음 연립방정식 $Ax=b$를 가우스 소거법으로 풀 때\n",
    "\n",
    "$$[A|b]= \\begin{pmatrix} \\epsilon & -1 & 1&|& 0\\\\ -1 & 2 & -1&|& 0\\\\2 & -1 & 0&|& 1\\end{pmatrix}$$\n",
    "\n",
    "* $1$행 $1$열 성분 $\\epsilon$을 선행성분으로 잡아 다음과 같이 가우스 소거법을 적용시키면 \n",
    "\n",
    "$$[A'|b']=\\begin{pmatrix} \\epsilon & -1 & 1 &|& 0\\\\ 0 & 2-\\frac 1{\\epsilon} & -1 +\\frac 1{\\epsilon} &|&0\\\\ 0 & -1+\\frac 2 {\\epsilon} & -\\frac 2 {\\epsilon}&|&1\\end{pmatrix}$$\n",
    "\n",
    "$\\epsilon$이 $0$에 가까운 값일 때, $2-\\frac 1{\\epsilon}$은 $-\\frac 1{\\epsilon}$으로 계산이 되므로 실제 계산되는 방정식은 \n",
    "\n",
    "$$[A'|b']=\\begin{pmatrix} \\epsilon & -1 & 1 &|& 0\\\\ 0 & -\\frac 1{\\epsilon} &  \\frac 1{\\epsilon} &|&0\\\\ 0 &  \\frac 2 {\\epsilon} & -\\frac 2 {\\epsilon}&|&1\\end{pmatrix}$$\n",
    "이 된다.\n",
    "* 이때, 원래 방정식은 해가 존재하는 방정식이지만, 계산되는 방정식은 해가 존재하지 않는 방정식이 되는 문제가 생긴다.\n",
    "* 하지만, 두 행의 위치를 바꾸어(연립방정식에서 두 식의 순서를 바꾸어) 다음과 같이 풀면 이런 문제가 생기지 않는다. \n",
    "\n",
    "$$[A|b]=\\begin{pmatrix} 2 & -1 & 0 &|& 1\\\\ -1 & 2 & -1 &|& 0\\\\ \\epsilon &-1 & 1&|&0\\end{pmatrix}\\Longrightarrow\n",
    "[A'|b']=\\begin{pmatrix} 2 & -1 & 0 &|& 1\\\\ 0 & \\frac 3 2 & -1 &|& \\frac 1 2\\\\ 0 &-1+\\frac {\\epsilon}2 & 1&|&-\\frac{\\epsilon} 2\\end{pmatrix}$$\n",
    "\n",
    "* 위의 예에서처럼 $(1,1)$ 성분이 $2$가 되도록 행의 위치를 바꾸는 것을 row pivoting이라고 한다.\n"
   ]
  },
  {
   "cell_type": "markdown",
   "metadata": {},
   "source": [
    "### Diagonal Dominance\n",
    "\n",
    "* 주어진 방정식 $Ax=b$에서 $n\\times n$ 행렬 $A$가 다음 조건을 만족시킬 때, $A$를 대각지배(diagonal dominance)행렬이라 한다.\n",
    "\n",
    "$$|A_{ii}|\\ge \\sum_{\\substack{j=1 \\\\ j\\neq i}}^n |A_{ij}|\\ (i=1,2,\\cdots, n)$$\n",
    "\n",
    "* $Ax=b$에서 $A$가 대각지배행렬이면 row pivoting이 별 영향이 없음이 알려져 있다."
   ]
  },
  {
   "cell_type": "markdown",
   "metadata": {},
   "source": [
    "### row pivoting을 이용한 가우스 소거법의 구현\n",
    "\n",
    "* 행렬의 각 행에서 절댓값이 가장 큰 성분을 저장: $s_i = \\max_{j}|A_{ij}|,\\ (i=1,2,\\cdots,n)$\n",
    "\n",
    "* 가우스 소거법을 적용시킬 때, $k$번째 행에서 행의 위치를 맞바꾸어 선행성분 $A_{pk}$를 선택하는 방법:\n",
    "\n",
    "    $r_{ij} = \\dfrac{|A_{ij}|}{s_i}$ 에 대해 $r_{pk}=\\max_{j}(r_{jk}),\\ j\\ge k\\,$인 행$p$를 선택"
   ]
  },
  {
   "cell_type": "markdown",
   "metadata": {},
   "source": [
    "### 가우스 소거법을 적용한 후 해를 구하는 법\n",
    "\n",
    "* 가우스 소거법을 적용하여 $Ax=b$가 다음과 같은 형태가 되었을 때 (단, $A$는 $n\\times n$행렬)\n",
    "$$[A|b] = \\begin{pmatrix} A_{11} & A_{12} & A_{13} & \\cdots & A_{1n}&|& b_1\\\\\n",
    "                              0  & A_{22} & A_{23} & \\cdots & A_{2n}&|& b_2\\\\\n",
    "                              0  & 0      & A_{33} & \\cdots & A_{3n}&|& b_3\\\\\n",
    "                          \\vdots &\\vdots  &\\vdots  & \\ddots & \\vdots&|& \\vdots\\\\\n",
    "                              0  & 0      & 0      & 0      & A_{nn}&|& b_n\\end{pmatrix}$$\n",
    "                              \n",
    "                              \n",
    "* 해는 마지막 식에서 $x_n$을 구하는 꺼꾸로 구해나가면 되고, 이를 식으로 나타내면\n",
    "$$x_n = \\frac {b_n}{A_{nn}},\\quad x_k = \\left(b_k -\\sum_{j=k+1}^n A_{kj}x_j\\right) \\dfrac 1 {A_{kk}},\\ k=n-1,n-2,\\cdots,1$$"
   ]
  },
  {
   "cell_type": "code",
   "execution_count": 3,
   "metadata": {
    "tags": []
   },
   "outputs": [],
   "source": [
    "import numpy as np"
   ]
  },
  {
   "cell_type": "code",
   "execution_count": 2,
   "metadata": {
    "tags": []
   },
   "outputs": [],
   "source": [
    "def Choleski(A):\n",
    "    n = len(A)\n",
    "    A = A.copy() # 입력 행렬을 변경하지 않기 위해 복사합니다.\n",
    "    L = np.zeros((n, n))\n",
    "    \n",
    "    for j in range(n):\n",
    "        L[j, j] = np.sqrt(A[j, j] - np.sum(L[j, :j]**2))\n",
    "        \n",
    "        for i in range(j+1, n):\n",
    "            L[i, j] = (A[i, j] - np.dot(L[i, :j], L[j, :j])) / L[j, j]\n",
    "            \n",
    "    return L"
   ]
  },
  {
   "cell_type": "markdown",
   "metadata": {},
   "source": [
    "### <span style='color:orange'> numpy 배열 처리 시 주의사항 </span>\n",
    "\n",
    "* $A = np.array([[1,2],[3,4]])$에서 $0.1*A$를 계산할 때는 $A$의 dtype이 바뀌지만\n",
    "* $A[0] = 0.1*A[0]$를 할 때는 $A$의 dtype이 변하지 않음\n",
    "* np.array의 일부 성분이 변할 때는 전체 dtype이 바뀌지 않음에 주의"
   ]
  },
  {
   "cell_type": "code",
   "execution_count": 2,
   "metadata": {
    "tags": []
   },
   "outputs": [],
   "source": [
    "A1 = np.array([[1,2],[3,4]])\n",
    "A2 = A1.copy()"
   ]
  },
  {
   "cell_type": "code",
   "execution_count": 3,
   "metadata": {
    "tags": []
   },
   "outputs": [
    {
     "data": {
      "text/plain": [
       "array([[0.1, 0.2],\n",
       "       [0.3, 0.4]])"
      ]
     },
     "execution_count": 3,
     "metadata": {},
     "output_type": "execute_result"
    }
   ],
   "source": [
    "A1 = 0.1 *A1\n",
    "A1"
   ]
  },
  {
   "cell_type": "code",
   "execution_count": 4,
   "metadata": {
    "tags": []
   },
   "outputs": [
    {
     "data": {
      "text/plain": [
       "array([[0, 0],\n",
       "       [3, 4]])"
      ]
     },
     "execution_count": 4,
     "metadata": {},
     "output_type": "execute_result"
    }
   ],
   "source": [
    "A2[0] = 0.1 * A2[0]\n",
    "A2"
   ]
  },
  {
   "cell_type": "code",
   "execution_count": 5,
   "metadata": {
    "tags": []
   },
   "outputs": [
    {
     "data": {
      "text/plain": [
       "array([[0, 0],\n",
       "       [3, 3]])"
      ]
     },
     "execution_count": 5,
     "metadata": {},
     "output_type": "execute_result"
    }
   ],
   "source": [
    "A2[1,1] = 3.4\n",
    "A2"
   ]
  },
  {
   "cell_type": "code",
   "execution_count": 6,
   "metadata": {
    "tags": []
   },
   "outputs": [],
   "source": [
    "# swap\n",
    "\n",
    "def swapRows(v,i,j):\n",
    "    \"\"\"swapRows(v,i,j)\n",
    "       Swaps rows i and j of vector(array of rank 1) or matrix v(array of rank 2).\"\"\"\n",
    "    \n",
    "    if len(v.shape) == 1:\n",
    "        v[i],v[j] = v[j],v[i]\n",
    "    else:\n",
    "        temp = v[i].copy()\n",
    "        v[i] = v[j]\n",
    "        v[j] = temp\n",
    "        \n",
    "def swapCols(v,i,j):\n",
    "    \"\"\"swapCols(v,i,j)\n",
    "       Swaps columns i and j of matrix v(array of rank 2).\"\"\"\n",
    "    \n",
    "    temp = v[:,j].copy()\n",
    "    v[:,j] = v[:,i]\n",
    "    v[:,i] = temp"
   ]
  },
  {
   "cell_type": "code",
   "execution_count": 7,
   "metadata": {
    "tags": []
   },
   "outputs": [],
   "source": [
    "# gaussPivot\n",
    "# numpy, swap 필요\n",
    "\n",
    "def gaussPivot(a,b,tol=1.0e-9):\n",
    "    \"\"\"x = gaussPivot(a,b,tol=1.0e-9)\n",
    "       Solves a x = b by Gauss elimination with scaled pivoting\n",
    "    \"\"\"\n",
    "    # a,b가 모두 바뀜에 유의할 것!\n",
    "    \n",
    "    a = np.asarray(1.0 * a) # 이 부분이 없을 때 문제점 확인\n",
    "    b = np.asarray(1.0 * b) # 이 부분이 없을 때 문제점 확인\n",
    "    \n",
    "    n = len(b)\n",
    "    \n",
    "    # set up scale factors\n",
    "    s = np.zeros(n)\n",
    "    for i in range(n):\n",
    "        s[i] = np.max(np.abs(a[i,:]))\n",
    "        \n",
    "    for k in range(0,n-1):\n",
    "        # 필요할 때 행교환\n",
    "        p = np.argmax(np.abs(a[k:n,k])/s[k:n]) + k\n",
    "        if np.abs(a[p,k]) < tol:\n",
    "            print(\"가역행렬이 아닙니다.\")\n",
    "            return None\n",
    "        if p != k:\n",
    "            swapRows(b,k,p)    # swap을 모듈로 저장시 swap.swapRows\n",
    "            swapRows(s,k,p)\n",
    "            swapRows(a,k,p)\n",
    "            \n",
    "        # 가우스 소거법\n",
    "        for i in range(k+1,n):\n",
    "            if a[i,k] != 0.0:\n",
    "                lamb = a[i,k]/a[k,k]\n",
    "                a[i,k+1:n] = a[i,k+1:n] - lamb * a[k,k+1:n]\n",
    "                b[i] = b[i] - lamb * b[k]\n",
    "    if np.abs(a[n-1,n-1]) < tol:\n",
    "        print(\"가역행렬이 아닙니다.\")\n",
    "        return None \n",
    "    \n",
    "    for k in range(n-1,-1,-1):\n",
    "        b[k] = (b[k] - np.dot(a[k,k+1:n], b[k+1:n])) / a[k,k]\n",
    "    return b"
   ]
  },
  {
   "cell_type": "code",
   "execution_count": 8,
   "metadata": {
    "tags": []
   },
   "outputs": [],
   "source": [
    "A = np.array([[2,-2,6],[-2,4,3],[-1,8,4]])\n",
    "b = np.array([16,0,-1])"
   ]
  },
  {
   "cell_type": "code",
   "execution_count": 9,
   "metadata": {
    "tags": []
   },
   "outputs": [],
   "source": [
    "A1 = A.copy()\n",
    "b1 = b.copy()\n",
    "x = gaussPivot(A1, b1)"
   ]
  },
  {
   "cell_type": "code",
   "execution_count": 10,
   "metadata": {
    "tags": []
   },
   "outputs": [
    {
     "data": {
      "text/plain": [
       "array([ 1., -1.,  2.])"
      ]
     },
     "execution_count": 10,
     "metadata": {},
     "output_type": "execute_result"
    }
   ],
   "source": [
    "x"
   ]
  },
  {
   "cell_type": "code",
   "execution_count": 11,
   "metadata": {
    "tags": []
   },
   "outputs": [
    {
     "data": {
      "text/plain": [
       "array([16.,  0., -1.])"
      ]
     },
     "execution_count": 11,
     "metadata": {},
     "output_type": "execute_result"
    }
   ],
   "source": [
    "np.dot(A, x)"
   ]
  },
  {
   "cell_type": "markdown",
   "metadata": {},
   "source": [
    "## $n\\times n$ 행렬의 LU 분해\n",
    "\n",
    "### row pivoting이 없는 가우스 소거법과 LU 분해\n",
    "\n",
    "* $n\\times n$ 행렬 $A$를 하삼각행렬 $L$과 상삼각행렬 $U$의 곱 $A = LU$로 나타내는 것을 LU 분해라고 함\n",
    "\n",
    "* 행렬 $A$의 LU 분해는 일반적으로 유일하지 않지만, 특별한 조건하에서는 $L$과 $U$가 유일하게 결정됨 (아래 예 참고)\n",
    "    - 하삼각행렬 $L$의 대각성분이 모두 $1$인 경우 : Doolittle 분해\n",
    "    - 상삼각행렬 $U$의 대각성분이 모두 $1$인 경우 : Crout 분해\n",
    "    - 행렬 $A$가 양의 준정부호 행렬일 때, $L=U^{\\rm T}$인 경우 : Choleski 분해\n",
    "    \n",
    "* 예를 들어, $3 \\times 3$인 경우에 $L$의 대각성분이 모두 $1$이 되도록 분해하는 경우\n",
    "\n",
    "$$L = \\begin{pmatrix} 1 & 0 & 0\\\\L_{21} & 1 & 0\\\\ L_{31} & L_{32} & 1\\end{pmatrix},\\ \n",
    "U=\\begin{pmatrix} U_{11} & U_{12} & U_{13}\\\\ 0 & U_{22} & U_{23}\\\\ 0 & 0 & U_{33}\\end{pmatrix},\\\\\n",
    "A = LU = \\begin{pmatrix} U_{11} & U_{12} & U_{13}\\\\ U_{11}L_{21} & U_{12}L_{21}+U_{22}& U_{13}L_{21}+U_{23}\\\\\n",
    "U_{11}L_{31} & U_{12}L_{31}+U_{22}L_{32} & U_{13}L_{31}+U_{23}L_{32}+U_{33}\\end{pmatrix}$$\n",
    "\n",
    "* 가우스 소거법을 적용시켜보면, 가우스 소거법에서 한 행의 상수배를 다른 행에서 뺄 때 곱하는 상수값이 $L$의 성분이고, 가우스 소거법의 결과로 얻어지는 행렬이 $U$가 됨\n",
    "\n",
    "\n",
    "### 행렬의 LU 분해를 알 때, 연립방정식의 해를 구하는 법\n",
    "\n",
    "* $Ax = b \\Longleftrightarrow LUx=b$ \n",
    "\n",
    "* $Ux = y$로 두고, $Ly = b$를 $y_1$부터 $y_n$까지 순차적으로 구하여 $y=(y_1,\\cdots,y_n)^{\\rm T}$를 계산\n",
    "\n",
    "$$y_1 = b_1,\\quad y_k = b_k -\\sum_{j=1}^{k-1} L_{kj}y_j,\\ (k=2,3,\\cdots,n)$$\n",
    "\n",
    "* 계산된 $y$를 이용하여 $Ux=y$를 $x_n$부터 $x_1$까지 순차적으로 구하여 $x$를 계산 : 계산 방법은 가우스 소거법에서 처럼\n",
    "\n",
    "### row pivoting이 있는 가우스 소거법과 LU분해 (Doolittle 분해)\n",
    "\n",
    "* 가우스 소거법에서 두 행의 위치를 맞바꾸는 swap이 일어나는 경우 이 정보를 담고 있는 치환행렬 $P$와 하삼각행렬 $L$ 그리고 상상각행렬 $U$에 대해 $PA = LU$와 같이 분해할 수 있다. \n",
    "\n",
    "* 아래 구현에서 하삼각행렬의 대각성분이 모두 1인 LU 분해(Doolittle 분해)를 할 것이므로, 입렬 행렬 $A$를 업데이트하여 $[L\\setminus U]$꼴로 반환하고, swap이 일어난 정보를 seq에 담아서 반환하도록 구현\n",
    "\n",
    "$$[L\\setminus U] = \\begin{pmatrix} U_{11} & U_{12} & U_{13} & \\cdots & U_{1n}\\\\\n",
    "L_{21} & U_{22} & U_{23} & \\cdots & U_{2n}\\\\ L_{31} & L_{32} & U_{33} & \\cdots & U_{3n}\\\\\n",
    "\\vdots & \\vdots & \\vdots &\\ddots & \\vdots & \\\\ L_{n1} & L_{n2} & L_{n3} & \\cdots & U_{nn}\\end{pmatrix}$$"
   ]
  },
  {
   "cell_type": "code",
   "execution_count": 12,
   "metadata": {
    "tags": []
   },
   "outputs": [
    {
     "data": {
      "text/plain": [
       "2"
      ]
     },
     "execution_count": 12,
     "metadata": {},
     "output_type": "execute_result"
    }
   ],
   "source": [
    "np.argmax(np.array([1.2,0.1,3.1]))"
   ]
  },
  {
   "cell_type": "code",
   "execution_count": 13,
   "metadata": {
    "tags": []
   },
   "outputs": [],
   "source": [
    "def LUdecomp(a, tol=1.0e-9):\n",
    "    \"\"\"a, seq = LUdecomp(a,tol=1.0e-9)\n",
    "       * returned matrix [a] is of the form [L/U] \n",
    "       * [L][U] is a row-wise permutation of the original matrix [a] \n",
    "         and the permutations are recorded in the vector [seq]\"\"\"\n",
    "    \n",
    "    a = np.asarray(1. * a)\n",
    "    n = len(a)\n",
    "    seq = np.array(range(n))\n",
    "    \n",
    "    # set up scale factors\n",
    "    s = np.zeros(n, dtype = float)\n",
    "    for i in range(n):\n",
    "        s[i] = np.max(np.abs(a[i,:]))\n",
    "        \n",
    "    for k in range(0,n-1):\n",
    "        # 필요할 때 행 교환(swap)\n",
    "        p =np.argmax(np.abs(a[k:n, k]) / s[k:n]) + k\n",
    "        if np.abs(a[p,k]) < tol:\n",
    "            print(\"가역행렬이 아닙니다.\")\n",
    "        if p != k:\n",
    "            swapRows(s,k,p)\n",
    "            swapRows(a,k,p)\n",
    "            swapRows(seq,k,p)\n",
    "            \n",
    "        # 가우스 소거법\n",
    "        for i in range(k+1,n):\n",
    "            if a[i,k] != 0.0:\n",
    "                lamb = a[i,k]/a[k,k]\n",
    "                a[i, k+1:n] = a[i, k+1:n] - lamb * a[k, k+1:n]\n",
    "                a[i,k] = lamb   ### 가우스 소거법과 다른 부분 (하삼각행렬 계산)\n",
    "    return a, seq"
   ]
  },
  {
   "cell_type": "code",
   "execution_count": 14,
   "metadata": {
    "tags": []
   },
   "outputs": [],
   "source": [
    "def LUsolve_pre(a,b,seq):\n",
    "    \"\"\"x = LUsolve(a,b,seq)\n",
    "       [L][U]x = b를 만족하는 x를 구하는 함수\n",
    "       [a]=[L/U]와 seq는 a, seq = LUdecomp(a)로 얻어진 값\"\"\"\n",
    "    \n",
    "    a = np.asarray(1.*a)\n",
    "    b = np.asarray(1.*b)\n",
    "    \n",
    "    n = len(a)\n",
    "    \n",
    "    # seq를 이용하여 b를 재정렬하기\n",
    "    x = b.copy()\n",
    "    for i in range(n):\n",
    "        x[i] = b[seq[i]]\n",
    "        \n",
    "    # 해를 구하기 (Ly = b인 y 구하기)\n",
    "    for k in range(1,n):\n",
    "        x[k] = x[k] - np.dot(a[k, 0:k], x[0:k])\n",
    "        \n",
    "    # 해를 구하기 (Ux = y인 x 구하기)\n",
    "    for k in range(n-1,-1,-1):\n",
    "        x[k] = (x[k] - np.dot(a[k, k+1:n], x[k+1:n])) / a[k,k]\n",
    "    return x"
   ]
  },
  {
   "cell_type": "code",
   "execution_count": 15,
   "metadata": {
    "tags": []
   },
   "outputs": [],
   "source": [
    "def LUsolve(a,b,tol=1.0e-9):\n",
    "    \"\"\"x = LUsolve(a,b,tol=1.0e-9)\n",
    "       [a][x]=[b]를 만족하는 해 x를 LU 분해를 이용하여 구하는 함수\"\"\"\n",
    "    \n",
    "    a, seq = LUdecomp(a,tol)\n",
    "    return LUsolve_pre(a,b,seq)"
   ]
  },
  {
   "cell_type": "code",
   "execution_count": 16,
   "metadata": {
    "tags": []
   },
   "outputs": [],
   "source": [
    "A = np.array([[2,-2,6],[-2,4,3],[-1,8,4]])\n",
    "b = np.array([16,0,-1])"
   ]
  },
  {
   "cell_type": "code",
   "execution_count": 17,
   "metadata": {
    "tags": []
   },
   "outputs": [],
   "source": [
    "a, seq = LUdecomp(A)"
   ]
  },
  {
   "cell_type": "code",
   "execution_count": 18,
   "metadata": {
    "tags": []
   },
   "outputs": [],
   "source": [
    "x = LUsolve_pre(a, b, seq)"
   ]
  },
  {
   "cell_type": "code",
   "execution_count": 19,
   "metadata": {
    "tags": []
   },
   "outputs": [
    {
     "data": {
      "text/plain": [
       "array([ 1., -1.,  2.])"
      ]
     },
     "execution_count": 19,
     "metadata": {},
     "output_type": "execute_result"
    }
   ],
   "source": [
    "x"
   ]
  },
  {
   "cell_type": "code",
   "execution_count": 20,
   "metadata": {
    "tags": []
   },
   "outputs": [
    {
     "data": {
      "text/plain": [
       "array([ 1., -1.,  2.])"
      ]
     },
     "execution_count": 20,
     "metadata": {},
     "output_type": "execute_result"
    }
   ],
   "source": [
    "LUsolve(A,b)"
   ]
  },
  {
   "cell_type": "markdown",
   "metadata": {
    "tags": []
   },
   "source": [
    "### numpy의 보충 설명\n",
    "\n",
    "- np.allclose : np.allclose(a, b, rtol=1e-05, atol=1e-08, equal_nan=False)\n",
    "\n",
    "    - 각 성분별로 absolute(`a` - `b`) <= (`atol` + `rtol` * absolute(`b`)) 이면 True   \n",
    "    $$ $$\n",
    "    \n",
    "- ndarray.diagonal : 주어진 2차원 배열 A의 A[i,i]성분들로 이루어진 1차원 배열 반환\n",
    "\n",
    "- np.diag : 입력이 2차원 배열이면 ndarray.diagnoal과 같은 효과, 입력이 1차원 배열이면 주어진 값을 대각성분으로 갖는 2차원 배열 반환\n",
    "\n",
    "- np.where : np.where(조건, x, y) 성분별로 조건이 참이면 x, 거짓이면 y가 되도록 배열을 반환\n",
    "\n",
    "- np.eye: np.eye(N, M=None, k=0, dtype=<class 'float'>, order='C')\n",
    "\n",
    "    - N,M이 다를 수 있고\n",
    "    - k값을 양수로 주면 주대각선 위의 대각선, 음수로 주면 주대각선 아래의 대각선에 1 \n",
    "    \n",
    "- np.identity(n)은 np.eye(n)과 동일"
   ]
  },
  {
   "cell_type": "code",
   "execution_count": 21,
   "metadata": {
    "tags": []
   },
   "outputs": [
    {
     "data": {
      "text/plain": [
       "True"
      ]
     },
     "execution_count": 21,
     "metadata": {},
     "output_type": "execute_result"
    }
   ],
   "source": [
    "# np.allclose : np.allclose(a, b, rtol=1e-05, atol=1e-08, equal_nan=False)\n",
    "#   - 각 성분별로 absolute(`a` - `b`) <= (`atol` + `rtol` * absolute(`b`)) 이면 True\n",
    "\n",
    "np.allclose([1e10,1e-8], [1.00001e10,1e-9])"
   ]
  },
  {
   "cell_type": "code",
   "execution_count": 22,
   "metadata": {
    "tags": []
   },
   "outputs": [
    {
     "name": "stdout",
     "output_type": "stream",
     "text": [
      "[[3 4 2]\n",
      " [1 2 5]\n",
      " [0 1 4]]\n",
      "\n",
      "[[1 2 3 4]\n",
      " [5 6 7 8]]\n"
     ]
    }
   ],
   "source": [
    "# ndarray.diagonal : 주어진 2차원 배열 A의 A[i,i]성분들로 이루어진 1차원 배열 반환\n",
    "\n",
    "A1 = np.array([[3,4,2],[1,2,5],[0,1,4]])\n",
    "A2 = np.array([[1,2,3,4],[5,6,7,8]])\n",
    "print(A1)\n",
    "print()\n",
    "print(A2)"
   ]
  },
  {
   "cell_type": "code",
   "execution_count": 23,
   "metadata": {
    "tags": []
   },
   "outputs": [
    {
     "name": "stdout",
     "output_type": "stream",
     "text": [
      "[3 2 4]\n",
      "\n",
      "[1 6]\n"
     ]
    }
   ],
   "source": [
    "print(A1.diagonal())\n",
    "print()\n",
    "print(A2.diagonal())"
   ]
  },
  {
   "cell_type": "code",
   "execution_count": 24,
   "metadata": {
    "tags": []
   },
   "outputs": [
    {
     "name": "stdout",
     "output_type": "stream",
     "text": [
      "[[1 0 0]\n",
      " [0 2 0]\n",
      " [0 0 3]]\n"
     ]
    }
   ],
   "source": [
    "#np.diag : 입력이 2차원 배열이면 ndarray.diagnoal과 같은 효과, 입력이 1차원 배열이면 주어진 값을 대각성분으로 갖는 2차원 배열 반환\n",
    "\n",
    "B = np.diag([1,2,3])\n",
    "print(B)"
   ]
  },
  {
   "cell_type": "code",
   "execution_count": 25,
   "metadata": {
    "tags": []
   },
   "outputs": [],
   "source": [
    "# np.where : np.where(조건, x, y) 성분별로 조건이 참이면 x, 거짓이면 y가 되도록 배열을 반환\n",
    "\n",
    "upper = np.array([[True if i <=j else False for j in range(5)] for i in range(5)])"
   ]
  },
  {
   "cell_type": "code",
   "execution_count": 26,
   "metadata": {
    "tags": []
   },
   "outputs": [
    {
     "data": {
      "text/plain": [
       "array([[ True,  True,  True,  True,  True],\n",
       "       [False,  True,  True,  True,  True],\n",
       "       [False, False,  True,  True,  True],\n",
       "       [False, False, False,  True,  True],\n",
       "       [False, False, False, False,  True]])"
      ]
     },
     "execution_count": 26,
     "metadata": {},
     "output_type": "execute_result"
    }
   ],
   "source": [
    "upper"
   ]
  },
  {
   "cell_type": "code",
   "execution_count": 27,
   "metadata": {
    "tags": []
   },
   "outputs": [],
   "source": [
    "A = np.arange(1,26).reshape((5,5))"
   ]
  },
  {
   "cell_type": "code",
   "execution_count": 28,
   "metadata": {
    "tags": []
   },
   "outputs": [
    {
     "data": {
      "text/plain": [
       "array([[ 1,  2,  3,  4,  5],\n",
       "       [ 0,  7,  8,  9, 10],\n",
       "       [ 0,  0, 13, 14, 15],\n",
       "       [ 0,  0,  0, 19, 20],\n",
       "       [ 0,  0,  0,  0, 25]])"
      ]
     },
     "execution_count": 28,
     "metadata": {},
     "output_type": "execute_result"
    }
   ],
   "source": [
    "np.where(upper, A, np.zeros_like(A))"
   ]
  },
  {
   "cell_type": "code",
   "execution_count": 29,
   "metadata": {
    "tags": []
   },
   "outputs": [
    {
     "data": {
      "text/plain": [
       "array([[ 0,  0,  0,  0,  0],\n",
       "       [ 6,  0,  0,  0,  0],\n",
       "       [11, 12,  0,  0,  0],\n",
       "       [16, 17, 18,  0,  0],\n",
       "       [21, 22, 23, 24,  0]])"
      ]
     },
     "execution_count": 29,
     "metadata": {},
     "output_type": "execute_result"
    }
   ],
   "source": [
    "np.where(~upper, A, np.zeros_like(A)) # 비트 연산을 해야 각 성분별로 "
   ]
  },
  {
   "cell_type": "code",
   "execution_count": 30,
   "metadata": {
    "tags": []
   },
   "outputs": [
    {
     "data": {
      "text/plain": [
       "array([[1., 0., 0.],\n",
       "       [0., 1., 0.],\n",
       "       [0., 0., 1.]])"
      ]
     },
     "execution_count": 30,
     "metadata": {},
     "output_type": "execute_result"
    }
   ],
   "source": [
    "np.identity(3)"
   ]
  },
  {
   "cell_type": "code",
   "execution_count": 31,
   "metadata": {
    "tags": []
   },
   "outputs": [
    {
     "data": {
      "text/plain": [
       "array([[0., 1., 0., 0.],\n",
       "       [0., 0., 1., 0.],\n",
       "       [0., 0., 0., 1.]])"
      ]
     },
     "execution_count": 31,
     "metadata": {},
     "output_type": "execute_result"
    }
   ],
   "source": [
    "np.eye(3,4,k=1)"
   ]
  },
  {
   "cell_type": "code",
   "execution_count": 32,
   "metadata": {
    "tags": []
   },
   "outputs": [
    {
     "data": {
      "text/plain": [
       "array([[0., 1., 0.],\n",
       "       [0., 0., 1.],\n",
       "       [0., 0., 0.]])"
      ]
     },
     "execution_count": 32,
     "metadata": {},
     "output_type": "execute_result"
    }
   ],
   "source": [
    "np.eye(3,k=1)"
   ]
  },
  {
   "cell_type": "code",
   "execution_count": 33,
   "metadata": {
    "tags": []
   },
   "outputs": [
    {
     "data": {
      "text/plain": [
       "array([[0., 0., 0.],\n",
       "       [1., 0., 0.],\n",
       "       [0., 1., 0.]])"
      ]
     },
     "execution_count": 33,
     "metadata": {},
     "output_type": "execute_result"
    }
   ],
   "source": [
    "np.eye(3,k=-1)"
   ]
  },
  {
   "cell_type": "code",
   "execution_count": 6,
   "metadata": {
    "tags": []
   },
   "outputs": [],
   "source": [
    "def a(n):\n",
    "    A = np.eye(n)\n",
    "    for i in range(1,n):\n",
    "        A = A + np.eye(n,n,i)\n",
    "    return A"
   ]
  },
  {
   "cell_type": "code",
   "execution_count": 7,
   "metadata": {
    "tags": []
   },
   "outputs": [
    {
     "data": {
      "text/plain": [
       "array([[1., 1., 1.],\n",
       "       [0., 1., 1.],\n",
       "       [0., 0., 1.]])"
      ]
     },
     "execution_count": 7,
     "metadata": {},
     "output_type": "execute_result"
    }
   ],
   "source": [
    "a(3)"
   ]
  },
  {
   "cell_type": "code",
   "execution_count": 34,
   "metadata": {
    "tags": []
   },
   "outputs": [],
   "source": [
    "def myprint(A, tol=1.0e-7):\n",
    "    return np.round(A.copy() / tol)* tol"
   ]
  },
  {
   "cell_type": "code",
   "execution_count": 35,
   "metadata": {
    "tags": []
   },
   "outputs": [],
   "source": [
    "def permMat(seq):\n",
    "    n = len(seq)\n",
    "    temp = np.zeros((n,n),dtype=float)\n",
    "    temp[seq,range(n)]=1\n",
    "    return temp"
   ]
  },
  {
   "cell_type": "code",
   "execution_count": 36,
   "metadata": {
    "tags": []
   },
   "outputs": [],
   "source": [
    "def myLU(a, tol=1.0e-9):\n",
    "    a = np.asarray(1.*a)\n",
    "    LU, seq = LUdecomp(a,tol)\n",
    "    \n",
    "    n = len(LU)\n",
    "    upper = np.array([[True if i <=j else False for j in range(n)] for i in range(n)])\n",
    "    U = np.where(upper, LU, np.zeros_like(LU))\n",
    "    L = np.where(~upper, LU, np.zeros_like(LU)) + np.eye(n)\n",
    "    return seq, L, U"
   ]
  },
  {
   "cell_type": "code",
   "execution_count": 37,
   "metadata": {
    "tags": []
   },
   "outputs": [],
   "source": [
    "A = np.array([[2,-2,6],[-2,4,3],[-1,8,4]])\n",
    "seq, L, U = myLU(A)\n",
    "P = permMat(seq)"
   ]
  },
  {
   "cell_type": "code",
   "execution_count": 38,
   "metadata": {
    "tags": []
   },
   "outputs": [
    {
     "data": {
      "text/plain": [
       "array([[ 2., -2.,  6.],\n",
       "       [-2.,  4.,  3.],\n",
       "       [-1.,  8.,  4.]])"
      ]
     },
     "execution_count": 38,
     "metadata": {},
     "output_type": "execute_result"
    }
   ],
   "source": [
    "P@L@U"
   ]
  },
  {
   "cell_type": "code",
   "execution_count": 39,
   "metadata": {
    "tags": []
   },
   "outputs": [],
   "source": [
    "A = np.array([[2, -2, 0, 0, 0],[-2, 5, -6, 0, 0], [0, -6, 16, 12, 0], [0, 0, 12, 39, -6], [0, 0, 0, -6, 14]])\n",
    "b = np.array([1, 0, 0, 0, 0])"
   ]
  },
  {
   "cell_type": "code",
   "execution_count": 40,
   "metadata": {
    "tags": []
   },
   "outputs": [],
   "source": [
    "A1 = A.copy()\n",
    "b1 = b.copy()"
   ]
  },
  {
   "cell_type": "code",
   "execution_count": 41,
   "metadata": {
    "tags": []
   },
   "outputs": [],
   "source": [
    "x = LUsolve(A1, b1)"
   ]
  },
  {
   "cell_type": "code",
   "execution_count": 42,
   "metadata": {
    "tags": []
   },
   "outputs": [
    {
     "name": "stdout",
     "output_type": "stream",
     "text": [
      "[ 85.83333333  85.33333333  42.5        -14.          -6.        ]\n"
     ]
    }
   ],
   "source": [
    "print(x)"
   ]
  },
  {
   "cell_type": "code",
   "execution_count": 43,
   "metadata": {
    "tags": []
   },
   "outputs": [
    {
     "data": {
      "text/plain": [
       "array([ 85.833,  85.333,  42.5  , -14.   ,  -6.   ])"
      ]
     },
     "execution_count": 43,
     "metadata": {},
     "output_type": "execute_result"
    }
   ],
   "source": [
    "myprint(x,tol=1.0e-3)"
   ]
  },
  {
   "cell_type": "code",
   "execution_count": 44,
   "metadata": {
    "tags": []
   },
   "outputs": [
    {
     "name": "stdout",
     "output_type": "stream",
     "text": [
      "[1.00000000e+00 2.84217094e-14 0.00000000e+00 2.84217094e-14\n",
      " 0.00000000e+00]\n"
     ]
    }
   ],
   "source": [
    "print(np.dot(A,x))"
   ]
  },
  {
   "cell_type": "code",
   "execution_count": 45,
   "metadata": {
    "tags": []
   },
   "outputs": [
    {
     "data": {
      "text/plain": [
       "array([1., 0., 0., 0., 0.])"
      ]
     },
     "execution_count": 45,
     "metadata": {},
     "output_type": "execute_result"
    }
   ],
   "source": [
    "myprint(np.dot(A,x))"
   ]
  },
  {
   "cell_type": "code",
   "execution_count": 46,
   "metadata": {
    "tags": []
   },
   "outputs": [
    {
     "data": {
      "text/plain": [
       "True"
      ]
     },
     "execution_count": 46,
     "metadata": {},
     "output_type": "execute_result"
    }
   ],
   "source": [
    "np.allclose(np.dot(A,x),b)"
   ]
  },
  {
   "cell_type": "code",
   "execution_count": 47,
   "metadata": {
    "tags": []
   },
   "outputs": [],
   "source": [
    "seq, AL, AU = myLU(A.copy())\n",
    "P = permMat(seq)"
   ]
  },
  {
   "cell_type": "code",
   "execution_count": 48,
   "metadata": {
    "tags": []
   },
   "outputs": [
    {
     "data": {
      "text/plain": [
       "array([[ 2., -2.,  0.,  0.,  0.],\n",
       "       [-2.,  5., -6.,  0.,  0.],\n",
       "       [ 0., -6., 16., 12.,  0.],\n",
       "       [ 0.,  0., 12., 39., -6.],\n",
       "       [ 0.,  0.,  0., -6., 14.]])"
      ]
     },
     "execution_count": 48,
     "metadata": {},
     "output_type": "execute_result"
    }
   ],
   "source": [
    "myprint(P@AL@AU)"
   ]
  },
  {
   "cell_type": "code",
   "execution_count": 49,
   "metadata": {
    "tags": []
   },
   "outputs": [
    {
     "data": {
      "text/plain": [
       "True"
      ]
     },
     "execution_count": 49,
     "metadata": {},
     "output_type": "execute_result"
    }
   ],
   "source": [
    "np.allclose(AL@AU, P.T@A)"
   ]
  },
  {
   "cell_type": "code",
   "execution_count": 50,
   "metadata": {
    "tags": []
   },
   "outputs": [
    {
     "data": {
      "text/plain": [
       "array([[ 2., -2.,  0.,  0.,  0.],\n",
       "       [-2.,  5., -6.,  0.,  0.],\n",
       "       [ 0.,  0.,  0., -6., 14.],\n",
       "       [ 0., -6., 16., 12.,  0.],\n",
       "       [ 0.,  0., 12., 39., -6.]])"
      ]
     },
     "execution_count": 50,
     "metadata": {},
     "output_type": "execute_result"
    }
   ],
   "source": [
    "ALU = AL@AU\n",
    "myprint(ALU[seq,:])"
   ]
  },
  {
   "cell_type": "markdown",
   "metadata": {},
   "source": [
    "### LU 분해를 이용한 역행렬 구현"
   ]
  },
  {
   "cell_type": "code",
   "execution_count": 51,
   "metadata": {
    "tags": []
   },
   "outputs": [],
   "source": [
    "def matInv(a, tol=1.0e-15):\n",
    "    a = np.asarray(1.*a)\n",
    "    n = len(a[0])\n",
    "    aInv = np.eye(n)\n",
    "    \n",
    "    aa, seq = LUdecomp(1.0 * a, tol)\n",
    "    \n",
    "    for i in range(n):\n",
    "        aInv[:, i] = LUsolve_pre(aa, aInv[:, i], seq)\n",
    "    return aInv "
   ]
  },
  {
   "cell_type": "code",
   "execution_count": 52,
   "metadata": {
    "tags": []
   },
   "outputs": [],
   "source": [
    "Ainv = matInv(A)"
   ]
  },
  {
   "cell_type": "code",
   "execution_count": 53,
   "metadata": {
    "tags": []
   },
   "outputs": [
    {
     "data": {
      "text/plain": [
       "array([[ 85.8333333,  85.3333333,  42.5      , -14.       ,  -6.       ],\n",
       "       [ 85.3333333,  85.3333333,  42.5      , -14.       ,  -6.       ],\n",
       "       [ 42.5      ,  42.5      ,  21.25     ,  -7.       ,  -3.       ],\n",
       "       [-14.       , -14.       ,  -7.       ,   2.3333333,   1.       ],\n",
       "       [ -6.       ,  -6.       ,  -3.       ,   1.       ,   0.5      ]])"
      ]
     },
     "execution_count": 53,
     "metadata": {},
     "output_type": "execute_result"
    }
   ],
   "source": [
    "myprint(Ainv)"
   ]
  },
  {
   "cell_type": "code",
   "execution_count": 54,
   "metadata": {
    "tags": []
   },
   "outputs": [
    {
     "data": {
      "text/plain": [
       "True"
      ]
     },
     "execution_count": 54,
     "metadata": {},
     "output_type": "execute_result"
    }
   ],
   "source": [
    "np.allclose(Ainv@A, np.eye(5))"
   ]
  },
  {
   "cell_type": "code",
   "execution_count": 55,
   "metadata": {
    "tags": []
   },
   "outputs": [
    {
     "data": {
      "text/plain": [
       "array([[ 1.,  0., -0.,  0., -0.],\n",
       "       [ 0.,  1., -0.,  0., -0.],\n",
       "       [ 0.,  0.,  1.,  0., -0.],\n",
       "       [ 0.,  0., -0.,  1.,  0.],\n",
       "       [ 0.,  0., -0.,  0.,  1.]])"
      ]
     },
     "execution_count": 55,
     "metadata": {},
     "output_type": "execute_result"
    }
   ],
   "source": [
    "myprint(Ainv@A)"
   ]
  },
  {
   "cell_type": "code",
   "execution_count": 56,
   "metadata": {
    "tags": []
   },
   "outputs": [],
   "source": [
    "def vandermonde(v):\n",
    "    \"\"\"a = vandermonde(v)\n",
    "       입력 벡터 v에 대해 a[i,j]=v[i]**j인 행렬 a를 반환하는 함수\"\"\"\n",
    "    n = len(v)\n",
    "    a = np.zeros((n,n))\n",
    "    for j in range(n):\n",
    "        a[:,j] = v**j\n",
    "    return a"
   ]
  },
  {
   "cell_type": "code",
   "execution_count": 57,
   "metadata": {
    "tags": []
   },
   "outputs": [],
   "source": [
    "VM = vandermonde(np.array([2,4,6,8,10]))"
   ]
  },
  {
   "cell_type": "code",
   "execution_count": 58,
   "metadata": {
    "tags": []
   },
   "outputs": [
    {
     "data": {
      "text/plain": [
       "array([[1.000e+00, 2.000e+00, 4.000e+00, 8.000e+00, 1.600e+01],\n",
       "       [1.000e+00, 4.000e+00, 1.600e+01, 6.400e+01, 2.560e+02],\n",
       "       [1.000e+00, 6.000e+00, 3.600e+01, 2.160e+02, 1.296e+03],\n",
       "       [1.000e+00, 8.000e+00, 6.400e+01, 5.120e+02, 4.096e+03],\n",
       "       [1.000e+00, 1.000e+01, 1.000e+02, 1.000e+03, 1.000e+04]])"
      ]
     },
     "execution_count": 58,
     "metadata": {},
     "output_type": "execute_result"
    }
   ],
   "source": [
    "myprint(VM)"
   ]
  },
  {
   "cell_type": "code",
   "execution_count": 59,
   "metadata": {
    "tags": []
   },
   "outputs": [],
   "source": [
    "VMinv = matInv(VM)"
   ]
  },
  {
   "cell_type": "code",
   "execution_count": 60,
   "metadata": {
    "tags": []
   },
   "outputs": [
    {
     "data": {
      "text/plain": [
       "array([[ 5.000e+00, -1.000e+01,  1.000e+01, -5.000e+00,  1.000e+00],\n",
       "       [-3.208e+00,  8.917e+00, -9.750e+00,  5.083e+00, -1.042e+00],\n",
       "       [ 7.400e-01, -2.458e+00,  3.062e+00, -1.708e+00,  3.650e-01],\n",
       "       [-7.300e-02,  2.710e-01, -3.750e-01,  2.290e-01, -5.200e-02],\n",
       "       [ 3.000e-03, -1.000e-02,  1.600e-02, -1.000e-02,  3.000e-03]])"
      ]
     },
     "execution_count": 60,
     "metadata": {},
     "output_type": "execute_result"
    }
   ],
   "source": [
    "myprint(VMinv,tol=1.e-3)"
   ]
  },
  {
   "cell_type": "code",
   "execution_count": 61,
   "metadata": {
    "tags": []
   },
   "outputs": [
    {
     "data": {
      "text/plain": [
       "array([[ 1., -0., -0., -0., -0.],\n",
       "       [ 0.,  1.,  0.,  0.,  0.],\n",
       "       [-0., -0.,  1., -0., -0.],\n",
       "       [-0., -0., -0.,  1., -0.],\n",
       "       [ 0.,  0.,  0.,  0.,  1.]])"
      ]
     },
     "execution_count": 61,
     "metadata": {},
     "output_type": "execute_result"
    }
   ],
   "source": [
    "myprint(VMinv@VM)"
   ]
  },
  {
   "cell_type": "markdown",
   "metadata": {},
   "source": [
    "### LU 분해를 이용한 행렬식 계산"
   ]
  },
  {
   "cell_type": "code",
   "execution_count": 62,
   "metadata": {
    "tags": []
   },
   "outputs": [],
   "source": [
    "def sgn(perm):\n",
    "    perm = np.asarray(perm)\n",
    "    n = len(perm)\n",
    "    ctr = 0\n",
    "    for i in range(n):\n",
    "        ctr += (perm[: list(perm).index(i)]>i).sum()\n",
    "    return -1 if (ctr % 2) else 1  "
   ]
  },
  {
   "cell_type": "code",
   "execution_count": 63,
   "metadata": {
    "tags": []
   },
   "outputs": [
    {
     "data": {
      "text/plain": [
       "(1, -1, -1)"
      ]
     },
     "execution_count": 63,
     "metadata": {},
     "output_type": "execute_result"
    }
   ],
   "source": [
    "sgn([0,1]),sgn([1,0]),sgn([1,3,0,2])"
   ]
  },
  {
   "cell_type": "code",
   "execution_count": 64,
   "metadata": {
    "tags": []
   },
   "outputs": [],
   "source": [
    "def matDet(a):\n",
    "    aa, seq = LUdecomp(1.0 *a)\n",
    "    return np.prod(np.diag(aa)) * sgn(seq)"
   ]
  },
  {
   "cell_type": "code",
   "execution_count": 65,
   "metadata": {
    "tags": []
   },
   "outputs": [
    {
     "data": {
      "text/plain": [
       "294912.0"
      ]
     },
     "execution_count": 65,
     "metadata": {},
     "output_type": "execute_result"
    }
   ],
   "source": [
    "matDet(VM)"
   ]
  },
  {
   "cell_type": "code",
   "execution_count": 66,
   "metadata": {
    "tags": []
   },
   "outputs": [],
   "source": [
    "temp = np.array([2,4,6,8,10])"
   ]
  },
  {
   "cell_type": "code",
   "execution_count": 67,
   "metadata": {
    "tags": []
   },
   "outputs": [
    {
     "data": {
      "text/plain": [
       "294912"
      ]
     },
     "execution_count": 67,
     "metadata": {},
     "output_type": "execute_result"
    }
   ],
   "source": [
    "# Vandermonde 행렬식 확인 \n",
    "res = 1\n",
    "for i in range(len(temp)):\n",
    "    for j in range(i+1,len(temp)):\n",
    "        res*=(temp[j]-temp[i])\n",
    "res"
   ]
  },
  {
   "cell_type": "markdown",
   "metadata": {},
   "source": [
    "# 과제물 \n",
    "\n",
    "### (1) 다음 조건을 만족하는 함수 LUdecompSym을 작성하시오. (15점)\n",
    "\n",
    "* $n\\times n$ 행렬 $A$가 대칭행렬일 때, $A = LDL^{\\rm T}$와 같이 분해하여 하삼각행렬 $L$과 대각행렬 $D$를 반환하는 함수 LUdecompSym(A)를 작성하시오.\n",
    "\n",
    "* 단, 함수를 실행시킨 후 입력 $A$는 변하지 않도록 작성해야 합니다. \n",
    "\n",
    "### (2) 다음 조건을 만족하는 Choleski 함수를 작성하시오. (15점)\n",
    "\n",
    "* $A$가 양의 정부호 행렬일 때, $A = LL^{\\rm T}$를 만족하는 하삼각행렬 $L$을 반환하는 함수 Choleski(A)를 작성하시오. \n",
    "\n",
    "* 단, 함수를 실행시킨 후 입력 $A$는 변하지 않도록 작성해야 합니다. "
   ]
  },
  {
   "cell_type": "code",
   "execution_count": null,
   "metadata": {},
   "outputs": [],
   "source": []
  }
 ],
 "metadata": {
  "kernelspec": {
   "display_name": "Python 3 (ipykernel)",
   "language": "python",
   "name": "python3"
  },
  "language_info": {
   "codemirror_mode": {
    "name": "ipython",
    "version": 3
   },
   "file_extension": ".py",
   "mimetype": "text/x-python",
   "name": "python",
   "nbconvert_exporter": "python",
   "pygments_lexer": "ipython3",
   "version": "3.11.4"
  }
 },
 "nbformat": 4,
 "nbformat_minor": 4
}
