{
 "cells": [
  {
   "cell_type": "markdown",
   "metadata": {},
   "source": [
    "###  지난 시간에 구현한 함수들을 다음과 같은 구조로 package를 만듦\n",
    "\n",
    "        myLA\n",
    "          |\n",
    "          |....  __init__.py\n",
    "          |\n",
    "          |....  util.py (myprint함수, sgn함수, myLU함수)\n",
    "          |....  swap.py (swapRows함수, swapCols함수)\n",
    "          |....  gaussPivot.py (gaussPivot함수)\n",
    "          |....  LUpivot.py (LUdecomp함수, LUsolve_pre함수, LUsolve함수, (matInv함수, matDet함수))\n",
    "\n"
   ]
  },
  {
   "cell_type": "code",
   "execution_count": 1,
   "metadata": {},
   "outputs": [],
   "source": [
    "import numpy as np\n",
    "from myLA.LUpivot import *\n",
    "import sys"
   ]
  },
  {
   "cell_type": "code",
   "execution_count": 2,
   "metadata": {},
   "outputs": [
    {
     "data": {
      "text/plain": [
       "['C:\\\\Users\\\\Kil-Chan Ha\\\\Documents\\\\Cal2020',\n",
       " 'C:\\\\Users\\\\Kil-Chan Ha\\\\.conda\\\\envs\\\\Cal2020\\\\python37.zip',\n",
       " 'C:\\\\Users\\\\Kil-Chan Ha\\\\.conda\\\\envs\\\\Cal2020\\\\DLLs',\n",
       " 'C:\\\\Users\\\\Kil-Chan Ha\\\\.conda\\\\envs\\\\Cal2020\\\\lib',\n",
       " 'C:\\\\Users\\\\Kil-Chan Ha\\\\.conda\\\\envs\\\\Cal2020',\n",
       " '',\n",
       " 'C:\\\\Users\\\\Kil-Chan Ha\\\\.conda\\\\envs\\\\Cal2020\\\\lib\\\\site-packages',\n",
       " 'C:\\\\Users\\\\Kil-Chan Ha\\\\.conda\\\\envs\\\\Cal2020\\\\lib\\\\site-packages\\\\win32',\n",
       " 'C:\\\\Users\\\\Kil-Chan Ha\\\\.conda\\\\envs\\\\Cal2020\\\\lib\\\\site-packages\\\\win32\\\\lib',\n",
       " 'C:\\\\Users\\\\Kil-Chan Ha\\\\.conda\\\\envs\\\\Cal2020\\\\lib\\\\site-packages\\\\Pythonwin',\n",
       " 'C:\\\\Users\\\\Kil-Chan Ha\\\\.conda\\\\envs\\\\Cal2020\\\\lib\\\\site-packages\\\\IPython\\\\extensions',\n",
       " 'C:\\\\Users\\\\Kil-Chan Ha\\\\.ipython']"
      ]
     },
     "execution_count": 2,
     "metadata": {},
     "output_type": "execute_result"
    }
   ],
   "source": [
    "sys.path"
   ]
  },
  {
   "cell_type": "markdown",
   "metadata": {},
   "source": [
    "### numpy의 보충 설명\n",
    "\n",
    "* np.allclose : np.allclose(a, b, rtol=1e-05, atol=1e-08, equal_nan=False)\n",
    "    - 각 성분별로 absolute(`a` - `b`) <= (`atol` + `rtol` * absolute(`b`)) 이면 True\n",
    "    \n",
    "* ndarray.diagonal : 주어진 2차원 배열 A의 A[i,i]성분들로 이루어진 1차원 배열 반환\n",
    "\n",
    "* np.diag : 입력이 2차원 배열이면 ndarray.diagnoal과 같은 효과, 입력이 1차원 배열이면 주어진 값을 대각성분으로 갖는 2차원 배열 반환\n",
    "\n",
    "* np.where : np.where(조건, x, y) 성분별로 조건이 참이면 x, 거짓이면 y가 되도록 배열을 반환\n",
    "\n",
    "* np.eye: np.eye(N, M=None, k=0, dtype=<class 'float'>, order='C')\n",
    "\n",
    "    - N,M이 다를 수 있고\n",
    "    - k값을 양수로 주면 주대각선 위의 대각선, 음수로 주면 주대각선 아래의 대각선에 1 \n",
    "    - np.identity(n)은 np.eye(n)과 동일"
   ]
  },
  {
   "cell_type": "code",
   "execution_count": 3,
   "metadata": {},
   "outputs": [
    {
     "data": {
      "text/plain": [
       "True"
      ]
     },
     "execution_count": 3,
     "metadata": {},
     "output_type": "execute_result"
    }
   ],
   "source": [
    "# np.allclose : np.allclose(a, b, rtol=1e-05, atol=1e-08, equal_nan=False)\n",
    "#   - 각 성분별로 absolute(`a` - `b`) <= (`atol` + `rtol` * absolute(`b`)) 이면 True\n",
    "\n",
    "np.allclose([1e10,1e-8], [1.00001e10,1e-9])"
   ]
  },
  {
   "cell_type": "code",
   "execution_count": 4,
   "metadata": {},
   "outputs": [
    {
     "name": "stdout",
     "output_type": "stream",
     "text": [
      "[[3 4 2]\n",
      " [1 2 5]\n",
      " [0 1 4]]\n",
      "\n",
      "[[1 2 3 4]\n",
      " [5 6 7 8]]\n"
     ]
    }
   ],
   "source": [
    "# ndarray.diagonal : 주어진 2차원 배열 A의 A[i,i]성분들로 이루어진 1차원 배열 반환\n",
    "\n",
    "A1 = np.array([[3,4,2],[1,2,5],[0,1,4]])\n",
    "A2 = np.array([[1,2,3,4],[5,6,7,8]])\n",
    "print(A1)\n",
    "print()\n",
    "print(A2)"
   ]
  },
  {
   "cell_type": "code",
   "execution_count": 5,
   "metadata": {},
   "outputs": [
    {
     "name": "stdout",
     "output_type": "stream",
     "text": [
      "[3 2 4]\n",
      "\n",
      "[1 6]\n"
     ]
    }
   ],
   "source": [
    "print(A1.diagonal())\n",
    "print()\n",
    "print(A2.diagonal())"
   ]
  },
  {
   "cell_type": "code",
   "execution_count": 6,
   "metadata": {},
   "outputs": [
    {
     "name": "stdout",
     "output_type": "stream",
     "text": [
      "[[1 0 0]\n",
      " [0 2 0]\n",
      " [0 0 3]]\n"
     ]
    }
   ],
   "source": [
    "#np.diag : 입력이 2차원 배열이면 ndarray.diagnoal과 같은 효과, 입력이 1차원 배열이면 주어진 값을 대각성분으로 갖는 2차원 배열 반환\n",
    "\n",
    "B = np.diag([1,2,3])\n",
    "print(B)"
   ]
  },
  {
   "cell_type": "code",
   "execution_count": 7,
   "metadata": {},
   "outputs": [
    {
     "data": {
      "text/plain": [
       "array([3, 2, 4])"
      ]
     },
     "execution_count": 7,
     "metadata": {},
     "output_type": "execute_result"
    }
   ],
   "source": [
    "np.diagonal(A1)"
   ]
  },
  {
   "cell_type": "code",
   "execution_count": 8,
   "metadata": {},
   "outputs": [],
   "source": [
    "# np.where : np.where(조건, x, y) 성분별로 조건이 참이면 x, 거짓이면 y가 되도록 배열을 반환\n",
    "\n",
    "upper = np.array([[True if i <=j else False for j in range(5)] for i in range(5)])"
   ]
  },
  {
   "cell_type": "code",
   "execution_count": 9,
   "metadata": {},
   "outputs": [
    {
     "data": {
      "text/plain": [
       "array([[ True,  True,  True,  True,  True],\n",
       "       [False,  True,  True,  True,  True],\n",
       "       [False, False,  True,  True,  True],\n",
       "       [False, False, False,  True,  True],\n",
       "       [False, False, False, False,  True]])"
      ]
     },
     "execution_count": 9,
     "metadata": {},
     "output_type": "execute_result"
    }
   ],
   "source": [
    "upper"
   ]
  },
  {
   "cell_type": "code",
   "execution_count": 10,
   "metadata": {},
   "outputs": [
    {
     "data": {
      "text/plain": [
       "array([[ 1,  2,  3,  4,  5],\n",
       "       [ 0,  7,  8,  9, 10],\n",
       "       [ 0,  0, 13, 14, 15],\n",
       "       [ 0,  0,  0, 19, 20],\n",
       "       [ 0,  0,  0,  0, 25]])"
      ]
     },
     "execution_count": 10,
     "metadata": {},
     "output_type": "execute_result"
    }
   ],
   "source": [
    "A = np.arange(1,26).reshape((5,5))\n",
    "np.where(upper, A, np.zeros_like(A))"
   ]
  },
  {
   "cell_type": "code",
   "execution_count": 11,
   "metadata": {},
   "outputs": [
    {
     "data": {
      "text/plain": [
       "array([[ 0,  0,  0,  0,  0],\n",
       "       [ 6,  0,  0,  0,  0],\n",
       "       [11, 12,  0,  0,  0],\n",
       "       [16, 17, 18,  0,  0],\n",
       "       [21, 22, 23, 24,  0]])"
      ]
     },
     "execution_count": 11,
     "metadata": {},
     "output_type": "execute_result"
    }
   ],
   "source": [
    "np.where(~upper, A, np.zeros_like(A))"
   ]
  },
  {
   "cell_type": "code",
   "execution_count": 12,
   "metadata": {},
   "outputs": [
    {
     "data": {
      "text/plain": [
       "array([[1., 0., 0.],\n",
       "       [0., 1., 0.],\n",
       "       [0., 0., 1.]])"
      ]
     },
     "execution_count": 12,
     "metadata": {},
     "output_type": "execute_result"
    }
   ],
   "source": [
    "np.eye(3)"
   ]
  },
  {
   "cell_type": "code",
   "execution_count": 13,
   "metadata": {},
   "outputs": [
    {
     "data": {
      "text/plain": [
       "array([[1., 0., 0.],\n",
       "       [0., 1., 0.],\n",
       "       [0., 0., 1.]])"
      ]
     },
     "execution_count": 13,
     "metadata": {},
     "output_type": "execute_result"
    }
   ],
   "source": [
    "np.identity(3)"
   ]
  },
  {
   "cell_type": "code",
   "execution_count": 14,
   "metadata": {},
   "outputs": [
    {
     "data": {
      "text/plain": [
       "array([[0., 1., 0., 0.],\n",
       "       [0., 0., 1., 0.],\n",
       "       [0., 0., 0., 1.]])"
      ]
     },
     "execution_count": 14,
     "metadata": {},
     "output_type": "execute_result"
    }
   ],
   "source": [
    "np.eye(3,4,k=1)"
   ]
  },
  {
   "cell_type": "code",
   "execution_count": 15,
   "metadata": {},
   "outputs": [
    {
     "data": {
      "text/plain": [
       "array([[0., 1., 0.],\n",
       "       [0., 0., 1.],\n",
       "       [0., 0., 0.]])"
      ]
     },
     "execution_count": 15,
     "metadata": {},
     "output_type": "execute_result"
    }
   ],
   "source": [
    "np.eye(3,k=1)"
   ]
  },
  {
   "cell_type": "code",
   "execution_count": 16,
   "metadata": {},
   "outputs": [
    {
     "data": {
      "text/plain": [
       "array([[0., 0., 0.],\n",
       "       [1., 0., 0.],\n",
       "       [0., 1., 0.]])"
      ]
     },
     "execution_count": 16,
     "metadata": {},
     "output_type": "execute_result"
    }
   ],
   "source": [
    "np.eye(3,k=-1)"
   ]
  },
  {
   "cell_type": "markdown",
   "metadata": {},
   "source": [
    "### 모듈로부터 LUsolve 읽어들여서 사용하기"
   ]
  },
  {
   "cell_type": "code",
   "execution_count": 17,
   "metadata": {},
   "outputs": [],
   "source": [
    "def myprint(A, tol=1.0e-7):\n",
    "    return np.round(A.copy() / tol)* tol"
   ]
  },
  {
   "cell_type": "code",
   "execution_count": 18,
   "metadata": {},
   "outputs": [],
   "source": [
    "def myLU(LU):\n",
    "    n = len(LU)\n",
    "    upper = np.array([[True if i <=j else False for j in range(5)] for i in range(5)])\n",
    "    U = np.where(upper, LU, np.zeros_like(LU))\n",
    "    L = np.where(~upper, LU, np.zeros_like(LU)) + np.eye(n)\n",
    "    return L, U"
   ]
  },
  {
   "cell_type": "code",
   "execution_count": 19,
   "metadata": {},
   "outputs": [],
   "source": [
    "A = np.array([[2, -2, 0, 0, 0],[-2, 5, -6, 0, 0], [0, -6, 16, 12, 0], [0, 0, 12, 39, -6], [0, 0, 0, -6, 14]])\n",
    "b = np.array([1, 0, 0, 0, 0])"
   ]
  },
  {
   "cell_type": "code",
   "execution_count": 20,
   "metadata": {},
   "outputs": [],
   "source": [
    "A1 = 1.0 * A.copy()\n",
    "b1 = 1.0 * b.copy()"
   ]
  },
  {
   "cell_type": "code",
   "execution_count": 21,
   "metadata": {},
   "outputs": [],
   "source": [
    "x = LUsolve(A1, b1)"
   ]
  },
  {
   "cell_type": "code",
   "execution_count": 22,
   "metadata": {},
   "outputs": [
    {
     "data": {
      "text/plain": [
       "array([ 85.8333333,  85.3333333,  42.5      , -14.       ,  -6.       ])"
      ]
     },
     "execution_count": 22,
     "metadata": {},
     "output_type": "execute_result"
    }
   ],
   "source": [
    "myprint(x)"
   ]
  },
  {
   "cell_type": "code",
   "execution_count": 23,
   "metadata": {},
   "outputs": [
    {
     "name": "stdout",
     "output_type": "stream",
     "text": [
      "[1.00000000e+00 2.84217094e-14 0.00000000e+00 2.84217094e-14\n",
      " 0.00000000e+00]\n"
     ]
    }
   ],
   "source": [
    "print(np.dot(A,x))"
   ]
  },
  {
   "cell_type": "code",
   "execution_count": 24,
   "metadata": {},
   "outputs": [
    {
     "data": {
      "text/plain": [
       "array([1., 0., 0., 0., 0.])"
      ]
     },
     "execution_count": 24,
     "metadata": {},
     "output_type": "execute_result"
    }
   ],
   "source": [
    "myprint(np.dot(A,x))"
   ]
  },
  {
   "cell_type": "code",
   "execution_count": 25,
   "metadata": {},
   "outputs": [
    {
     "data": {
      "text/plain": [
       "True"
      ]
     },
     "execution_count": 25,
     "metadata": {},
     "output_type": "execute_result"
    }
   ],
   "source": [
    "np.allclose(np.dot(A,x),b)"
   ]
  },
  {
   "cell_type": "code",
   "execution_count": 26,
   "metadata": {},
   "outputs": [],
   "source": [
    "LU, seq = LUdecomp(1.0*A.copy())"
   ]
  },
  {
   "cell_type": "code",
   "execution_count": 27,
   "metadata": {},
   "outputs": [],
   "source": [
    "AL, AU = myLU(LU)"
   ]
  },
  {
   "cell_type": "code",
   "execution_count": 28,
   "metadata": {},
   "outputs": [
    {
     "data": {
      "text/plain": [
       "array([[ 2, -2,  0,  0,  0],\n",
       "       [-2,  5, -6,  0,  0],\n",
       "       [ 0,  0, 12, 39, -6],\n",
       "       [ 0,  0,  0, -6, 14],\n",
       "       [ 0, -6, 16, 12,  0]])"
      ]
     },
     "execution_count": 28,
     "metadata": {},
     "output_type": "execute_result"
    }
   ],
   "source": [
    "A[seq,:]"
   ]
  },
  {
   "cell_type": "code",
   "execution_count": 29,
   "metadata": {},
   "outputs": [
    {
     "data": {
      "text/plain": [
       "array([[ 2., -2.,  0.,  0.,  0.],\n",
       "       [-2.,  5., -6.,  0.,  0.],\n",
       "       [ 0.,  0., 12., 39., -6.],\n",
       "       [ 0.,  0.,  0., -6., 14.],\n",
       "       [ 0., -6., 16., 12.,  0.]])"
      ]
     },
     "execution_count": 29,
     "metadata": {},
     "output_type": "execute_result"
    }
   ],
   "source": [
    "myprint(np.dot(AL, AU))    # PA = LU"
   ]
  },
  {
   "cell_type": "markdown",
   "metadata": {},
   "source": [
    "### LU 분해를 이용한 역행렬 구현"
   ]
  },
  {
   "cell_type": "code",
   "execution_count": 30,
   "metadata": {},
   "outputs": [],
   "source": [
    "def matInv(a, tol=1.0e-15):\n",
    "    n = len(a[0])\n",
    "    aInv = np.eye(n)\n",
    "    \n",
    "    aa, seq = LUdecomp(1.0 * a, tol)\n",
    "    \n",
    "    for i in range(n):\n",
    "        aInv[:, i] = LUsolve_pre(aa, aInv[:, i], seq)\n",
    "    return aInv "
   ]
  },
  {
   "cell_type": "code",
   "execution_count": 31,
   "metadata": {},
   "outputs": [],
   "source": [
    "Ainv = matInv(A)"
   ]
  },
  {
   "cell_type": "code",
   "execution_count": 32,
   "metadata": {},
   "outputs": [
    {
     "name": "stdout",
     "output_type": "stream",
     "text": [
      "[[ 85.83333333  85.33333333  42.5        -14.          -6.        ]\n",
      " [ 85.33333333  85.33333333  42.5        -14.          -6.        ]\n",
      " [ 42.5         42.5         21.25        -7.          -3.        ]\n",
      " [-14.         -14.          -7.           2.33333333   1.        ]\n",
      " [ -6.          -6.          -3.           1.           0.5       ]]\n"
     ]
    }
   ],
   "source": [
    "print(Ainv)"
   ]
  },
  {
   "cell_type": "code",
   "execution_count": 33,
   "metadata": {},
   "outputs": [
    {
     "name": "stdout",
     "output_type": "stream",
     "text": [
      "True\n"
     ]
    }
   ],
   "source": [
    "print(np.allclose(np.dot(A,Ainv), np.eye(5)))"
   ]
  },
  {
   "cell_type": "code",
   "execution_count": 34,
   "metadata": {},
   "outputs": [
    {
     "data": {
      "text/plain": [
       "array([[ 1.,  0.,  0.,  0.,  0.],\n",
       "       [ 0.,  1.,  0.,  0.,  0.],\n",
       "       [-0., -0.,  1., -0., -0.],\n",
       "       [ 0.,  0.,  0.,  1., -0.],\n",
       "       [-0., -0., -0.,  0.,  1.]])"
      ]
     },
     "execution_count": 34,
     "metadata": {},
     "output_type": "execute_result"
    }
   ],
   "source": [
    "myprint(np.dot(A,Ainv))"
   ]
  },
  {
   "cell_type": "code",
   "execution_count": 35,
   "metadata": {},
   "outputs": [],
   "source": [
    "def vandermonde(v):\n",
    "    \"\"\"a = vandermonde(v)\n",
    "       입력 벡터 v에 대해 a[i,j]=v[i]**(n-j-1)인 행렬 a를 반환하는 함수\"\"\"\n",
    "    n = len(v)\n",
    "    a = np.zeros((n,n))\n",
    "    for j in range(n):\n",
    "        a[:,j] = v**(n-j-1)\n",
    "    return a"
   ]
  },
  {
   "cell_type": "code",
   "execution_count": 36,
   "metadata": {},
   "outputs": [],
   "source": [
    "AA = vandermonde(np.array([1,3,5,7,9]))"
   ]
  },
  {
   "cell_type": "code",
   "execution_count": 37,
   "metadata": {},
   "outputs": [
    {
     "data": {
      "text/plain": [
       "array([[1.000e+00, 1.000e+00, 1.000e+00, 1.000e+00, 1.000e+00],\n",
       "       [8.100e+01, 2.700e+01, 9.000e+00, 3.000e+00, 1.000e+00],\n",
       "       [6.250e+02, 1.250e+02, 2.500e+01, 5.000e+00, 1.000e+00],\n",
       "       [2.401e+03, 3.430e+02, 4.900e+01, 7.000e+00, 1.000e+00],\n",
       "       [6.561e+03, 7.290e+02, 8.100e+01, 9.000e+00, 1.000e+00]])"
      ]
     },
     "execution_count": 37,
     "metadata": {},
     "output_type": "execute_result"
    }
   ],
   "source": [
    "myprint(AA)"
   ]
  },
  {
   "cell_type": "code",
   "execution_count": 38,
   "metadata": {},
   "outputs": [],
   "source": [
    "AAinv = matInv(AA*1.0)"
   ]
  },
  {
   "cell_type": "code",
   "execution_count": 39,
   "metadata": {},
   "outputs": [
    {
     "data": {
      "text/plain": [
       "array([[ 1.,  0.,  0.,  0.,  0.],\n",
       "       [ 0.,  1., -0.,  0., -0.],\n",
       "       [-0., -0.,  1.,  0.,  0.],\n",
       "       [ 0., -0., -0.,  1.,  0.],\n",
       "       [ 0., -0., -0.,  0.,  1.]])"
      ]
     },
     "execution_count": 39,
     "metadata": {},
     "output_type": "execute_result"
    }
   ],
   "source": [
    "myprint(np.dot(AA, AAinv))"
   ]
  },
  {
   "cell_type": "markdown",
   "metadata": {},
   "source": [
    "### LU 분해를 이용한 행렬식 계산"
   ]
  },
  {
   "cell_type": "code",
   "execution_count": 40,
   "metadata": {},
   "outputs": [
    {
     "data": {
      "text/plain": [
       "15"
      ]
     },
     "execution_count": 40,
     "metadata": {},
     "output_type": "execute_result"
    }
   ],
   "source": [
    "np.prod(np.array([1,3,5]))"
   ]
  },
  {
   "cell_type": "code",
   "execution_count": 41,
   "metadata": {},
   "outputs": [],
   "source": [
    "def sgn(perm):\n",
    "    n = len(perm)\n",
    "    ctr = 0\n",
    "    for i in range(n):\n",
    "        ctr += (perm[:list(perm).index(i)]>i).sum()\n",
    "    return -1 if (ctr % 2) else 1  "
   ]
  },
  {
   "cell_type": "code",
   "execution_count": 42,
   "metadata": {},
   "outputs": [],
   "source": [
    "def matDet(a):\n",
    "    aa, seq = LUdecomp(1.0 *a)\n",
    "    return np.prod(np.diag(aa)) * sgn(seq)"
   ]
  },
  {
   "cell_type": "code",
   "execution_count": 43,
   "metadata": {},
   "outputs": [
    {
     "name": "stdout",
     "output_type": "stream",
     "text": [
      "[[ 2 -2  0  0  0]\n",
      " [-2  5 -6  0  0]\n",
      " [ 0 -6 16 12  0]\n",
      " [ 0  0 12 39 -6]\n",
      " [ 0  0  0 -6 14]]\n"
     ]
    }
   ],
   "source": [
    "print(A)"
   ]
  },
  {
   "cell_type": "code",
   "execution_count": 44,
   "metadata": {},
   "outputs": [
    {
     "data": {
      "text/plain": [
       "143.9999999999999"
      ]
     },
     "execution_count": 44,
     "metadata": {},
     "output_type": "execute_result"
    }
   ],
   "source": [
    "matDet(A)"
   ]
  },
  {
   "cell_type": "markdown",
   "metadata": {},
   "source": [
    "# 과제물 \n",
    "\n",
    "### (1) 다음 조건을 만족하는 함수 LUdecompSym을 작성하시오. (15점)\n",
    "\n",
    "* $n\\times n$ 행렬 $A$가 대칭행렬일 때, $A = LDL^{\\rm T}$와 같이 분해하여 하삼각행렬 $L$과 대각행렬 $D$를 반환하는 함수 LUdecompSym(A)를 작성하시오.\n",
    "\n",
    "* 단, 함수를 실행시킨 후 입력 $A$는 변하지 않도록 작성해야 합니다. \n",
    "\n",
    "### (2) 다음 조건을 만족하는 Choleski 함수를 작성하시오. (15점)\n",
    "\n",
    "* $A$가 양의 정부호 행렬일 때, $A = LL^{\\rm T}$를 만족하는 하삼각행렬 $L$을 반환하는 함수 Choleski(A)를 작성하시오. \n",
    "\n",
    "* 단, 함수를 실행시킨 후 입력 $A$는 변하지 않도록 작성해야 합니다. "
   ]
  },
  {
   "cell_type": "code",
   "execution_count": 45,
   "metadata": {},
   "outputs": [],
   "source": [
    "?np.linalg"
   ]
  },
  {
   "cell_type": "code",
   "execution_count": 46,
   "metadata": {},
   "outputs": [
    {
     "data": {
      "text/plain": [
       "array([[ 85.8333333,  85.3333333,  42.5      , -14.       ,  -6.       ],\n",
       "       [ 85.3333333,  85.3333333,  42.5      , -14.       ,  -6.       ],\n",
       "       [ 42.5      ,  42.5      ,  21.25     ,  -7.       ,  -3.       ],\n",
       "       [-14.       , -14.       ,  -7.       ,   2.3333333,   1.       ],\n",
       "       [ -6.       ,  -6.       ,  -3.       ,   1.       ,   0.5      ]])"
      ]
     },
     "execution_count": 46,
     "metadata": {},
     "output_type": "execute_result"
    }
   ],
   "source": [
    "myprint(np.linalg.inv(A))"
   ]
  },
  {
   "cell_type": "code",
   "execution_count": null,
   "metadata": {},
   "outputs": [],
   "source": []
  },
  {
   "cell_type": "code",
   "execution_count": null,
   "metadata": {},
   "outputs": [],
   "source": []
  }
 ],
 "metadata": {
  "kernelspec": {
   "display_name": "Python 3",
   "language": "python",
   "name": "python3"
  },
  "language_info": {
   "codemirror_mode": {
    "name": "ipython",
    "version": 3
   },
   "file_extension": ".py",
   "mimetype": "text/x-python",
   "name": "python",
   "nbconvert_exporter": "python",
   "pygments_lexer": "ipython3",
   "version": "3.7.6"
  }
 },
 "nbformat": 4,
 "nbformat_minor": 4
}
