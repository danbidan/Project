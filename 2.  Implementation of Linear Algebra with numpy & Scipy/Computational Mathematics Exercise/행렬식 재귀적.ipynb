{
 "cells": [
  {
   "cell_type": "code",
   "execution_count": 1,
   "id": "93afb710-33ed-4600-9d58-c236de8fc1cf",
   "metadata": {
    "tags": []
   },
   "outputs": [],
   "source": [
    "# 이 코드를 실행시키시오. \n",
    "\n",
    "import numpy as np\n",
    "import matplotlib.pyplot as plt\n",
    "\n",
    "import matplotlib.image as mpimg"
   ]
  },
  {
   "cell_type": "markdown",
   "id": "2bb499cb-afe6-4163-b187-1718cc4d3f24",
   "metadata": {},
   "source": [
    "## <span style='color: blue'>문제</span>\n",
    "\n",
    "$n\\times n$ 행렬 $A=(a_{ij})$에서  $i$행과 $j$열을 제거한 $(n-1)\\times (n-1)$ 행렬을  $A_{\\setminus i, \\setminus j}$라 할 때, 행렬 $A$의 행렬식 $\\text{det}(A)$은 다음과 같이 재귀적으로 구할 수 있다. \n",
    "\n",
    "$$\\text{det}(A)=\\sum_{i=1}^n (-1)^{i+j}a_{ij}\\,\\text{det}(A_{\\setminus i,\\setminus j})\\quad (\\forall\\, j=1,\\cdots,n)$$\n",
    "\n",
    "또는 \n",
    "\n",
    "$$\\text{det}(A)=\\sum_{j=1}^n (-1)^{i+j}a_{ij}\\,\\text{det}(A_{\\setminus i,\\setminus j})\\quad (\\forall\\, j=1,\\cdots,n)$$\n",
    "\n",
    "- 파이썬에서 재귀적으로 함수를 정의하는 방법을 이용하여 shape가 (n,n)인 numpy.ndarray로 표현한 행렬의 행렬식을 구하는 함수 `det`를 작성하시오.  \n",
    ">- 단, 이 함수는 일반적인 경우 n이 10을 넘으면 아주 비효율적입니다.  \n",
    ">- 함수를 구현할 때, 성분에 0이 많으면 계산 시간이 감소하도록 작성하시오. "
   ]
  },
  {
   "cell_type": "code",
   "execution_count": 22,
   "id": "2b0e0748-406c-4881-b99b-b9775143d7fe",
   "metadata": {
    "tags": []
   },
   "outputs": [],
   "source": [
    "# 여기에 코드를 작성하시오. \n",
    "\n",
    "def det(mat):\n",
    "    n = mat.shape[0]\n",
    "    \n",
    "    if n ==1:\n",
    "        return mat[0,0]\n",
    "    if n==2:\n",
    "        return mat[0,0]*mat[1,1]-mat[0,1]*mat[1,0]\n",
    "    \n",
    "    result = 0\n",
    "    maxzero=-1\n",
    "    rowindex=0\n",
    "    for i in range(n):\n",
    "        count = sum(1 for x in mat[i] if x == 0)\n",
    "        if count > maxzero:\n",
    "            maxzero = count\n",
    "            row = i\n",
    "    for col in range(n):\n",
    "        if mat[row][col]==0:\n",
    "            continue\n",
    "            \n",
    "        sub_matrix = []\n",
    "        for i in range(n):\n",
    "            if i != row:\n",
    "                a = np.concatenate((mat[i, :col], mat[i, col+1:]))\n",
    "                sub_matrix.append(a)\n",
    "        sub_matrix = np.array(sub_matrix)\n",
    "        result+= ((-1) ** (row + col)) * mat[row][col] * det(sub_matrix)\n",
    "\n",
    "    return result\n",
    "            \n",
    "    "
   ]
  },
  {
   "cell_type": "code",
   "execution_count": 23,
   "id": "ecc0ac24-5f44-46c1-a81d-b810c74138b3",
   "metadata": {
    "tags": []
   },
   "outputs": [
    {
     "data": {
      "text/plain": [
       "0.005733064415390055"
      ]
     },
     "execution_count": 23,
     "metadata": {},
     "output_type": "execute_result"
    }
   ],
   "source": [
    "# 실행시켜 결과를 확인하시오. (정상적으로 작성했으면 1분 이내 결과가 나옴)\n",
    "\n",
    "np.random.seed(3)\n",
    "mat1 = np.random.rand(9,9)\n",
    "det(mat1)"
   ]
  },
  {
   "cell_type": "code",
   "execution_count": 24,
   "id": "241b4d05-2259-438e-b911-0ba92b225f6f",
   "metadata": {
    "tags": []
   },
   "outputs": [
    {
     "data": {
      "text/plain": [
       "(-11339, 40.521636962890625)"
      ]
     },
     "execution_count": 24,
     "metadata": {},
     "output_type": "execute_result"
    }
   ],
   "source": [
    "# 실행시켜 결과를 확인하시오. (정상적으로 작성했으면 40초 이내 결과가 나옴)\n",
    "\n",
    "np.random.seed(3)\n",
    "mat2 = np.random.randint(0,3,(13,13))\n",
    "\n",
    "import time\n",
    "start = time.time()\n",
    "res = det(mat2)\n",
    "(res, time.time() - start)"
   ]
  },
  {
   "cell_type": "code",
   "execution_count": null,
   "id": "1d2792a0-eeb2-4d2d-a6d7-7f418e5b2e9d",
   "metadata": {},
   "outputs": [],
   "source": []
  }
 ],
 "metadata": {
  "kernelspec": {
   "display_name": "Python 3 (ipykernel)",
   "language": "python",
   "name": "python3"
  },
  "language_info": {
   "codemirror_mode": {
    "name": "ipython",
    "version": 3
   },
   "file_extension": ".py",
   "mimetype": "text/x-python",
   "name": "python",
   "nbconvert_exporter": "python",
   "pygments_lexer": "ipython3",
   "version": "3.8.16"
  }
 },
 "nbformat": 4,
 "nbformat_minor": 5
}
